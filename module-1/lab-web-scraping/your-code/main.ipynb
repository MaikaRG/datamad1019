{
 "cells": [
  {
   "cell_type": "markdown",
   "metadata": {},
   "source": [
    "# Web Scraping Lab\n",
    "\n",
    "You will find in this notebook some scrapy exercises to practise your scraping skills.\n",
    "\n",
    "**Tips:**\n",
    "\n",
    "- Check the response status code for each request to ensure you have obtained the intended contennt.\n",
    "- Print the response text in each request to understand the kind of info you are getting and its format.\n",
    "- Check for patterns in the response text to extract the data/info requested in each question.\n",
    "- Visit each url and take a look at its source through Chrome DevTools. You'll need to identify the html tags, special class names etc. used for the html content you are expected to extract."
   ]
  },
  {
   "cell_type": "markdown",
   "metadata": {},
   "source": [
    "- [Requests library](http://docs.python-requests.org/en/master/#the-user-guide) documentation \n",
    "- [Beautiful Soup Doc](https://www.crummy.com/software/BeautifulSoup/bs4/doc/)\n",
    "- [Urllib](https://docs.python.org/3/library/urllib.html#module-urllib)\n",
    "- [re lib](https://docs.python.org/3/library/re.html)\n",
    "- [lxml lib](https://lxml.de/)\n",
    "- [Scrapy](https://scrapy.org/)\n",
    "- [List of HTTP status codes](https://en.wikipedia.org/wiki/List_of_HTTP_status_codes)\n",
    "- [HTML basics](http://www.simplehtmlguide.com/cheatsheet.php)\n",
    "- [CSS basics](https://www.cssbasics.com/#page_start)"
   ]
  },
  {
   "cell_type": "markdown",
   "metadata": {},
   "source": [
    "#### Below are the libraries and modules you may need. `requests`,  `BeautifulSoup` and `pandas` are imported for you. If you prefer to use additional libraries feel free to uncomment them."
   ]
  },
  {
   "cell_type": "code",
   "execution_count": 1,
   "metadata": {},
   "outputs": [],
   "source": [
    "import requests\n",
    "from bs4 import BeautifulSoup\n",
    "import pandas as pd\n",
    "# from pprint import pprint\n",
    "# from lxml import html\n",
    "# from lxml.html import fromstring\n",
    "# import urllib.request\n",
    "# from urllib.request import urlopen\n",
    "# import random\n",
    "# import re\n",
    "# import scrapy"
   ]
  },
  {
   "cell_type": "markdown",
   "metadata": {},
   "source": [
    "#### Download, parse (using BeautifulSoup), and print the content from the Trending Developers page from GitHub:"
   ]
  },
  {
   "cell_type": "code",
   "execution_count": 74,
   "metadata": {},
   "outputs": [],
   "source": [
    "# This is the url you will scrape in this exercise\n",
    "url = 'https://github.com/trending/developers'"
   ]
  },
  {
   "cell_type": "code",
   "execution_count": 90,
   "metadata": {},
   "outputs": [
    {
     "data": {
      "text/plain": [
       "'\\n\\n\\n\\n\\n\\n<!DOCTYPE html>\\n<html lang=\"en\">\\n  <head>\\n  '"
      ]
     },
     "execution_count": 90,
     "metadata": {},
     "output_type": "execute_result"
    }
   ],
   "source": [
    "#your code\n",
    "import requests\n",
    "res = requests.get(url)\n",
    "html = res.text\n",
    "html[:50]"
   ]
  },
  {
   "cell_type": "markdown",
   "metadata": {},
   "source": [
    "#### Display the names of the trending developers retrieved in the previous step.\n",
    "\n",
    "Your output should be a Python list of developer names. Each name should not contain any html tag.\n",
    "\n",
    "**Instructions:**\n",
    "\n",
    "1. Find out the html tag and class names used for the developer names. You can achieve this using Chrome DevTools.\n",
    "\n",
    "1. Use BeautifulSoup to extract all the html elements that contain the developer names.\n",
    "\n",
    "1. Use string manipulation techniques to replace whitespaces and linebreaks (i.e. `\\n`) in the *text* of each html element. Use a list to store the clean names.\n",
    "\n",
    "1. Print the list of names.\n",
    "\n",
    "Your output should look like below:\n",
    "\n",
    "```\n",
    "['trimstray (@trimstray)',\n",
    " 'joewalnes (JoeWalnes)',\n",
    " 'charlax (Charles-AxelDein)',\n",
    " 'ForrestKnight (ForrestKnight)',\n",
    " 'revery-ui (revery-ui)',\n",
    " 'alibaba (Alibaba)',\n",
    " 'Microsoft (Microsoft)',\n",
    " 'github (GitHub)',\n",
    " 'facebook (Facebook)',\n",
    " 'boazsegev (Bo)',\n",
    " 'google (Google)',\n",
    " 'cloudfetch',\n",
    " 'sindresorhus (SindreSorhus)',\n",
    " 'tensorflow',\n",
    " 'apache (TheApacheSoftwareFoundation)',\n",
    " 'DevonCrawford (DevonCrawford)',\n",
    " 'ARMmbed (ArmMbed)',\n",
    " 'vuejs (vuejs)',\n",
    " 'fastai (fast.ai)',\n",
    " 'QiShaoXuan (Qi)',\n",
    " 'joelparkerhenderson (JoelParkerHenderson)',\n",
    " 'torvalds (LinusTorvalds)',\n",
    " 'CyC2018',\n",
    " 'komeiji-satori (神楽坂覚々)',\n",
    " 'script-8']\n",
    " ```"
   ]
  },
  {
   "cell_type": "code",
   "execution_count": 93,
   "metadata": {},
   "outputs": [
    {
     "data": {
      "text/plain": [
       "[<a href=\"/blasten\">\n",
       "             Emmanuel Garcia\n",
       " </a>, <a href=\"/hugovk\">\n",
       "             Hugo van Kemenade\n",
       " </a>, <a href=\"/kblok\">\n",
       "             Darío Kondratiuk\n",
       " </a>, <a href=\"/SwampDragons\">\n",
       "             Megan Marsh\n",
       " </a>, <a href=\"/mgechev\">\n",
       "             Minko Gechev\n",
       " </a>, <a href=\"/williamFalcon\">\n",
       "             William Falcon\n",
       " </a>, <a href=\"/neuecc\">\n",
       "             Yoshifumi Kawai\n",
       " </a>, <a href=\"/Andarist\">\n",
       "             Mateusz Burzyński\n",
       " </a>, <a href=\"/SamVerschueren\">\n",
       "             Sam Verschueren\n",
       " </a>, <a href=\"/whyrusleeping\">\n",
       "             Whyrusleeping\n",
       " </a>, <a href=\"/SirVer\">\n",
       "             Holger Rapp\n",
       " </a>, <a href=\"/fzaninotto\">\n",
       "             Francois Zaninotto\n",
       " </a>, <a href=\"/DylanVann\">\n",
       "             Dylan Vann\n",
       " </a>, <a href=\"/miekg\">\n",
       "             Miek Gieben\n",
       " </a>, <a href=\"/schneems\">\n",
       "             Richard Schneeman\n",
       " </a>, <a href=\"/alecthomas\">\n",
       "             Alec Thomas\n",
       " </a>, <a href=\"/chenshuai2144\">\n",
       "             陈帅\n",
       " </a>, <a href=\"/beaufortfrancois\">\n",
       "             François Beaufort\n",
       " </a>, <a href=\"/tannerlinsley\">\n",
       "             Tanner Linsley\n",
       " </a>, <a href=\"/erikwijmans\">\n",
       "             Erik Wijmans\n",
       " </a>, <a href=\"/joshblum\">\n",
       "             Joshua Blum\n",
       " </a>, <a href=\"/gbbr\">\n",
       "             Gabriel Aszalos\n",
       " </a>, <a href=\"/rstacruz\">\n",
       "             Rico Sta. Cruz\n",
       " </a>, <a href=\"/DirectXMan12\">\n",
       "             Solly Ross\n",
       " </a>, <a href=\"/vinayak-mehta\">\n",
       "             Vinayak Mehta\n",
       " </a>]"
      ]
     },
     "execution_count": 93,
     "metadata": {},
     "output_type": "execute_result"
    }
   ],
   "source": [
    "soup = BeautifulSoup(html, 'html.parser')\n",
    "busq=soup.select('.h3 a')\n",
    "busq"
   ]
  },
  {
   "cell_type": "code",
   "execution_count": 97,
   "metadata": {},
   "outputs": [
    {
     "data": {
      "text/plain": [
       "['blasten',\n",
       " 'hugovk',\n",
       " 'kblok',\n",
       " 'SwampDragons',\n",
       " 'mgechev',\n",
       " 'williamFalcon',\n",
       " 'neuecc',\n",
       " 'Andarist',\n",
       " 'SamVerschueren',\n",
       " 'whyrusleeping',\n",
       " 'SirVer',\n",
       " 'fzaninotto',\n",
       " 'DylanVann',\n",
       " 'miekg',\n",
       " 'schneems',\n",
       " 'alecthomas',\n",
       " 'chenshuai2144',\n",
       " 'beaufortfrancois',\n",
       " 'tannerlinsley',\n",
       " 'erikwijmans',\n",
       " 'joshblum',\n",
       " 'gbbr',\n",
       " 'rstacruz',\n",
       " 'DirectXMan12',\n",
       " 'vinayak-mehta']"
      ]
     },
     "execution_count": 97,
     "metadata": {},
     "output_type": "execute_result"
    }
   ],
   "source": [
    "#your code\n",
    "nombres = []\n",
    "for e in busq:\n",
    "    href = e.get('href').strip(\"/\")\n",
    "    nombres.append(href)\n",
    "nombres"
   ]
  },
  {
   "cell_type": "code",
   "execution_count": 100,
   "metadata": {},
   "outputs": [
    {
     "data": {
      "text/plain": [
       "['Emmanuel Garcia',\n",
       " 'Hugo van Kemenade',\n",
       " 'Darío Kondratiuk',\n",
       " 'Megan Marsh',\n",
       " 'Minko Gechev',\n",
       " 'William Falcon',\n",
       " 'Yoshifumi Kawai',\n",
       " 'Mateusz Burzyński',\n",
       " 'Sam Verschueren',\n",
       " 'Whyrusleeping',\n",
       " 'Holger Rapp',\n",
       " 'Francois Zaninotto',\n",
       " 'Dylan Vann',\n",
       " 'Miek Gieben',\n",
       " 'Richard Schneeman',\n",
       " 'Alec Thomas',\n",
       " '陈帅',\n",
       " 'François Beaufort',\n",
       " 'Tanner Linsley',\n",
       " 'Erik Wijmans',\n",
       " 'Joshua Blum',\n",
       " 'Gabriel Aszalos',\n",
       " 'Rico Sta. Cruz',\n",
       " 'Solly Ross',\n",
       " 'Vinayak Mehta']"
      ]
     },
     "execution_count": 100,
     "metadata": {},
     "output_type": "execute_result"
    }
   ],
   "source": [
    "nombresApe=[]\n",
    "for e in busq:\n",
    "    e = e.text.strip()\n",
    "    nombresApe.append(e)\n",
    "nombresApe"
   ]
  },
  {
   "cell_type": "code",
   "execution_count": 112,
   "metadata": {},
   "outputs": [
    {
     "name": "stdout",
     "output_type": "stream",
     "text": [
      "[('Emmanuel Garcia', 'blasten'), ('Hugo van Kemenade', 'hugovk'), ('Darío Kondratiuk', 'kblok'), ('Megan Marsh', 'SwampDragons'), ('Minko Gechev', 'mgechev'), ('William Falcon', 'williamFalcon'), ('Yoshifumi Kawai', 'neuecc'), ('Mateusz Burzyński', 'Andarist'), ('Sam Verschueren', 'SamVerschueren'), ('Whyrusleeping', 'whyrusleeping'), ('Holger Rapp', 'SirVer'), ('Francois Zaninotto', 'fzaninotto'), ('Dylan Vann', 'DylanVann'), ('Miek Gieben', 'miekg'), ('Richard Schneeman', 'schneems'), ('Alec Thomas', 'alecthomas'), ('陈帅', 'chenshuai2144'), ('François Beaufort', 'beaufortfrancois'), ('Tanner Linsley', 'tannerlinsley'), ('Erik Wijmans', 'erikwijmans'), ('Joshua Blum', 'joshblum'), ('Gabriel Aszalos', 'gbbr'), ('Rico Sta. Cruz', 'rstacruz'), ('Solly Ross', 'DirectXMan12'), ('Vinayak Mehta', 'vinayak-mehta')]\n"
     ]
    }
   ],
   "source": [
    "gente=list(zip(nombresApe,nombres))\n",
    "print(gente)"
   ]
  },
  {
   "cell_type": "code",
   "execution_count": 122,
   "metadata": {},
   "outputs": [
    {
     "data": {
      "text/plain": [
       "['Emmanuel Garcia (blasten)',\n",
       " 'Hugo van Kemenade (hugovk)',\n",
       " 'Darío Kondratiuk (kblok)',\n",
       " 'Megan Marsh (SwampDragons)',\n",
       " 'Minko Gechev (mgechev)',\n",
       " 'William Falcon (williamFalcon)',\n",
       " 'Yoshifumi Kawai (neuecc)',\n",
       " 'Mateusz Burzyński (Andarist)',\n",
       " 'Sam Verschueren (SamVerschueren)',\n",
       " 'Whyrusleeping (whyrusleeping)',\n",
       " 'Holger Rapp (SirVer)',\n",
       " 'Francois Zaninotto (fzaninotto)',\n",
       " 'Dylan Vann (DylanVann)',\n",
       " 'Miek Gieben (miekg)',\n",
       " 'Richard Schneeman (schneems)',\n",
       " 'Alec Thomas (alecthomas)',\n",
       " '陈帅 (chenshuai2144)',\n",
       " 'François Beaufort (beaufortfrancois)',\n",
       " 'Tanner Linsley (tannerlinsley)',\n",
       " 'Erik Wijmans (erikwijmans)',\n",
       " 'Joshua Blum (joshblum)',\n",
       " 'Gabriel Aszalos (gbbr)',\n",
       " 'Rico Sta. Cruz (rstacruz)',\n",
       " 'Solly Ross (DirectXMan12)',\n",
       " 'Vinayak Mehta (vinayak-mehta)']"
      ]
     },
     "execution_count": 122,
     "metadata": {},
     "output_type": "execute_result"
    }
   ],
   "source": [
    "#listaNombres=[]\n",
    "#for e in gente:\n",
    "#    listaNombres.append(e[0]+\" (\"+e[1]+\")\")\n",
    "#listaNombres\n",
    "listaNombres = [\"{} ({})\".format(e[0],e[1]) for e in gente]\n",
    "listaNombres"
   ]
  },
  {
   "cell_type": "markdown",
   "metadata": {},
   "source": [
    "#### Display the trending Python repositories in GitHub\n",
    "\n",
    "The steps to solve this problem is similar to the previous one except that you need to find out the repository names instead of developer names."
   ]
  },
  {
   "cell_type": "code",
   "execution_count": 123,
   "metadata": {},
   "outputs": [],
   "source": [
    "# This is the url you will scrape in this exercise\n",
    "url = 'https://github.com/trending/python?since=daily'"
   ]
  },
  {
   "cell_type": "code",
   "execution_count": 125,
   "metadata": {},
   "outputs": [
    {
     "data": {
      "text/plain": [
       "'\\n\\n\\n\\n\\n\\n<!DOCTYPE html>\\n<html lang=\"en\">\\n  <head>\\n  '"
      ]
     },
     "execution_count": 125,
     "metadata": {},
     "output_type": "execute_result"
    }
   ],
   "source": [
    "#your code\n",
    "res1 = requests.get(url)\n",
    "html1 = res1.text\n",
    "html1[:50]"
   ]
  },
  {
   "cell_type": "code",
   "execution_count": 126,
   "metadata": {
    "scrolled": false
   },
   "outputs": [
    {
     "data": {
      "text/plain": [
       "[<a href=\"/deezer/spleeter\">\n",
       " <svg aria-label=\"repo\" class=\"octicon octicon-repo mr-1 text-gray\" height=\"16\" role=\"img\" version=\"1.1\" viewbox=\"0 0 12 16\" width=\"12\"><path d=\"M4 9H3V8h1v1zm0-3H3v1h1V6zm0-2H3v1h1V4zm0-2H3v1h1V2zm8-1v12c0 .55-.45 1-1 1H6v2l-1.5-1.5L3 16v-2H1c-.55 0-1-.45-1-1V1c0-.55.45-1 1-1h10c.55 0 1 .45 1 1zm-1 10H1v2h2v-1h3v1h5v-2zm0-10H2v9h9V1z\" fill-rule=\"evenodd\"></path></svg>\n",
       " <span class=\"text-normal\">\n",
       "         deezer /\n",
       " </span>\n",
       " \n",
       " \n",
       "       spleeter\n",
       " </a>, <a href=\"/openai/gpt-2\">\n",
       " <svg aria-label=\"repo\" class=\"octicon octicon-repo mr-1 text-gray\" height=\"16\" role=\"img\" version=\"1.1\" viewbox=\"0 0 12 16\" width=\"12\"><path d=\"M4 9H3V8h1v1zm0-3H3v1h1V6zm0-2H3v1h1V4zm0-2H3v1h1V2zm8-1v12c0 .55-.45 1-1 1H6v2l-1.5-1.5L3 16v-2H1c-.55 0-1-.45-1-1V1c0-.55.45-1 1-1h10c.55 0 1 .45 1 1zm-1 10H1v2h2v-1h3v1h5v-2zm0-10H2v9h9V1z\" fill-rule=\"evenodd\"></path></svg>\n",
       " <span class=\"text-normal\">\n",
       "         openai /\n",
       " </span>\n",
       " \n",
       " \n",
       "       gpt-2\n",
       " </a>, <a href=\"/PaddlePaddle/models\">\n",
       " <svg aria-label=\"repo\" class=\"octicon octicon-repo mr-1 text-gray\" height=\"16\" role=\"img\" version=\"1.1\" viewbox=\"0 0 12 16\" width=\"12\"><path d=\"M4 9H3V8h1v1zm0-3H3v1h1V6zm0-2H3v1h1V4zm0-2H3v1h1V2zm8-1v12c0 .55-.45 1-1 1H6v2l-1.5-1.5L3 16v-2H1c-.55 0-1-.45-1-1V1c0-.55.45-1 1-1h10c.55 0 1 .45 1 1zm-1 10H1v2h2v-1h3v1h5v-2zm0-10H2v9h9V1z\" fill-rule=\"evenodd\"></path></svg>\n",
       " <span class=\"text-normal\">\n",
       "         PaddlePaddle /\n",
       " </span>\n",
       " \n",
       " \n",
       "       models\n",
       " </a>, <a href=\"/0voice/interview_internal_reference\">\n",
       " <svg aria-label=\"repo\" class=\"octicon octicon-repo mr-1 text-gray\" height=\"16\" role=\"img\" version=\"1.1\" viewbox=\"0 0 12 16\" width=\"12\"><path d=\"M4 9H3V8h1v1zm0-3H3v1h1V6zm0-2H3v1h1V4zm0-2H3v1h1V2zm8-1v12c0 .55-.45 1-1 1H6v2l-1.5-1.5L3 16v-2H1c-.55 0-1-.45-1-1V1c0-.55.45-1 1-1h10c.55 0 1 .45 1 1zm-1 10H1v2h2v-1h3v1h5v-2zm0-10H2v9h9V1z\" fill-rule=\"evenodd\"></path></svg>\n",
       " <span class=\"text-normal\">\n",
       "         0voice /\n",
       " </span>\n",
       " \n",
       " \n",
       "       interview_internal_reference\n",
       " </a>, <a href=\"/kubernetes-client/python\">\n",
       " <svg aria-label=\"repo\" class=\"octicon octicon-repo mr-1 text-gray\" height=\"16\" role=\"img\" version=\"1.1\" viewbox=\"0 0 12 16\" width=\"12\"><path d=\"M4 9H3V8h1v1zm0-3H3v1h1V6zm0-2H3v1h1V4zm0-2H3v1h1V2zm8-1v12c0 .55-.45 1-1 1H6v2l-1.5-1.5L3 16v-2H1c-.55 0-1-.45-1-1V1c0-.55.45-1 1-1h10c.55 0 1 .45 1 1zm-1 10H1v2h2v-1h3v1h5v-2zm0-10H2v9h9V1z\" fill-rule=\"evenodd\"></path></svg>\n",
       " <span class=\"text-normal\">\n",
       "         kubernetes-client /\n",
       " </span>\n",
       " \n",
       " \n",
       "       python\n",
       " </a>, <a href=\"/svjan5/GNNs-for-NLP\">\n",
       " <svg aria-label=\"repo\" class=\"octicon octicon-repo mr-1 text-gray\" height=\"16\" role=\"img\" version=\"1.1\" viewbox=\"0 0 12 16\" width=\"12\"><path d=\"M4 9H3V8h1v1zm0-3H3v1h1V6zm0-2H3v1h1V4zm0-2H3v1h1V2zm8-1v12c0 .55-.45 1-1 1H6v2l-1.5-1.5L3 16v-2H1c-.55 0-1-.45-1-1V1c0-.55.45-1 1-1h10c.55 0 1 .45 1 1zm-1 10H1v2h2v-1h3v1h5v-2zm0-10H2v9h9V1z\" fill-rule=\"evenodd\"></path></svg>\n",
       " <span class=\"text-normal\">\n",
       "         svjan5 /\n",
       " </span>\n",
       " \n",
       " \n",
       "       GNNs-for-NLP\n",
       " </a>, <a href=\"/Linzaer/Ultra-Light-Fast-Generic-Face-Detector-1MB\">\n",
       " <svg aria-label=\"repo\" class=\"octicon octicon-repo mr-1 text-gray\" height=\"16\" role=\"img\" version=\"1.1\" viewbox=\"0 0 12 16\" width=\"12\"><path d=\"M4 9H3V8h1v1zm0-3H3v1h1V6zm0-2H3v1h1V4zm0-2H3v1h1V2zm8-1v12c0 .55-.45 1-1 1H6v2l-1.5-1.5L3 16v-2H1c-.55 0-1-.45-1-1V1c0-.55.45-1 1-1h10c.55 0 1 .45 1 1zm-1 10H1v2h2v-1h3v1h5v-2zm0-10H2v9h9V1z\" fill-rule=\"evenodd\"></path></svg>\n",
       " <span class=\"text-normal\">\n",
       "         Linzaer /\n",
       " </span>\n",
       " \n",
       " \n",
       "       Ultra-Light-Fast-Generic-Face-Detector-1MB\n",
       " </a>, <a href=\"/huggingface/transformers\">\n",
       " <svg aria-label=\"repo\" class=\"octicon octicon-repo mr-1 text-gray\" height=\"16\" role=\"img\" version=\"1.1\" viewbox=\"0 0 12 16\" width=\"12\"><path d=\"M4 9H3V8h1v1zm0-3H3v1h1V6zm0-2H3v1h1V4zm0-2H3v1h1V2zm8-1v12c0 .55-.45 1-1 1H6v2l-1.5-1.5L3 16v-2H1c-.55 0-1-.45-1-1V1c0-.55.45-1 1-1h10c.55 0 1 .45 1 1zm-1 10H1v2h2v-1h3v1h5v-2zm0-10H2v9h9V1z\" fill-rule=\"evenodd\"></path></svg>\n",
       " <span class=\"text-normal\">\n",
       "         huggingface /\n",
       " </span>\n",
       " \n",
       " \n",
       "       transformers\n",
       " </a>, <a href=\"/MalongTech/research-charnet\">\n",
       " <svg aria-label=\"repo\" class=\"octicon octicon-repo mr-1 text-gray\" height=\"16\" role=\"img\" version=\"1.1\" viewbox=\"0 0 12 16\" width=\"12\"><path d=\"M4 9H3V8h1v1zm0-3H3v1h1V6zm0-2H3v1h1V4zm0-2H3v1h1V2zm8-1v12c0 .55-.45 1-1 1H6v2l-1.5-1.5L3 16v-2H1c-.55 0-1-.45-1-1V1c0-.55.45-1 1-1h10c.55 0 1 .45 1 1zm-1 10H1v2h2v-1h3v1h5v-2zm0-10H2v9h9V1z\" fill-rule=\"evenodd\"></path></svg>\n",
       " <span class=\"text-normal\">\n",
       "         MalongTech /\n",
       " </span>\n",
       " \n",
       " \n",
       "       research-charnet\n",
       " </a>, <a href=\"/thorn-oss/perception\">\n",
       " <svg aria-label=\"repo\" class=\"octicon octicon-repo mr-1 text-gray\" height=\"16\" role=\"img\" version=\"1.1\" viewbox=\"0 0 12 16\" width=\"12\"><path d=\"M4 9H3V8h1v1zm0-3H3v1h1V6zm0-2H3v1h1V4zm0-2H3v1h1V2zm8-1v12c0 .55-.45 1-1 1H6v2l-1.5-1.5L3 16v-2H1c-.55 0-1-.45-1-1V1c0-.55.45-1 1-1h10c.55 0 1 .45 1 1zm-1 10H1v2h2v-1h3v1h5v-2zm0-10H2v9h9V1z\" fill-rule=\"evenodd\"></path></svg>\n",
       " <span class=\"text-normal\">\n",
       "         thorn-oss /\n",
       " </span>\n",
       " \n",
       " \n",
       "       perception\n",
       " </a>, <a href=\"/eastlakeside/interpy-zh\">\n",
       " <svg aria-label=\"repo\" class=\"octicon octicon-repo mr-1 text-gray\" height=\"16\" role=\"img\" version=\"1.1\" viewbox=\"0 0 12 16\" width=\"12\"><path d=\"M4 9H3V8h1v1zm0-3H3v1h1V6zm0-2H3v1h1V4zm0-2H3v1h1V2zm8-1v12c0 .55-.45 1-1 1H6v2l-1.5-1.5L3 16v-2H1c-.55 0-1-.45-1-1V1c0-.55.45-1 1-1h10c.55 0 1 .45 1 1zm-1 10H1v2h2v-1h3v1h5v-2zm0-10H2v9h9V1z\" fill-rule=\"evenodd\"></path></svg>\n",
       " <span class=\"text-normal\">\n",
       "         eastlakeside /\n",
       " </span>\n",
       " \n",
       " \n",
       "       interpy-zh\n",
       " </a>, <a href=\"/Azure/azure-cli\">\n",
       " <svg aria-label=\"repo\" class=\"octicon octicon-repo mr-1 text-gray\" height=\"16\" role=\"img\" version=\"1.1\" viewbox=\"0 0 12 16\" width=\"12\"><path d=\"M4 9H3V8h1v1zm0-3H3v1h1V6zm0-2H3v1h1V4zm0-2H3v1h1V2zm8-1v12c0 .55-.45 1-1 1H6v2l-1.5-1.5L3 16v-2H1c-.55 0-1-.45-1-1V1c0-.55.45-1 1-1h10c.55 0 1 .45 1 1zm-1 10H1v2h2v-1h3v1h5v-2zm0-10H2v9h9V1z\" fill-rule=\"evenodd\"></path></svg>\n",
       " <span class=\"text-normal\">\n",
       "         Azure /\n",
       " </span>\n",
       " \n",
       " \n",
       "       azure-cli\n",
       " </a>, <a href=\"/encode/django-rest-framework\">\n",
       " <svg aria-label=\"repo\" class=\"octicon octicon-repo mr-1 text-gray\" height=\"16\" role=\"img\" version=\"1.1\" viewbox=\"0 0 12 16\" width=\"12\"><path d=\"M4 9H3V8h1v1zm0-3H3v1h1V6zm0-2H3v1h1V4zm0-2H3v1h1V2zm8-1v12c0 .55-.45 1-1 1H6v2l-1.5-1.5L3 16v-2H1c-.55 0-1-.45-1-1V1c0-.55.45-1 1-1h10c.55 0 1 .45 1 1zm-1 10H1v2h2v-1h3v1h5v-2zm0-10H2v9h9V1z\" fill-rule=\"evenodd\"></path></svg>\n",
       " <span class=\"text-normal\">\n",
       "         encode /\n",
       " </span>\n",
       " \n",
       " \n",
       "       django-rest-framework\n",
       " </a>, <a href=\"/wangzheng0822/algo\">\n",
       " <svg aria-label=\"repo\" class=\"octicon octicon-repo mr-1 text-gray\" height=\"16\" role=\"img\" version=\"1.1\" viewbox=\"0 0 12 16\" width=\"12\"><path d=\"M4 9H3V8h1v1zm0-3H3v1h1V6zm0-2H3v1h1V4zm0-2H3v1h1V2zm8-1v12c0 .55-.45 1-1 1H6v2l-1.5-1.5L3 16v-2H1c-.55 0-1-.45-1-1V1c0-.55.45-1 1-1h10c.55 0 1 .45 1 1zm-1 10H1v2h2v-1h3v1h5v-2zm0-10H2v9h9V1z\" fill-rule=\"evenodd\"></path></svg>\n",
       " <span class=\"text-normal\">\n",
       "         wangzheng0822 /\n",
       " </span>\n",
       " \n",
       " \n",
       "       algo\n",
       " </a>, <a href=\"/marshmallow-code/marshmallow\">\n",
       " <svg aria-label=\"repo\" class=\"octicon octicon-repo mr-1 text-gray\" height=\"16\" role=\"img\" version=\"1.1\" viewbox=\"0 0 12 16\" width=\"12\"><path d=\"M4 9H3V8h1v1zm0-3H3v1h1V6zm0-2H3v1h1V4zm0-2H3v1h1V2zm8-1v12c0 .55-.45 1-1 1H6v2l-1.5-1.5L3 16v-2H1c-.55 0-1-.45-1-1V1c0-.55.45-1 1-1h10c.55 0 1 .45 1 1zm-1 10H1v2h2v-1h3v1h5v-2zm0-10H2v9h9V1z\" fill-rule=\"evenodd\"></path></svg>\n",
       " <span class=\"text-normal\">\n",
       "         marshmallow-code /\n",
       " </span>\n",
       " \n",
       " \n",
       "       marshmallow\n",
       " </a>, <a href=\"/tensorflow/models\">\n",
       " <svg aria-label=\"repo\" class=\"octicon octicon-repo mr-1 text-gray\" height=\"16\" role=\"img\" version=\"1.1\" viewbox=\"0 0 12 16\" width=\"12\"><path d=\"M4 9H3V8h1v1zm0-3H3v1h1V6zm0-2H3v1h1V4zm0-2H3v1h1V2zm8-1v12c0 .55-.45 1-1 1H6v2l-1.5-1.5L3 16v-2H1c-.55 0-1-.45-1-1V1c0-.55.45-1 1-1h10c.55 0 1 .45 1 1zm-1 10H1v2h2v-1h3v1h5v-2zm0-10H2v9h9V1z\" fill-rule=\"evenodd\"></path></svg>\n",
       " <span class=\"text-normal\">\n",
       "         tensorflow /\n",
       " </span>\n",
       " \n",
       " \n",
       "       models\n",
       " </a>, <a href=\"/momika233/ClamAV_0Day_exploit\">\n",
       " <svg aria-label=\"repo\" class=\"octicon octicon-repo mr-1 text-gray\" height=\"16\" role=\"img\" version=\"1.1\" viewbox=\"0 0 12 16\" width=\"12\"><path d=\"M4 9H3V8h1v1zm0-3H3v1h1V6zm0-2H3v1h1V4zm0-2H3v1h1V2zm8-1v12c0 .55-.45 1-1 1H6v2l-1.5-1.5L3 16v-2H1c-.55 0-1-.45-1-1V1c0-.55.45-1 1-1h10c.55 0 1 .45 1 1zm-1 10H1v2h2v-1h3v1h5v-2zm0-10H2v9h9V1z\" fill-rule=\"evenodd\"></path></svg>\n",
       " <span class=\"text-normal\">\n",
       "         momika233 /\n",
       " </span>\n",
       " \n",
       " \n",
       "       ClamAV_0Day_exploit\n",
       " </a>, <a href=\"/zihangdai/xlnet\">\n",
       " <svg aria-label=\"repo\" class=\"octicon octicon-repo mr-1 text-gray\" height=\"16\" role=\"img\" version=\"1.1\" viewbox=\"0 0 12 16\" width=\"12\"><path d=\"M4 9H3V8h1v1zm0-3H3v1h1V6zm0-2H3v1h1V4zm0-2H3v1h1V2zm8-1v12c0 .55-.45 1-1 1H6v2l-1.5-1.5L3 16v-2H1c-.55 0-1-.45-1-1V1c0-.55.45-1 1-1h10c.55 0 1 .45 1 1zm-1 10H1v2h2v-1h3v1h5v-2zm0-10H2v9h9V1z\" fill-rule=\"evenodd\"></path></svg>\n",
       " <span class=\"text-normal\">\n",
       "         zihangdai /\n",
       " </span>\n",
       " \n",
       " \n",
       "       xlnet\n",
       " </a>, <a href=\"/sinovation/ZEN\">\n",
       " <svg aria-label=\"repo\" class=\"octicon octicon-repo mr-1 text-gray\" height=\"16\" role=\"img\" version=\"1.1\" viewbox=\"0 0 12 16\" width=\"12\"><path d=\"M4 9H3V8h1v1zm0-3H3v1h1V6zm0-2H3v1h1V4zm0-2H3v1h1V2zm8-1v12c0 .55-.45 1-1 1H6v2l-1.5-1.5L3 16v-2H1c-.55 0-1-.45-1-1V1c0-.55.45-1 1-1h10c.55 0 1 .45 1 1zm-1 10H1v2h2v-1h3v1h5v-2zm0-10H2v9h9V1z\" fill-rule=\"evenodd\"></path></svg>\n",
       " <span class=\"text-normal\">\n",
       "         sinovation /\n",
       " </span>\n",
       " \n",
       " \n",
       "       ZEN\n",
       " </a>, <a href=\"/shenweichen/DeepCTR\">\n",
       " <svg aria-label=\"repo\" class=\"octicon octicon-repo mr-1 text-gray\" height=\"16\" role=\"img\" version=\"1.1\" viewbox=\"0 0 12 16\" width=\"12\"><path d=\"M4 9H3V8h1v1zm0-3H3v1h1V6zm0-2H3v1h1V4zm0-2H3v1h1V2zm8-1v12c0 .55-.45 1-1 1H6v2l-1.5-1.5L3 16v-2H1c-.55 0-1-.45-1-1V1c0-.55.45-1 1-1h10c.55 0 1 .45 1 1zm-1 10H1v2h2v-1h3v1h5v-2zm0-10H2v9h9V1z\" fill-rule=\"evenodd\"></path></svg>\n",
       " <span class=\"text-normal\">\n",
       "         shenweichen /\n",
       " </span>\n",
       " \n",
       " \n",
       "       DeepCTR\n",
       " </a>, <a href=\"/google-research/bert\">\n",
       " <svg aria-label=\"repo\" class=\"octicon octicon-repo mr-1 text-gray\" height=\"16\" role=\"img\" version=\"1.1\" viewbox=\"0 0 12 16\" width=\"12\"><path d=\"M4 9H3V8h1v1zm0-3H3v1h1V6zm0-2H3v1h1V4zm0-2H3v1h1V2zm8-1v12c0 .55-.45 1-1 1H6v2l-1.5-1.5L3 16v-2H1c-.55 0-1-.45-1-1V1c0-.55.45-1 1-1h10c.55 0 1 .45 1 1zm-1 10H1v2h2v-1h3v1h5v-2zm0-10H2v9h9V1z\" fill-rule=\"evenodd\"></path></svg>\n",
       " <span class=\"text-normal\">\n",
       "         google-research /\n",
       " </span>\n",
       " \n",
       " \n",
       "       bert\n",
       " </a>, <a href=\"/geekcomputers/Python\">\n",
       " <svg aria-label=\"repo\" class=\"octicon octicon-repo mr-1 text-gray\" height=\"16\" role=\"img\" version=\"1.1\" viewbox=\"0 0 12 16\" width=\"12\"><path d=\"M4 9H3V8h1v1zm0-3H3v1h1V6zm0-2H3v1h1V4zm0-2H3v1h1V2zm8-1v12c0 .55-.45 1-1 1H6v2l-1.5-1.5L3 16v-2H1c-.55 0-1-.45-1-1V1c0-.55.45-1 1-1h10c.55 0 1 .45 1 1zm-1 10H1v2h2v-1h3v1h5v-2zm0-10H2v9h9V1z\" fill-rule=\"evenodd\"></path></svg>\n",
       " <span class=\"text-normal\">\n",
       "         geekcomputers /\n",
       " </span>\n",
       " \n",
       " \n",
       "       Python\n",
       " </a>, <a href=\"/facebookresearch/hydra\">\n",
       " <svg aria-label=\"repo\" class=\"octicon octicon-repo mr-1 text-gray\" height=\"16\" role=\"img\" version=\"1.1\" viewbox=\"0 0 12 16\" width=\"12\"><path d=\"M4 9H3V8h1v1zm0-3H3v1h1V6zm0-2H3v1h1V4zm0-2H3v1h1V2zm8-1v12c0 .55-.45 1-1 1H6v2l-1.5-1.5L3 16v-2H1c-.55 0-1-.45-1-1V1c0-.55.45-1 1-1h10c.55 0 1 .45 1 1zm-1 10H1v2h2v-1h3v1h5v-2zm0-10H2v9h9V1z\" fill-rule=\"evenodd\"></path></svg>\n",
       " <span class=\"text-normal\">\n",
       "         facebookresearch /\n",
       " </span>\n",
       " \n",
       " \n",
       "       hydra\n",
       " </a>, <a href=\"/encode/httpx\">\n",
       " <svg aria-label=\"repo\" class=\"octicon octicon-repo mr-1 text-gray\" height=\"16\" role=\"img\" version=\"1.1\" viewbox=\"0 0 12 16\" width=\"12\"><path d=\"M4 9H3V8h1v1zm0-3H3v1h1V6zm0-2H3v1h1V4zm0-2H3v1h1V2zm8-1v12c0 .55-.45 1-1 1H6v2l-1.5-1.5L3 16v-2H1c-.55 0-1-.45-1-1V1c0-.55.45-1 1-1h10c.55 0 1 .45 1 1zm-1 10H1v2h2v-1h3v1h5v-2zm0-10H2v9h9V1z\" fill-rule=\"evenodd\"></path></svg>\n",
       " <span class=\"text-normal\">\n",
       "         encode /\n",
       " </span>\n",
       " \n",
       " \n",
       "       httpx\n",
       " </a>, <a href=\"/charlesq34/pointnet2\">\n",
       " <svg aria-label=\"repo\" class=\"octicon octicon-repo mr-1 text-gray\" height=\"16\" role=\"img\" version=\"1.1\" viewbox=\"0 0 12 16\" width=\"12\"><path d=\"M4 9H3V8h1v1zm0-3H3v1h1V6zm0-2H3v1h1V4zm0-2H3v1h1V2zm8-1v12c0 .55-.45 1-1 1H6v2l-1.5-1.5L3 16v-2H1c-.55 0-1-.45-1-1V1c0-.55.45-1 1-1h10c.55 0 1 .45 1 1zm-1 10H1v2h2v-1h3v1h5v-2zm0-10H2v9h9V1z\" fill-rule=\"evenodd\"></path></svg>\n",
       " <span class=\"text-normal\">\n",
       "         charlesq34 /\n",
       " </span>\n",
       " \n",
       " \n",
       "       pointnet2\n",
       " </a>]"
      ]
     },
     "execution_count": 126,
     "metadata": {},
     "output_type": "execute_result"
    }
   ],
   "source": [
    "soup1 = BeautifulSoup(html1, 'html.parser')\n",
    "busq1=soup1.select('.h3 a')\n",
    "busq1"
   ]
  },
  {
   "cell_type": "code",
   "execution_count": 129,
   "metadata": {},
   "outputs": [
    {
     "data": {
      "text/plain": [
       "['deezer/spleeter',\n",
       " 'openai/gpt-2',\n",
       " 'PaddlePaddle/models',\n",
       " '0voice/interview_internal_reference',\n",
       " 'kubernetes-client/python',\n",
       " 'svjan5/GNNs-for-NLP',\n",
       " 'Linzaer/Ultra-Light-Fast-Generic-Face-Detector-1MB',\n",
       " 'huggingface/transformers',\n",
       " 'MalongTech/research-charnet',\n",
       " 'thorn-oss/perception',\n",
       " 'eastlakeside/interpy-zh',\n",
       " 'Azure/azure-cli',\n",
       " 'encode/django-rest-framework',\n",
       " 'wangzheng0822/algo',\n",
       " 'marshmallow-code/marshmallow',\n",
       " 'tensorflow/models',\n",
       " 'momika233/ClamAV_0Day_exploit',\n",
       " 'zihangdai/xlnet',\n",
       " 'sinovation/ZEN',\n",
       " 'shenweichen/DeepCTR',\n",
       " 'google-research/bert',\n",
       " 'geekcomputers/Python',\n",
       " 'facebookresearch/hydra',\n",
       " 'encode/httpx',\n",
       " 'charlesq34/pointnet2']"
      ]
     },
     "execution_count": 129,
     "metadata": {},
     "output_type": "execute_result"
    }
   ],
   "source": [
    "direcciones = []\n",
    "for e in busq1:\n",
    "    href1 = e.get('href').strip(\"/\")\n",
    "    direcciones.append(href1)\n",
    "direcciones"
   ]
  },
  {
   "cell_type": "markdown",
   "metadata": {},
   "source": [
    "#### Display all the image links from Walt Disney wikipedia page"
   ]
  },
  {
   "cell_type": "code",
   "execution_count": 130,
   "metadata": {},
   "outputs": [],
   "source": [
    "# This is the url you will scrape in this exercise\n",
    "url = 'https://en.wikipedia.org/wiki/Walt_Disney'"
   ]
  },
  {
   "cell_type": "code",
   "execution_count": 131,
   "metadata": {},
   "outputs": [
    {
     "data": {
      "text/plain": [
       "'<!DOCTYPE html>\\n<html class=\"client-nojs\" lang=\"en'"
      ]
     },
     "execution_count": 131,
     "metadata": {},
     "output_type": "execute_result"
    }
   ],
   "source": [
    "#your code\n",
    "res2 = requests.get(url)\n",
    "html2 = res2.text\n",
    "html2[:50]"
   ]
  },
  {
   "cell_type": "code",
   "execution_count": 157,
   "metadata": {},
   "outputs": [
    {
     "data": {
      "text/plain": [
       "[<img alt=\"Walt Disney 1946.JPG\" data-file-height=\"675\" data-file-width=\"450\" decoding=\"async\" height=\"330\" src=\"//upload.wikimedia.org/wikipedia/commons/thumb/d/df/Walt_Disney_1946.JPG/220px-Walt_Disney_1946.JPG\" srcset=\"//upload.wikimedia.org/wikipedia/commons/thumb/d/df/Walt_Disney_1946.JPG/330px-Walt_Disney_1946.JPG 1.5x, //upload.wikimedia.org/wikipedia/commons/thumb/d/df/Walt_Disney_1946.JPG/440px-Walt_Disney_1946.JPG 2x\" width=\"220\"/>,\n",
       " <img alt=\"Walt Disney 1942 signature.svg\" data-file-height=\"218\" data-file-width=\"585\" decoding=\"async\" height=\"56\" src=\"//upload.wikimedia.org/wikipedia/commons/thumb/8/87/Walt_Disney_1942_signature.svg/150px-Walt_Disney_1942_signature.svg.png\" srcset=\"//upload.wikimedia.org/wikipedia/commons/thumb/8/87/Walt_Disney_1942_signature.svg/225px-Walt_Disney_1942_signature.svg.png 1.5x, //upload.wikimedia.org/wikipedia/commons/thumb/8/87/Walt_Disney_1942_signature.svg/300px-Walt_Disney_1942_signature.svg.png 2x\" width=\"150\"/>,\n",
       " <img alt=\"\" class=\"thumbimage\" data-file-height=\"1086\" data-file-width=\"1576\" decoding=\"async\" height=\"152\" src=\"//upload.wikimedia.org/wikipedia/commons/thumb/c/c4/Walt_Disney_envelope_ca._1921.jpg/220px-Walt_Disney_envelope_ca._1921.jpg\" srcset=\"//upload.wikimedia.org/wikipedia/commons/thumb/c/c4/Walt_Disney_envelope_ca._1921.jpg/330px-Walt_Disney_envelope_ca._1921.jpg 1.5x, //upload.wikimedia.org/wikipedia/commons/thumb/c/c4/Walt_Disney_envelope_ca._1921.jpg/440px-Walt_Disney_envelope_ca._1921.jpg 2x\" width=\"220\"/>,\n",
       " <img alt=\"A cartoon rabbit is driving a tramcar; other cartoon rabbits are in, under, on and around the car.\" class=\"thumbimage\" data-file-height=\"1600\" data-file-width=\"1202\" decoding=\"async\" height=\"226\" src=\"//upload.wikimedia.org/wikipedia/commons/thumb/0/0d/Trolley_Troubles_poster.jpg/170px-Trolley_Troubles_poster.jpg\" srcset=\"//upload.wikimedia.org/wikipedia/commons/thumb/0/0d/Trolley_Troubles_poster.jpg/255px-Trolley_Troubles_poster.jpg 1.5x, //upload.wikimedia.org/wikipedia/commons/thumb/0/0d/Trolley_Troubles_poster.jpg/340px-Trolley_Troubles_poster.jpg 2x\" width=\"170\"/>,\n",
       " <img alt=\"Walt Disney with Mickey Mouse\" class=\"thumbimage\" data-file-height=\"1028\" data-file-width=\"915\" decoding=\"async\" height=\"191\" src=\"//upload.wikimedia.org/wikipedia/commons/thumb/7/71/Walt_Disney_and_his_cartoon_creation_%22Mickey_Mouse%22_-_National_Board_of_Review_Magazine.jpg/170px-Walt_Disney_and_his_cartoon_creation_%22Mickey_Mouse%22_-_National_Board_of_Review_Magazine.jpg\" srcset=\"//upload.wikimedia.org/wikipedia/commons/thumb/7/71/Walt_Disney_and_his_cartoon_creation_%22Mickey_Mouse%22_-_National_Board_of_Review_Magazine.jpg/255px-Walt_Disney_and_his_cartoon_creation_%22Mickey_Mouse%22_-_National_Board_of_Review_Magazine.jpg 1.5x, //upload.wikimedia.org/wikipedia/commons/thumb/7/71/Walt_Disney_and_his_cartoon_creation_%22Mickey_Mouse%22_-_National_Board_of_Review_Magazine.jpg/340px-Walt_Disney_and_his_cartoon_creation_%22Mickey_Mouse%22_-_National_Board_of_Review_Magazine.jpg 2x\" width=\"170\"/>,\n",
       " <img alt=\"A cartoon mouse is operating a ship's steering wheel\" class=\"thumbimage\" data-file-height=\"267\" data-file-width=\"373\" decoding=\"async\" height=\"122\" src=\"//upload.wikimedia.org/wikipedia/en/thumb/4/4e/Steamboat-willie.jpg/170px-Steamboat-willie.jpg\" srcset=\"//upload.wikimedia.org/wikipedia/en/thumb/4/4e/Steamboat-willie.jpg/255px-Steamboat-willie.jpg 1.5x, //upload.wikimedia.org/wikipedia/en/thumb/4/4e/Steamboat-willie.jpg/340px-Steamboat-willie.jpg 2x\" width=\"170\"/>,\n",
       " <img alt=\"\" class=\"thumbimage\" data-file-height=\"451\" data-file-width=\"358\" decoding=\"async\" height=\"214\" src=\"//upload.wikimedia.org/wikipedia/commons/thumb/5/57/Walt_Disney_1935.jpg/170px-Walt_Disney_1935.jpg\" srcset=\"//upload.wikimedia.org/wikipedia/commons/thumb/5/57/Walt_Disney_1935.jpg/255px-Walt_Disney_1935.jpg 1.5x, //upload.wikimedia.org/wikipedia/commons/thumb/5/57/Walt_Disney_1935.jpg/340px-Walt_Disney_1935.jpg 2x\" width=\"170\"/>,\n",
       " <img alt=\"Walt Disney sits in front of a set of models of the seven dwarfs\" class=\"thumbimage\" data-file-height=\"388\" data-file-width=\"500\" decoding=\"async\" height=\"171\" src=\"//upload.wikimedia.org/wikipedia/commons/thumb/c/cd/Walt_Disney_Snow_white_1937_trailer_screenshot_%2813%29.jpg/220px-Walt_Disney_Snow_white_1937_trailer_screenshot_%2813%29.jpg\" srcset=\"//upload.wikimedia.org/wikipedia/commons/thumb/c/cd/Walt_Disney_Snow_white_1937_trailer_screenshot_%2813%29.jpg/330px-Walt_Disney_Snow_white_1937_trailer_screenshot_%2813%29.jpg 1.5x, //upload.wikimedia.org/wikipedia/commons/thumb/c/cd/Walt_Disney_Snow_white_1937_trailer_screenshot_%2813%29.jpg/440px-Walt_Disney_Snow_white_1937_trailer_screenshot_%2813%29.jpg 2x\" width=\"220\"/>,\n",
       " <img alt=\"\" class=\"thumbimage\" data-file-height=\"770\" data-file-width=\"600\" decoding=\"async\" height=\"218\" src=\"//upload.wikimedia.org/wikipedia/commons/thumb/1/15/Disney_drawing_goofy.jpg/170px-Disney_drawing_goofy.jpg\" srcset=\"//upload.wikimedia.org/wikipedia/commons/thumb/1/15/Disney_drawing_goofy.jpg/255px-Disney_drawing_goofy.jpg 1.5x, //upload.wikimedia.org/wikipedia/commons/thumb/1/15/Disney_drawing_goofy.jpg/340px-Disney_drawing_goofy.jpg 2x\" width=\"170\"/>,\n",
       " <img alt=\"\" class=\"thumbimage\" data-file-height=\"2493\" data-file-width=\"3247\" decoding=\"async\" height=\"169\" src=\"//upload.wikimedia.org/wikipedia/commons/thumb/1/13/DisneySchiphol1951.jpg/220px-DisneySchiphol1951.jpg\" srcset=\"//upload.wikimedia.org/wikipedia/commons/thumb/1/13/DisneySchiphol1951.jpg/330px-DisneySchiphol1951.jpg 1.5x, //upload.wikimedia.org/wikipedia/commons/thumb/1/13/DisneySchiphol1951.jpg/440px-DisneySchiphol1951.jpg 2x\" width=\"220\"/>,\n",
       " <img alt=\"\" class=\"thumbimage\" data-file-height=\"2417\" data-file-width=\"2723\" decoding=\"async\" height=\"195\" src=\"//upload.wikimedia.org/wikipedia/commons/thumb/8/8c/WaltDisneyplansDisneylandDec1954.jpg/220px-WaltDisneyplansDisneylandDec1954.jpg\" srcset=\"//upload.wikimedia.org/wikipedia/commons/thumb/8/8c/WaltDisneyplansDisneylandDec1954.jpg/330px-WaltDisneyplansDisneylandDec1954.jpg 1.5x, //upload.wikimedia.org/wikipedia/commons/thumb/8/8c/WaltDisneyplansDisneylandDec1954.jpg/440px-WaltDisneyplansDisneylandDec1954.jpg 2x\" width=\"220\"/>,\n",
       " <img alt=\"\" class=\"thumbimage\" data-file-height=\"902\" data-file-width=\"667\" decoding=\"async\" height=\"230\" src=\"//upload.wikimedia.org/wikipedia/commons/thumb/f/ff/Walt_disney_portrait_right.jpg/170px-Walt_disney_portrait_right.jpg\" srcset=\"//upload.wikimedia.org/wikipedia/commons/thumb/f/ff/Walt_disney_portrait_right.jpg/255px-Walt_disney_portrait_right.jpg 1.5x, //upload.wikimedia.org/wikipedia/commons/thumb/f/ff/Walt_disney_portrait_right.jpg/340px-Walt_disney_portrait_right.jpg 2x\" width=\"170\"/>,\n",
       " <img alt=\"A gravestone inscribed 'Walter Elias Disney', 'Lillian Bounds Disney', 'Robert B. Brown', Sharon Disney Brown Lund ashes scattered in paradise'\" class=\"thumbimage\" data-file-height=\"1700\" data-file-width=\"1400\" decoding=\"async\" height=\"206\" src=\"//upload.wikimedia.org/wikipedia/commons/thumb/1/1a/Walt_Disney_Grave.JPG/170px-Walt_Disney_Grave.JPG\" srcset=\"//upload.wikimedia.org/wikipedia/commons/thumb/1/1a/Walt_Disney_Grave.JPG/255px-Walt_Disney_Grave.JPG 1.5x, //upload.wikimedia.org/wikipedia/commons/thumb/1/1a/Walt_Disney_Grave.JPG/340px-Walt_Disney_Grave.JPG 2x\" width=\"170\"/>,\n",
       " <img alt=\"\" class=\"thumbimage\" data-file-height=\"275\" data-file-width=\"220\" decoding=\"async\" height=\"213\" src=\"//upload.wikimedia.org/wikipedia/commons/thumb/2/2d/Roy_O._Disney_with_Company_at_Press_Conference.jpg/170px-Roy_O._Disney_with_Company_at_Press_Conference.jpg\" srcset=\"//upload.wikimedia.org/wikipedia/commons/2/2d/Roy_O._Disney_with_Company_at_Press_Conference.jpg 1.5x\" width=\"170\"/>,\n",
       " <img alt=\"\" class=\"thumbimage\" data-file-height=\"3025\" data-file-width=\"1927\" decoding=\"async\" height=\"267\" src=\"//upload.wikimedia.org/wikipedia/commons/thumb/a/a9/Disney_Display_Case.JPG/170px-Disney_Display_Case.JPG\" srcset=\"//upload.wikimedia.org/wikipedia/commons/thumb/a/a9/Disney_Display_Case.JPG/255px-Disney_Display_Case.JPG 1.5x, //upload.wikimedia.org/wikipedia/commons/thumb/a/a9/Disney_Display_Case.JPG/340px-Disney_Display_Case.JPG 2x\" width=\"170\"/>,\n",
       " <img alt=\"A portrait of Disney with cartoon representations of different nationalities on a 6 cent US stamp\" class=\"thumbimage\" data-file-height=\"286\" data-file-width=\"190\" decoding=\"async\" height=\"256\" src=\"//upload.wikimedia.org/wikipedia/commons/thumb/6/6c/Disney1968.jpg/170px-Disney1968.jpg\" srcset=\"//upload.wikimedia.org/wikipedia/commons/6/6c/Disney1968.jpg 1.5x\" width=\"170\"/>,\n",
       " <img alt=\"Animation disc.svg\" data-file-height=\"28\" data-file-width=\"30\" decoding=\"async\" height=\"28\" src=\"//upload.wikimedia.org/wikipedia/commons/thumb/d/da/Animation_disc.svg/30px-Animation_disc.svg.png\" srcset=\"//upload.wikimedia.org/wikipedia/commons/thumb/d/da/Animation_disc.svg/45px-Animation_disc.svg.png 1.5x, //upload.wikimedia.org/wikipedia/commons/thumb/d/da/Animation_disc.svg/60px-Animation_disc.svg.png 2x\" width=\"30\"/>,\n",
       " <img alt=\"P vip.svg\" data-file-height=\"1944\" data-file-width=\"1911\" decoding=\"async\" height=\"30\" src=\"//upload.wikimedia.org/wikipedia/en/thumb/6/69/P_vip.svg/29px-P_vip.svg.png\" srcset=\"//upload.wikimedia.org/wikipedia/en/thumb/6/69/P_vip.svg/44px-P_vip.svg.png 1.5x, //upload.wikimedia.org/wikipedia/en/thumb/6/69/P_vip.svg/59px-P_vip.svg.png 2x\" width=\"29\"/>,\n",
       " <img alt=\"Magic Kingdom castle.jpg\" data-file-height=\"1545\" data-file-width=\"1262\" decoding=\"async\" height=\"30\" src=\"//upload.wikimedia.org/wikipedia/commons/thumb/1/1a/Magic_Kingdom_castle.jpg/24px-Magic_Kingdom_castle.jpg\" srcset=\"//upload.wikimedia.org/wikipedia/commons/thumb/1/1a/Magic_Kingdom_castle.jpg/37px-Magic_Kingdom_castle.jpg 1.5x, //upload.wikimedia.org/wikipedia/commons/thumb/1/1a/Magic_Kingdom_castle.jpg/49px-Magic_Kingdom_castle.jpg 2x\" width=\"24\"/>,\n",
       " <img alt=\"Video-x-generic.svg\" data-file-height=\"48\" data-file-width=\"48\" decoding=\"async\" height=\"30\" src=\"//upload.wikimedia.org/wikipedia/en/thumb/e/e7/Video-x-generic.svg/30px-Video-x-generic.svg.png\" srcset=\"//upload.wikimedia.org/wikipedia/en/thumb/e/e7/Video-x-generic.svg/45px-Video-x-generic.svg.png 1.5x, //upload.wikimedia.org/wikipedia/en/thumb/e/e7/Video-x-generic.svg/60px-Video-x-generic.svg.png 2x\" width=\"30\"/>,\n",
       " <img alt=\"Flag of Los Angeles County, California.svg\" data-file-height=\"913\" data-file-width=\"1522\" decoding=\"async\" height=\"18\" src=\"//upload.wikimedia.org/wikipedia/commons/thumb/a/a3/Flag_of_Los_Angeles_County%2C_California.svg/30px-Flag_of_Los_Angeles_County%2C_California.svg.png\" srcset=\"//upload.wikimedia.org/wikipedia/commons/thumb/a/a3/Flag_of_Los_Angeles_County%2C_California.svg/45px-Flag_of_Los_Angeles_County%2C_California.svg.png 1.5x, //upload.wikimedia.org/wikipedia/commons/thumb/a/a3/Flag_of_Los_Angeles_County%2C_California.svg/60px-Flag_of_Los_Angeles_County%2C_California.svg.png 2x\" width=\"30\"/>,\n",
       " <img alt=\"Blank television set.svg\" data-file-height=\"92\" data-file-width=\"138\" decoding=\"async\" height=\"20\" src=\"//upload.wikimedia.org/wikipedia/commons/thumb/8/8c/Blank_television_set.svg/30px-Blank_television_set.svg.png\" srcset=\"//upload.wikimedia.org/wikipedia/commons/thumb/8/8c/Blank_television_set.svg/45px-Blank_television_set.svg.png 1.5x, //upload.wikimedia.org/wikipedia/commons/thumb/8/8c/Blank_television_set.svg/60px-Blank_television_set.svg.png 2x\" width=\"30\"/>,\n",
       " <img alt=\"Flag of the United States.svg\" data-file-height=\"650\" data-file-width=\"1235\" decoding=\"async\" height=\"16\" src=\"//upload.wikimedia.org/wikipedia/en/thumb/a/a4/Flag_of_the_United_States.svg/30px-Flag_of_the_United_States.svg.png\" srcset=\"//upload.wikimedia.org/wikipedia/en/thumb/a/a4/Flag_of_the_United_States.svg/45px-Flag_of_the_United_States.svg.png 1.5x, //upload.wikimedia.org/wikipedia/en/thumb/a/a4/Flag_of_the_United_States.svg/60px-Flag_of_the_United_States.svg.png 2x\" width=\"30\"/>]"
      ]
     },
     "execution_count": 157,
     "metadata": {},
     "output_type": "execute_result"
    }
   ],
   "source": [
    "soup2 = BeautifulSoup(html2, 'html.parser')\n",
    "busq2=soup2.select('.image img')\n",
    "busq2"
   ]
  },
  {
   "cell_type": "code",
   "execution_count": 150,
   "metadata": {},
   "outputs": [],
   "source": [
    "from IPython.display import Image\n",
    "from IPython.core.display import HTML "
   ]
  },
  {
   "cell_type": "code",
   "execution_count": 158,
   "metadata": {},
   "outputs": [
    {
     "data": {
      "text/plain": [
       "['//upload.wikimedia.org/wikipedia/commons/thumb/d/df/Walt_Disney_1946.JPG/220px-Walt_Disney_1946.JPG',\n",
       " '//upload.wikimedia.org/wikipedia/commons/thumb/8/87/Walt_Disney_1942_signature.svg/150px-Walt_Disney_1942_signature.svg.png',\n",
       " '//upload.wikimedia.org/wikipedia/commons/thumb/c/c4/Walt_Disney_envelope_ca._1921.jpg/220px-Walt_Disney_envelope_ca._1921.jpg',\n",
       " '//upload.wikimedia.org/wikipedia/commons/thumb/0/0d/Trolley_Troubles_poster.jpg/170px-Trolley_Troubles_poster.jpg',\n",
       " '//upload.wikimedia.org/wikipedia/commons/thumb/7/71/Walt_Disney_and_his_cartoon_creation_%22Mickey_Mouse%22_-_National_Board_of_Review_Magazine.jpg/170px-Walt_Disney_and_his_cartoon_creation_%22Mickey_Mouse%22_-_National_Board_of_Review_Magazine.jpg',\n",
       " '//upload.wikimedia.org/wikipedia/en/thumb/4/4e/Steamboat-willie.jpg/170px-Steamboat-willie.jpg',\n",
       " '//upload.wikimedia.org/wikipedia/commons/thumb/5/57/Walt_Disney_1935.jpg/170px-Walt_Disney_1935.jpg',\n",
       " '//upload.wikimedia.org/wikipedia/commons/thumb/c/cd/Walt_Disney_Snow_white_1937_trailer_screenshot_%2813%29.jpg/220px-Walt_Disney_Snow_white_1937_trailer_screenshot_%2813%29.jpg',\n",
       " '//upload.wikimedia.org/wikipedia/commons/thumb/1/15/Disney_drawing_goofy.jpg/170px-Disney_drawing_goofy.jpg',\n",
       " '//upload.wikimedia.org/wikipedia/commons/thumb/1/13/DisneySchiphol1951.jpg/220px-DisneySchiphol1951.jpg',\n",
       " '//upload.wikimedia.org/wikipedia/commons/thumb/8/8c/WaltDisneyplansDisneylandDec1954.jpg/220px-WaltDisneyplansDisneylandDec1954.jpg',\n",
       " '//upload.wikimedia.org/wikipedia/commons/thumb/f/ff/Walt_disney_portrait_right.jpg/170px-Walt_disney_portrait_right.jpg',\n",
       " '//upload.wikimedia.org/wikipedia/commons/thumb/1/1a/Walt_Disney_Grave.JPG/170px-Walt_Disney_Grave.JPG',\n",
       " '//upload.wikimedia.org/wikipedia/commons/thumb/2/2d/Roy_O._Disney_with_Company_at_Press_Conference.jpg/170px-Roy_O._Disney_with_Company_at_Press_Conference.jpg',\n",
       " '//upload.wikimedia.org/wikipedia/commons/thumb/a/a9/Disney_Display_Case.JPG/170px-Disney_Display_Case.JPG',\n",
       " '//upload.wikimedia.org/wikipedia/commons/thumb/6/6c/Disney1968.jpg/170px-Disney1968.jpg',\n",
       " '//upload.wikimedia.org/wikipedia/commons/thumb/d/da/Animation_disc.svg/30px-Animation_disc.svg.png',\n",
       " '//upload.wikimedia.org/wikipedia/en/thumb/6/69/P_vip.svg/29px-P_vip.svg.png',\n",
       " '//upload.wikimedia.org/wikipedia/commons/thumb/1/1a/Magic_Kingdom_castle.jpg/24px-Magic_Kingdom_castle.jpg',\n",
       " '//upload.wikimedia.org/wikipedia/en/thumb/e/e7/Video-x-generic.svg/30px-Video-x-generic.svg.png',\n",
       " '//upload.wikimedia.org/wikipedia/commons/thumb/a/a3/Flag_of_Los_Angeles_County%2C_California.svg/30px-Flag_of_Los_Angeles_County%2C_California.svg.png',\n",
       " '//upload.wikimedia.org/wikipedia/commons/thumb/8/8c/Blank_television_set.svg/30px-Blank_television_set.svg.png',\n",
       " '//upload.wikimedia.org/wikipedia/en/thumb/a/a4/Flag_of_the_United_States.svg/30px-Flag_of_the_United_States.svg.png']"
      ]
     },
     "execution_count": 158,
     "metadata": {},
     "output_type": "execute_result"
    }
   ],
   "source": [
    "imagen = []\n",
    "for e in busq2:\n",
    "    src = e.get('src')\n",
    "    imagen.append(src)\n",
    "imagen"
   ]
  },
  {
   "cell_type": "code",
   "execution_count": 161,
   "metadata": {},
   "outputs": [
    {
     "data": {
      "text/html": [
       "<img src=\"https://upload.wikimedia.org/wikipedia/commons/thumb/d/df/Walt_Disney_1946.JPG/220px-Walt_Disney_1946.JPG\"/>"
      ],
      "text/plain": [
       "<IPython.core.display.Image object>"
      ]
     },
     "metadata": {},
     "output_type": "display_data"
    },
    {
     "data": {
      "text/html": [
       "<img src=\"https://upload.wikimedia.org/wikipedia/commons/thumb/8/87/Walt_Disney_1942_signature.svg/150px-Walt_Disney_1942_signature.svg.png\"/>"
      ],
      "text/plain": [
       "<IPython.core.display.Image object>"
      ]
     },
     "metadata": {},
     "output_type": "display_data"
    },
    {
     "data": {
      "text/html": [
       "<img src=\"https://upload.wikimedia.org/wikipedia/commons/thumb/c/c4/Walt_Disney_envelope_ca._1921.jpg/220px-Walt_Disney_envelope_ca._1921.jpg\"/>"
      ],
      "text/plain": [
       "<IPython.core.display.Image object>"
      ]
     },
     "metadata": {},
     "output_type": "display_data"
    },
    {
     "data": {
      "text/html": [
       "<img src=\"https://upload.wikimedia.org/wikipedia/commons/thumb/0/0d/Trolley_Troubles_poster.jpg/170px-Trolley_Troubles_poster.jpg\"/>"
      ],
      "text/plain": [
       "<IPython.core.display.Image object>"
      ]
     },
     "metadata": {},
     "output_type": "display_data"
    },
    {
     "data": {
      "text/html": [
       "<img src=\"https://upload.wikimedia.org/wikipedia/commons/thumb/7/71/Walt_Disney_and_his_cartoon_creation_%22Mickey_Mouse%22_-_National_Board_of_Review_Magazine.jpg/170px-Walt_Disney_and_his_cartoon_creation_%22Mickey_Mouse%22_-_National_Board_of_Review_Magazine.jpg\"/>"
      ],
      "text/plain": [
       "<IPython.core.display.Image object>"
      ]
     },
     "metadata": {},
     "output_type": "display_data"
    },
    {
     "data": {
      "text/html": [
       "<img src=\"https://upload.wikimedia.org/wikipedia/en/thumb/4/4e/Steamboat-willie.jpg/170px-Steamboat-willie.jpg\"/>"
      ],
      "text/plain": [
       "<IPython.core.display.Image object>"
      ]
     },
     "metadata": {},
     "output_type": "display_data"
    },
    {
     "data": {
      "text/html": [
       "<img src=\"https://upload.wikimedia.org/wikipedia/commons/thumb/5/57/Walt_Disney_1935.jpg/170px-Walt_Disney_1935.jpg\"/>"
      ],
      "text/plain": [
       "<IPython.core.display.Image object>"
      ]
     },
     "metadata": {},
     "output_type": "display_data"
    },
    {
     "data": {
      "text/html": [
       "<img src=\"https://upload.wikimedia.org/wikipedia/commons/thumb/c/cd/Walt_Disney_Snow_white_1937_trailer_screenshot_%2813%29.jpg/220px-Walt_Disney_Snow_white_1937_trailer_screenshot_%2813%29.jpg\"/>"
      ],
      "text/plain": [
       "<IPython.core.display.Image object>"
      ]
     },
     "metadata": {},
     "output_type": "display_data"
    },
    {
     "data": {
      "text/html": [
       "<img src=\"https://upload.wikimedia.org/wikipedia/commons/thumb/1/15/Disney_drawing_goofy.jpg/170px-Disney_drawing_goofy.jpg\"/>"
      ],
      "text/plain": [
       "<IPython.core.display.Image object>"
      ]
     },
     "metadata": {},
     "output_type": "display_data"
    },
    {
     "data": {
      "text/html": [
       "<img src=\"https://upload.wikimedia.org/wikipedia/commons/thumb/1/13/DisneySchiphol1951.jpg/220px-DisneySchiphol1951.jpg\"/>"
      ],
      "text/plain": [
       "<IPython.core.display.Image object>"
      ]
     },
     "metadata": {},
     "output_type": "display_data"
    },
    {
     "data": {
      "text/html": [
       "<img src=\"https://upload.wikimedia.org/wikipedia/commons/thumb/8/8c/WaltDisneyplansDisneylandDec1954.jpg/220px-WaltDisneyplansDisneylandDec1954.jpg\"/>"
      ],
      "text/plain": [
       "<IPython.core.display.Image object>"
      ]
     },
     "metadata": {},
     "output_type": "display_data"
    },
    {
     "data": {
      "text/html": [
       "<img src=\"https://upload.wikimedia.org/wikipedia/commons/thumb/f/ff/Walt_disney_portrait_right.jpg/170px-Walt_disney_portrait_right.jpg\"/>"
      ],
      "text/plain": [
       "<IPython.core.display.Image object>"
      ]
     },
     "metadata": {},
     "output_type": "display_data"
    },
    {
     "data": {
      "text/html": [
       "<img src=\"https://upload.wikimedia.org/wikipedia/commons/thumb/1/1a/Walt_Disney_Grave.JPG/170px-Walt_Disney_Grave.JPG\"/>"
      ],
      "text/plain": [
       "<IPython.core.display.Image object>"
      ]
     },
     "metadata": {},
     "output_type": "display_data"
    },
    {
     "data": {
      "text/html": [
       "<img src=\"https://upload.wikimedia.org/wikipedia/commons/thumb/2/2d/Roy_O._Disney_with_Company_at_Press_Conference.jpg/170px-Roy_O._Disney_with_Company_at_Press_Conference.jpg\"/>"
      ],
      "text/plain": [
       "<IPython.core.display.Image object>"
      ]
     },
     "metadata": {},
     "output_type": "display_data"
    },
    {
     "data": {
      "text/html": [
       "<img src=\"https://upload.wikimedia.org/wikipedia/commons/thumb/a/a9/Disney_Display_Case.JPG/170px-Disney_Display_Case.JPG\"/>"
      ],
      "text/plain": [
       "<IPython.core.display.Image object>"
      ]
     },
     "metadata": {},
     "output_type": "display_data"
    },
    {
     "data": {
      "text/html": [
       "<img src=\"https://upload.wikimedia.org/wikipedia/commons/thumb/6/6c/Disney1968.jpg/170px-Disney1968.jpg\"/>"
      ],
      "text/plain": [
       "<IPython.core.display.Image object>"
      ]
     },
     "metadata": {},
     "output_type": "display_data"
    },
    {
     "data": {
      "text/html": [
       "<img src=\"https://upload.wikimedia.org/wikipedia/commons/thumb/d/da/Animation_disc.svg/30px-Animation_disc.svg.png\"/>"
      ],
      "text/plain": [
       "<IPython.core.display.Image object>"
      ]
     },
     "metadata": {},
     "output_type": "display_data"
    },
    {
     "data": {
      "text/html": [
       "<img src=\"https://upload.wikimedia.org/wikipedia/en/thumb/6/69/P_vip.svg/29px-P_vip.svg.png\"/>"
      ],
      "text/plain": [
       "<IPython.core.display.Image object>"
      ]
     },
     "metadata": {},
     "output_type": "display_data"
    },
    {
     "data": {
      "text/html": [
       "<img src=\"https://upload.wikimedia.org/wikipedia/commons/thumb/1/1a/Magic_Kingdom_castle.jpg/24px-Magic_Kingdom_castle.jpg\"/>"
      ],
      "text/plain": [
       "<IPython.core.display.Image object>"
      ]
     },
     "metadata": {},
     "output_type": "display_data"
    },
    {
     "data": {
      "text/html": [
       "<img src=\"https://upload.wikimedia.org/wikipedia/en/thumb/e/e7/Video-x-generic.svg/30px-Video-x-generic.svg.png\"/>"
      ],
      "text/plain": [
       "<IPython.core.display.Image object>"
      ]
     },
     "metadata": {},
     "output_type": "display_data"
    },
    {
     "data": {
      "text/html": [
       "<img src=\"https://upload.wikimedia.org/wikipedia/commons/thumb/a/a3/Flag_of_Los_Angeles_County%2C_California.svg/30px-Flag_of_Los_Angeles_County%2C_California.svg.png\"/>"
      ],
      "text/plain": [
       "<IPython.core.display.Image object>"
      ]
     },
     "metadata": {},
     "output_type": "display_data"
    },
    {
     "data": {
      "text/html": [
       "<img src=\"https://upload.wikimedia.org/wikipedia/commons/thumb/8/8c/Blank_television_set.svg/30px-Blank_television_set.svg.png\"/>"
      ],
      "text/plain": [
       "<IPython.core.display.Image object>"
      ]
     },
     "metadata": {},
     "output_type": "display_data"
    },
    {
     "data": {
      "text/html": [
       "<img src=\"https://upload.wikimedia.org/wikipedia/en/thumb/a/a4/Flag_of_the_United_States.svg/30px-Flag_of_the_United_States.svg.png\"/>"
      ],
      "text/plain": [
       "<IPython.core.display.Image object>"
      ]
     },
     "metadata": {},
     "output_type": "display_data"
    }
   ],
   "source": [
    "for e in imagen:\n",
    "    display(Image(url=\"https:\"+e))"
   ]
  },
  {
   "cell_type": "markdown",
   "metadata": {},
   "source": [
    "#### Retrieve an arbitary Wikipedia page of \"Python\" and create a list of links on that page"
   ]
  },
  {
   "cell_type": "code",
   "execution_count": 162,
   "metadata": {},
   "outputs": [],
   "source": [
    "# This is the url you will scrape in this exercise\n",
    "url ='https://en.wikipedia.org/wiki/Python' "
   ]
  },
  {
   "cell_type": "code",
   "execution_count": 167,
   "metadata": {},
   "outputs": [
    {
     "name": "stdout",
     "output_type": "stream",
     "text": [
      "https://en.wiktionary.org/wiki/Python\n",
      "https://en.wiktionary.org/wiki/python\n",
      "https://en.wikipedia.org/w/index.php?title=Special:WhatLinksHere/Python&namespace=0\n",
      "https://en.wikipedia.org/w/index.php?title=Python&oldid=924004650\n",
      "https://donate.wikimedia.org/wiki/Special:FundraiserRedirector?utm_source=donate&utm_medium=sidebar&utm_campaign=C13_en.wikipedia.org&uselang=en\n",
      "https://www.wikidata.org/wiki/Special:EntityPage/Q747452\n",
      "https://commons.wikimedia.org/wiki/Category:Python\n",
      "https://af.wikipedia.org/wiki/Python\n",
      "https://als.wikipedia.org/wiki/Python\n",
      "https://az.wikipedia.org/wiki/Python\n",
      "https://bn.wikipedia.org/wiki/%E0%A6%AA%E0%A6%BE%E0%A6%87%E0%A6%A5%E0%A6%A8_(%E0%A6%A6%E0%A7%8D%E0%A6%AC%E0%A7%8D%E0%A6%AF%E0%A6%B0%E0%A7%8D%E0%A6%A5%E0%A6%A4%E0%A6%BE_%E0%A6%A8%E0%A6%BF%E0%A6%B0%E0%A6%B8%E0%A6%A8)\n",
      "https://be.wikipedia.org/wiki/Python\n",
      "https://bg.wikipedia.org/wiki/%D0%9F%D0%B8%D1%82%D0%BE%D0%BD_(%D0%BF%D0%BE%D1%8F%D1%81%D0%BD%D0%B5%D0%BD%D0%B8%D0%B5)\n",
      "https://cs.wikipedia.org/wiki/Python_(rozcestn%C3%ADk)\n",
      "https://da.wikipedia.org/wiki/Python\n",
      "https://de.wikipedia.org/wiki/Python\n",
      "https://eo.wikipedia.org/wiki/Pitono_(apartigilo)\n",
      "https://eu.wikipedia.org/wiki/Python_(argipena)\n",
      "https://fa.wikipedia.org/wiki/%D9%BE%D8%A7%DB%8C%D8%AA%D9%88%D9%86\n",
      "https://fr.wikipedia.org/wiki/Python\n",
      "https://ko.wikipedia.org/wiki/%ED%8C%8C%EC%9D%B4%EC%84%A0\n",
      "https://hr.wikipedia.org/wiki/Python_(razdvojba)\n",
      "https://io.wikipedia.org/wiki/Pitono\n",
      "https://id.wikipedia.org/wiki/Python\n",
      "https://ia.wikipedia.org/wiki/Python_(disambiguation)\n",
      "https://is.wikipedia.org/wiki/Python_(a%C3%B0greining)\n",
      "https://it.wikipedia.org/wiki/Python_(disambigua)\n",
      "https://he.wikipedia.org/wiki/%D7%A4%D7%99%D7%AA%D7%95%D7%9F\n",
      "https://ka.wikipedia.org/wiki/%E1%83%9E%E1%83%98%E1%83%97%E1%83%9D%E1%83%9C%E1%83%98_(%E1%83%9B%E1%83%A0%E1%83%90%E1%83%95%E1%83%90%E1%83%9A%E1%83%9B%E1%83%9C%E1%83%98%E1%83%A8%E1%83%95%E1%83%9C%E1%83%94%E1%83%9A%E1%83%9D%E1%83%95%E1%83%90%E1%83%9C%E1%83%98)\n",
      "https://kg.wikipedia.org/wiki/Mboma_(nyoka)\n",
      "https://la.wikipedia.org/wiki/Python_(discretiva)\n",
      "https://lb.wikipedia.org/wiki/Python\n",
      "https://hu.wikipedia.org/wiki/Python_(egy%C3%A9rtelm%C5%B1s%C3%ADt%C5%91_lap)\n",
      "https://mr.wikipedia.org/wiki/%E0%A4%AA%E0%A4%BE%E0%A4%AF%E0%A4%A5%E0%A5%89%E0%A4%A8_(%E0%A4%86%E0%A4%9C%E0%A5%8D%E0%A4%9E%E0%A4%BE%E0%A4%B5%E0%A4%B2%E0%A5%80_%E0%A4%AD%E0%A4%BE%E0%A4%B7%E0%A4%BE)\n",
      "https://nl.wikipedia.org/wiki/Python\n",
      "https://ja.wikipedia.org/wiki/%E3%83%91%E3%82%A4%E3%82%BD%E3%83%B3\n",
      "https://no.wikipedia.org/wiki/Pyton\n",
      "https://pl.wikipedia.org/wiki/Pyton\n",
      "https://pt.wikipedia.org/wiki/Python_(desambigua%C3%A7%C3%A3o)\n",
      "https://ru.wikipedia.org/wiki/Python_(%D0%B7%D0%BD%D0%B0%D1%87%D0%B5%D0%BD%D0%B8%D1%8F)\n",
      "https://sd.wikipedia.org/wiki/%D8%A7%D8%B1%DA%99\n",
      "https://sk.wikipedia.org/wiki/Python\n",
      "https://sr.wikipedia.org/wiki/%D0%9F%D0%B8%D1%82%D0%BE%D0%BD_(%D0%B2%D0%B8%D1%88%D0%B5%D0%B7%D0%BD%D0%B0%D1%87%D0%BD%D0%B0_%D0%BE%D0%B4%D1%80%D0%B5%D0%B4%D0%BD%D0%B8%D1%86%D0%B0)\n",
      "https://sh.wikipedia.org/wiki/Python\n",
      "https://fi.wikipedia.org/wiki/Python\n",
      "https://sv.wikipedia.org/wiki/Pyton\n",
      "https://th.wikipedia.org/wiki/%E0%B9%84%E0%B8%9E%E0%B8%97%E0%B8%AD%E0%B8%99\n",
      "https://tr.wikipedia.org/wiki/Python\n",
      "https://uk.wikipedia.org/wiki/%D0%9F%D1%96%D1%84%D0%BE%D0%BD\n",
      "https://ur.wikipedia.org/wiki/%D9%BE%D8%A7%D8%A6%DB%8C%D8%AA%DA%BE%D9%88%D9%86\n",
      "https://vi.wikipedia.org/wiki/Python\n",
      "https://zh.wikipedia.org/wiki/Python_(%E6%B6%88%E6%AD%A7%E4%B9%89)\n",
      "https://www.wikidata.org/wiki/Special:EntityPage/Q747452#sitelinks-wikipedia\n",
      "https://foundation.wikimedia.org/wiki/Privacy_policy\n",
      "https://www.mediawiki.org/wiki/Special:MyLanguage/How_to_contribute\n",
      "https://foundation.wikimedia.org/wiki/Cookie_statement\n",
      "https://wikimediafoundation.org/\n",
      "https://www.mediawiki.org/\n"
     ]
    }
   ],
   "source": [
    "#your code\n",
    "resP = requests.get(url)\n",
    "htmlP = resP.text\n",
    "htmlP[:50]\n",
    "\n",
    "soupP = BeautifulSoup(htmlP, 'html.parser')\n",
    "busqP=soupP.select('.h3 a')\n",
    "busqP\n",
    "\n",
    "for link in soupP.find_all('a'):\n",
    "    href = link.get('href')\n",
    "    if href and href[:4] == \"http\":\n",
    "        print(href)"
   ]
  },
  {
   "cell_type": "markdown",
   "metadata": {},
   "source": [
    "#### Number of Titles that have changed in the United States Code since its last release point "
   ]
  },
  {
   "cell_type": "code",
   "execution_count": 170,
   "metadata": {},
   "outputs": [],
   "source": [
    "# This is the url you will scrape in this exercise\n",
    "url = 'http://uscode.house.gov/download/download.shtml'"
   ]
  },
  {
   "cell_type": "code",
   "execution_count": 172,
   "metadata": {},
   "outputs": [
    {
     "data": {
      "text/plain": [
       "['Title 6 - Domestic Security', 'Title 31 - Money and Finance ٭']"
      ]
     },
     "execution_count": 172,
     "metadata": {},
     "output_type": "execute_result"
    }
   ],
   "source": [
    "#your code\n",
    "resUSA = requests.get(url).text\n",
    "soupUSA = BeautifulSoup(resUSA, 'html.parser')\n",
    "busqUSA = soupUSA.select('.usctitlechanged')\n",
    "\n",
    "usa = []\n",
    "for e in busqUSA:\n",
    "    e = e.text.strip()\n",
    "    usa.append(e)\n",
    "usa"
   ]
  },
  {
   "cell_type": "markdown",
   "metadata": {},
   "source": [
    "#### A Python list with the top ten FBI's Most Wanted names "
   ]
  },
  {
   "cell_type": "code",
   "execution_count": 175,
   "metadata": {},
   "outputs": [],
   "source": [
    "# This is the url you will scrape in this exercise\n",
    "url = 'https://www.fbi.gov/wanted/topten'"
   ]
  },
  {
   "cell_type": "code",
   "execution_count": 205,
   "metadata": {},
   "outputs": [
    {
     "data": {
      "text/plain": [
       "['Access denied This website is using a security service to protect itself from online attacks.  Ray ID: 5321f1b14cd9c67f Timestamp: 2019-11-07 20:09:18 UTC Your IP address: 46.27.139.198 Requested URL: www.fbi.gov/wanted/topten  Error reference number: 1020 Server ID: FL_40F60 User-Agent: python-requests/2.18.4']"
      ]
     },
     "execution_count": 205,
     "metadata": {},
     "output_type": "execute_result"
    }
   ],
   "source": [
    "#your code\n",
    "import re\n",
    "resPoli = requests.get(url).text\n",
    "soupPoli = BeautifulSoup(resPoli, 'html.parser')\n",
    "busqPoli = soupPoli.find_all(\"div\",{\"class\":\"cf-error-details cf-error-1020\"})\n",
    "error=[]\n",
    "for e in busqPoli:\n",
    "    error.append(e.text)\n",
    "error\n",
    "nuevoError=[]\n",
    "for e in error:\n",
    "    e = re.sub(\"\\\\n\",\" \",e.strip())\n",
    "    nuevoError.append(e)\n",
    "nuevoError"
   ]
  },
  {
   "cell_type": "markdown",
   "metadata": {},
   "source": [
    "# ME HALLO VETADA POR EL FBI, HAY SOSPECHAS DE QUE SE DEBA A MI NOMINACIÓN A IRONHACKER DEL AÑO"
   ]
  },
  {
   "cell_type": "markdown",
   "metadata": {},
   "source": [
    "####  20 latest earthquakes info (date, time, latitude, longitude and region name) by the EMSC as a pandas dataframe"
   ]
  },
  {
   "cell_type": "code",
   "execution_count": 247,
   "metadata": {},
   "outputs": [],
   "source": [
    "# This is the url you will scrape in this exercise\n",
    "url = 'https://www.emsc-csem.org/Earthquake/'"
   ]
  },
  {
   "cell_type": "code",
   "execution_count": 246,
   "metadata": {},
   "outputs": [],
   "source": [
    "#your code\n",
    "import pandas as pd"
   ]
  },
  {
   "cell_type": "code",
   "execution_count": 276,
   "metadata": {},
   "outputs": [
    {
     "data": {
      "text/plain": [
       "<table border=\"0\" cellpadding=\"0\" cellspacing=\"0\" width=\"100%\"><thead>\n",
       "<tr>\n",
       "<td colspan=\"13\" style=\"background: white;height: 1px\"></td>\n",
       "</tr>\n",
       "<tr id=\"haut_tableau\"><th class=\"th2 th3\" colspan=\"3\" style=\"width:90px;display:table-csell;\"><div onmouseout=\"info_b('notshow','','');\" onmouseover=\"info_b('show','Represents the results of information provided by users (Felt earthquake, pictures, testimonies ,...)&lt;br&gt;See an intensity map for more details on the macroseismic intensity scale.','Citizen response');\">Citizen<br/>Response</div><br/><table cellpadding=\"0\" cellspacing=\"0\" style=\"width:100%;margin:0;text-align:center;\"><tr><td><div onclick=\"change_tri('im_report');\" onmouseout=\"change_image(this,'out','im_report');\" onmouseover=\"change_image(this,'over','im_report');\"><span class=\"spriteorig sp_ico_list\" onmouseout=\"info_b2('notshow','');\" onmouseover=\"info_b2('show','Sorted by number of &lt;b&gt;Comments&lt;/b&gt;');\"></span><span class=\"spriteorig sp_s_asc\" id=\"im_report\" style=\"display:none;\"></span></div></td><td><div onclick=\"change_tri('im_pics');\" onmouseout=\"change_image(this,'out','im_pics');\" onmouseover=\"change_image(this,'over','im_pics');\"><span class=\"spriteorig sp_digikam\" onmouseout=\"info_b2('notshow','');\" onmouseover=\"info_b2('show','Sorted by number of &lt;b&gt;Pictures&lt;/b&gt;');\"></span><span class=\"spriteorig sp_s_asc\" id=\"im_pics\" style=\"display:none;\"></span></div></td><td><div onclick=\"change_tri('im_intens');\" onmouseout=\"change_image(this,'out','im_intens');\" onmouseover=\"change_image(this,'over','im_intens');\"><span class=\"spriteorig sp_IntensityMap\" onmouseout=\"info_b2('notshow','');\" onmouseover=\"info_b2('show','Sorted by &lt;b&gt;Macroseismic Intensity&lt;/b&gt;');\"></span><span class=\"spriteorig sp_s_asc\" id=\"im_intens\" style=\"display:none;\"></span></div></td></tr></table></th><th class=\"th2\" onclick=\"change_tri('im_time');\" onmouseout=\"change_image(this,'out','im_time');\" onmouseover=\"change_image(this,'over','im_time');\">Date &amp; Time <span class=\"spriteorig sp_s_desc\" id=\"im_select\"></span><div style=\"font-weight:normal;\">UTC</div></th><th class=\"th2\" colspan=\"2\" onclick=\"change_tri('im_lat');\" onmouseout=\"change_image(this,'out','im_lat');\" onmouseover=\"change_image(this,'over','im_lat');\">Latitude <span class=\"spriteorig sp_s_asc\" id=\"im_lat\" style=\"display:none;\"></span><div style=\"font-weight:normal;\">degrees</div></th><th class=\"th2\" colspan=\"2\" onclick=\"change_tri('im_lon');\" onmouseout=\"change_image(this,'out','im_lon');\" onmouseover=\"change_image(this,'over','im_lon');\">Longitude <span class=\"spriteorig sp_s_asc\" id=\"im_lon\" style=\"display:none;\"></span><div style=\"font-weight:normal;\">degrees</div></th><th class=\"th2\" onclick=\"change_tri('im_depth');\" onmouseout=\"change_image(this,'out','im_depth');\" onmouseover=\"change_image(this,'over','im_depth');\">Depth <span class=\"spriteorig sp_s_asc\" id=\"im_depth\" style=\"display:none;\"></span><div style=\"font-weight: normal\">km</div></th><th class=\"th2\" colspan=\"1\" id=\"thmag\"><div onclick=\"change_tri('im_mag');\" onmouseout=\"change_image(this,'out','im_mag');\" onmouseover=\"change_image(this,'over','im_mag');\" style=\"float:left;\">Mag <span class=\"spriteorig sp_s_asc\" id=\"im_mag\" style=\"display:none;\"></span></div><div id=\"magplus2\" style=\"float:left;\"> <a href=\"javascript:hide_magni();\" id=\"magplus\" style=\"color:white;\">[+]</a></div></th><th class=\"th2\" id=\"ex_th2\"><div onclick=\"change_tri('im_reg');\" onmouseout=\"change_image(this,'out','im_reg');\" onmouseover=\"change_image(this,'over','im_reg');\" style=\"float:left;\">Region name <span class=\"spriteorig sp_s_asc\" id=\"im_reg\" style=\"display:none;\"></span></div><div id=\"upda\" onmouseout=\"info_b2('notshow','');\" onmouseover=\"info_b2('show','Show last update');\"> <a href=\"javascript:hide_upd();\" style=\"color:white;\">[+]</a></div></th><th class=\"th2 updatetimeno\" id=\"upd\"><div id=\"labupd\" onclick=\"change_tri('im_upd');\" onmouseout=\"change_image(this,'out','im_upd');\" onmouseover=\"change_image(this,'over','im_upd');\" style=\"float:left;text-align:right;\">Last update <span class=\"spriteorig sp_s_asc\" id=\"im_upd\" style=\"display:none;\"></span></div><div id=\"hideupda\" onmouseout=\"info_b2('notshow','');\" onmouseover=\"info_b2('show','Hide last update');\" style=\"float:left;\"><a href=\"javascript:hide_upd();\" style=\"color:white;\">[-]</a></div></th></tr>\n",
       "<tr><td colspan=\"13\" style=\"background: white;height: 1px\"></td></tr>\n",
       "<tr class=\"npages\" id=\"my_pagelist_0\"><td colspan=\"13\"><a class=\"sublink sublinka\" href=\"javascript:void()\" rel=\"nofollow\">1</a><a class=\"sublink\" href=\"/Earthquake/?view=2\">2</a><a class=\"sublink\" href=\"/Earthquake/?view=3\">3</a><a class=\"sublink\" href=\"/Earthquake/?view=4\">4</a><a class=\"sublink\" href=\"/Earthquake/?view=5\">5</a><a class=\"sublink\" href=\"/Earthquake/?view=6\">6</a><a class=\"sublink\" href=\"/Earthquake/?view=7\">7</a><a class=\"sublink\" href=\"/Earthquake/?view=8\">8</a><a class=\"sublink\" href=\"/Earthquake/?view=9\">9</a><a class=\"sublink\" href=\"/Earthquake/?view=10\">10</a><a alt=\"Next page\" class=\"sublink\" href=\"/Earthquake/?view=2\">›</a><a alt=\"Next 10 pages\" class=\"sublink\" href=\"/Earthquake/?view=11\">»</a></td></tr></thead><tbody id=\"tbody\"><tr class=\"ligne1 normal\" id=\"803844\" onclick=\"go_details(event,803844);\"><td class=\"tabev0\"></td><td class=\"tabev0\"></td><td class=\"tabev0\"></td><td class=\"tabev6\"><b><i style=\"display:none;\">earthquake</i><a href=\"/Earthquake/earthquake.php?id=803844\">2019-11-07   20:36:54.7</a></b><i class=\"ago\" id=\"ago0\">30min ago</i></td><td class=\"tabev1\">46.32 </td><td class=\"tabev2\">N  </td><td class=\"tabev1\">7.35 </td><td class=\"tabev2\">E  </td><td class=\"tabev3\">5</td><td class=\"tabev5\" id=\"magtyp0\">ML</td><td class=\"tabev2\">1.5</td><td class=\"tb_region\" id=\"reg0\"> SWITZERLAND</td><td class=\"comment updatetimeno\" id=\"upd0\" style=\"text-align:right;\">2019-11-07 20:41</td></tr>\n",
       "<tr class=\"ligne2 normal\" id=\"803843\" onclick=\"go_details(event,803843);\"><td class=\"tabev0\" style=\"text-align:center;\"><a href=\"https://www.emsc-csem.org/Earthquake/Testimonies/comments.php?id=803843\" onmouseout=\"info_b2('notshow','');\" onmouseover=\"info_b2('show','See the &lt;b&gt;4 testimonies&lt;/b&gt; for this earthquake');\"><span class=\"\" style=\"vertical-align:middle;\">4</span></a></td><td class=\"tabev0\"></td><td class=\"tabev0\"><span class=\"intensity\" onclick=\"go_details(event,null,'https://www.emsc-csem.org/Earthquake/popup_intensmap.php?id=803843&amp;f=/FELTREPORTS/80/803843/IntensityMap.png');\" onmouseout=\"info_b2('notshow','');\" onmouseover=\"info_b2('show','See the &lt;b&gt; Intensity map&lt;/b&gt;');\" style=\"background-color:#66CCFF;\">III</span></td><td class=\"tabev6\"><b><i style=\"display:none;\">earthquake</i><a href=\"/Earthquake/earthquake.php?id=803843\">2019-11-07   20:30:05.9</a></b><i class=\"ago\" id=\"ago1\">37min ago</i></td><td class=\"tabev1\">46.30 </td><td class=\"tabev2\">N  </td><td class=\"tabev1\">7.36 </td><td class=\"tabev2\">E  </td><td class=\"tabev3\">2</td><td class=\"tabev5\" id=\"magtyp1\">ML</td><td class=\"tabev2\">2.4</td><td class=\"tb_region\" id=\"reg1\"> SWITZERLAND</td><td class=\"comment updatetimeno\" id=\"upd1\" style=\"text-align:right;\">2019-11-07 20:36</td></tr>\n",
       "<tr class=\"ligne1 normal\" id=\"803842\" onclick=\"go_details(event,803842);\"><td class=\"tabev0\"></td><td class=\"tabev0\"></td><td class=\"tabev0\"></td><td class=\"tabev6\"><b><i style=\"display:none;\">earthquake</i><a href=\"/Earthquake/earthquake.php?id=803842\">2019-11-07   20:24:36.3</a></b><i class=\"ago\" id=\"ago2\">42min ago</i></td><td class=\"tabev1\">35.83 </td><td class=\"tabev2\">N  </td><td class=\"tabev1\">117.66 </td><td class=\"tabev2\">W  </td><td class=\"tabev3\">4</td><td class=\"tabev5\" id=\"magtyp2\">Ml</td><td class=\"tabev2\">3.0</td><td class=\"tb_region\" id=\"reg2\"> CENTRAL CALIFORNIA</td><td class=\"comment updatetimeno\" id=\"upd2\" style=\"text-align:right;\">2019-11-07 20:26</td></tr>\n",
       "<tr class=\"ligne2 normal\" id=\"803841\" onclick=\"go_details(event,803841);\"><td class=\"tabev0\"></td><td class=\"tabev0\"></td><td class=\"tabev0\"></td><td class=\"tabev6\"><b><i style=\"display:none;\">earthquake</i><a href=\"/Earthquake/earthquake.php?id=803841\">2019-11-07   20:13:59.4</a></b><i class=\"ago\" id=\"ago3\">53min ago</i></td><td class=\"tabev1\">41.77 </td><td class=\"tabev2\">N  </td><td class=\"tabev1\">13.60 </td><td class=\"tabev2\">E  </td><td class=\"tabev3\">12</td><td class=\"tabev5\" id=\"magtyp3\">ML</td><td class=\"tabev2\">2.0</td><td class=\"tb_region\" id=\"reg3\"> SOUTHERN ITALY</td><td class=\"comment updatetimeno\" id=\"upd3\" style=\"text-align:right;\">2019-11-07 20:20</td></tr>\n",
       "<tr class=\"ligne1 normal\" id=\"803840\" onclick=\"go_details(event,803840);\"><td class=\"tabev0\"></td><td class=\"tabev0\"></td><td class=\"tabev0\"></td><td class=\"tabev6\"><b><i style=\"display:none;\">earthquake</i><a href=\"/Earthquake/earthquake.php?id=803840\">2019-11-07   20:00:51.0</a></b><i class=\"ago\" id=\"ago4\">1hr 06min ago</i></td><td class=\"tabev1\">23.22 </td><td class=\"tabev2\">S  </td><td class=\"tabev1\">68.90 </td><td class=\"tabev2\">W  </td><td class=\"tabev3\">89</td><td class=\"tabev5\" id=\"magtyp4\">ML</td><td class=\"tabev2\">3.1</td><td class=\"tb_region\" id=\"reg4\"> ANTOFAGASTA, CHILE</td><td class=\"comment updatetimeno\" id=\"upd4\" style=\"text-align:right;\">2019-11-07 20:13</td></tr>\n",
       "<tr class=\"ligne2 normal\" id=\"803839\" onclick=\"go_details(event,803839);\"><td class=\"tabev0\" style=\"text-align:center;\"><a href=\"https://www.emsc-csem.org/Earthquake/Testimonies/comments.php?id=803839\" onmouseout=\"info_b2('notshow','');\" onmouseover=\"info_b2('show','See the &lt;b&gt;testimony&lt;/b&gt; for this earthquake');\"><span class=\"\" style=\"vertical-align:middle;\">1</span></a></td><td class=\"tabev0\"></td><td class=\"tabev0\"><span class=\"intensity\" onclick=\"go_details(event,null,'https://www.emsc-csem.org/Earthquake/popup_intensmap.php?id=803839&amp;f=/FELTREPORTS/80/803839/IntensityMap.png');\" onmouseout=\"info_b2('notshow','');\" onmouseover=\"info_b2('show','See the &lt;b&gt; Intensity map&lt;/b&gt;');\" style=\"background-color:#66CCFF;\">III</span></td><td class=\"tabev6\"><b><i style=\"display:none;\">earthquake</i><a href=\"/Earthquake/earthquake.php?id=803839\">2019-11-07   19:54:14.9</a></b><i class=\"ago\" id=\"ago5\">1hr 13min ago</i></td><td class=\"tabev1\">35.71 </td><td class=\"tabev2\">N  </td><td class=\"tabev1\">117.56 </td><td class=\"tabev2\">W  </td><td class=\"tabev3\">7</td><td class=\"tabev5\" id=\"magtyp5\">Ml</td><td class=\"tabev2\">2.6</td><td class=\"tb_region\" id=\"reg5\"> SOUTHERN CALIFORNIA</td><td class=\"comment updatetimeno\" id=\"upd5\" style=\"text-align:right;\">2019-11-07 19:57</td></tr>\n",
       "<tr class=\"ligne1 normal\" id=\"803837\" onclick=\"go_details(event,803837);\"><td class=\"tabev0\"></td><td class=\"tabev0\"></td><td class=\"tabev0\"></td><td class=\"tabev6\"><b><i style=\"display:none;\">earthquake</i><a href=\"/Earthquake/earthquake.php?id=803837\">2019-11-07   19:13:40.0</a></b><i class=\"ago\" id=\"ago6\">1hr 53min ago</i></td><td class=\"tabev1\">20.48 </td><td class=\"tabev2\">S  </td><td class=\"tabev1\">69.05 </td><td class=\"tabev2\">W  </td><td class=\"tabev3\">108</td><td class=\"tabev5\" id=\"magtyp6\">ML</td><td class=\"tabev2\">4.3</td><td class=\"tb_region\" id=\"reg6\"> TARAPACA, CHILE</td><td class=\"comment updatetimeno\" id=\"upd6\" style=\"text-align:right;\">2019-11-07 19:34</td></tr>\n",
       "<tr class=\"ligne2 normal\" id=\"803833\" onclick=\"go_details(event,803833);\"><td class=\"tabev0\"></td><td class=\"tabev0\"></td><td class=\"tabev0\"></td><td class=\"tabev6\"><b><i style=\"display:none;\">earthquake</i><a href=\"/Earthquake/earthquake.php?id=803833\">2019-11-07   18:56:03.8</a></b><i class=\"ago\" id=\"ago7\">2hr 11min ago</i></td><td class=\"tabev1\">35.72 </td><td class=\"tabev2\">N  </td><td class=\"tabev1\">121.06 </td><td class=\"tabev2\">W  </td><td class=\"tabev3\">7</td><td class=\"tabev5\" id=\"magtyp7\">Md</td><td class=\"tabev2\">2.3</td><td class=\"tb_region\" id=\"reg7\"> CENTRAL CALIFORNIA</td><td class=\"comment updatetimeno\" id=\"upd7\" style=\"text-align:right;\">2019-11-07 18:57</td></tr>\n",
       "<tr class=\"ligne1 normal\" id=\"803835\" onclick=\"go_details(event,803835);\"><td class=\"tabev0\"></td><td class=\"tabev0\"></td><td class=\"tabev0\"></td><td class=\"tabev6\"><b><i style=\"display:none;\">earthquake</i><a href=\"/Earthquake/earthquake.php?id=803835\">2019-11-07   18:52:18.1</a></b><i class=\"ago\" id=\"ago8\">2hr 15min ago</i></td><td class=\"tabev1\">37.89 </td><td class=\"tabev2\">N  </td><td class=\"tabev1\">112.48 </td><td class=\"tabev2\">W  </td><td class=\"tabev3\">10</td><td class=\"tabev5\" id=\"magtyp8\">Ml</td><td class=\"tabev2\">2.4</td><td class=\"tb_region\" id=\"reg8\"> UTAH</td><td class=\"comment updatetimeno\" id=\"upd8\" style=\"text-align:right;\">2019-11-07 19:15</td></tr>\n",
       "<tr class=\"ligne2 normal\" id=\"803831\" onclick=\"go_details(event,803831);\"><td class=\"tabev0\" style=\"text-align:center;\"><a href=\"https://www.emsc-csem.org/Earthquake/Testimonies/comments.php?id=803831\" onmouseout=\"info_b2('notshow','');\" onmouseover=\"info_b2('show','See the &lt;b&gt;4 testimonies&lt;/b&gt; for this earthquake');\"><span class=\"\" style=\"vertical-align:middle;\">4</span></a></td><td class=\"tabev0\"></td><td class=\"tabev0\"><span class=\"intensity\" onclick=\"go_details(event,null,'https://www.emsc-csem.org/Earthquake/popup_intensmap.php?id=803831&amp;f=/FELTREPORTS/80/803831/IntensityMap.png');\" onmouseout=\"info_b2('notshow','');\" onmouseover=\"info_b2('show','See the &lt;b&gt; Intensity map&lt;/b&gt;');\" style=\"background-color:#66CCFF;\">III</span></td><td class=\"tabev6\"><b><i style=\"display:none;\">earthquake</i><a href=\"/Earthquake/earthquake.php?id=803831\">2019-11-07   18:38:27.4</a></b><i class=\"ago\" id=\"ago9\">2hr 28min ago</i></td><td class=\"tabev1\">46.30 </td><td class=\"tabev2\">N  </td><td class=\"tabev1\">7.37 </td><td class=\"tabev2\">E  </td><td class=\"tabev3\">2</td><td class=\"tabev5\" id=\"magtyp9\">ML</td><td class=\"tabev2\">2.5</td><td class=\"tb_region\" id=\"reg9\"> SWITZERLAND</td><td class=\"comment updatetimeno\" id=\"upd9\" style=\"text-align:right;\">2019-11-07 20:06</td></tr>\n",
       "<tr class=\"ligne1 normal\" id=\"803829\" onclick=\"go_details(event,803829);\"><td class=\"tabev0\" style=\"text-align:center;\"><a href=\"https://www.emsc-csem.org/Earthquake/Testimonies/comments.php?id=803829\" onmouseout=\"info_b2('notshow','');\" onmouseover=\"info_b2('show','See the &lt;b&gt;35 testimonies&lt;/b&gt; for this earthquake');\"><span class=\"\" style=\"vertical-align:middle;\">35</span></a></td><td class=\"tabev0\"></td><td class=\"tabev0\"><span class=\"intensity\" onclick=\"go_details(event,null,'https://www.emsc-csem.org/Earthquake/popup_intensmap.php?id=803829&amp;f=/FELTREPORTS/80/803829/IntensityMap.png');\" onmouseout=\"info_b2('notshow','');\" onmouseover=\"info_b2('show','See the &lt;b&gt; Intensity map&lt;/b&gt;');\" style=\"background-color:#00FFFF;\">IV</span></td><td class=\"tabev6\"><b><i style=\"display:none;\">earthquake</i><a href=\"/Earthquake/earthquake.php?id=803829\">2019-11-07   18:35:26.2</a></b><i class=\"ago\" id=\"ago10\">2hr 31min ago</i></td><td class=\"tabev1\">46.32 </td><td class=\"tabev2\">N  </td><td class=\"tabev1\">7.35 </td><td class=\"tabev2\">E  </td><td class=\"tabev3\">4</td><td class=\"tabev5\" id=\"magtyp10\">ML</td><td class=\"tabev2\">3.4</td><td class=\"tb_region\" id=\"reg10\"> SWITZERLAND</td><td class=\"comment updatetimeno\" id=\"upd10\" style=\"text-align:right;\">2019-11-07 18:51</td></tr>\n",
       "<tr class=\"ligne2 normal\" id=\"803834\" onclick=\"go_details(event,803834);\"><td class=\"tabev0\"></td><td class=\"tabev0\"></td><td class=\"tabev0\"></td><td class=\"tabev6\"><b><i style=\"display:none;\">earthquake</i><a href=\"/Earthquake/earthquake.php?id=803834\">2019-11-07   18:25:00.0</a></b><i class=\"ago\" id=\"ago11\">2hr 42min ago</i></td><td class=\"tabev1\">16.36 </td><td class=\"tabev2\">S  </td><td class=\"tabev1\">72.82 </td><td class=\"tabev2\">W  </td><td class=\"tabev3\">15</td><td class=\"tabev5\" id=\"magtyp11\"> M</td><td class=\"tabev2\">3.7</td><td class=\"tb_region\" id=\"reg11\"> NEAR COAST OF SOUTHERN PERU</td><td class=\"comment updatetimeno\" id=\"upd11\" style=\"text-align:right;\">2019-11-07 19:02</td></tr>\n",
       "<tr class=\"ligne1 normal\" id=\"803823\" onclick=\"go_details(event,803823);\"><td class=\"tabev0\"></td><td class=\"tabev0\"></td><td class=\"tabev0\"></td><td class=\"tabev6\"><b><i style=\"display:none;\">earthquake</i><a href=\"/Earthquake/earthquake.php?id=803823\">2019-11-07   18:21:12.7</a></b><i class=\"ago\" id=\"ago12\">2hr 46min ago</i></td><td class=\"tabev1\">19.14 </td><td class=\"tabev2\">N  </td><td class=\"tabev1\">155.64 </td><td class=\"tabev2\">W  </td><td class=\"tabev3\">1</td><td class=\"tabev5\" id=\"magtyp12\">Md</td><td class=\"tabev2\">2.0</td><td class=\"tb_region\" id=\"reg12\"> ISLAND OF HAWAII, HAWAII</td><td class=\"comment updatetimeno\" id=\"upd12\" style=\"text-align:right;\">2019-11-07 18:24</td></tr>\n",
       "<tr class=\"ligne2 normal\" id=\"803832\" onclick=\"go_details(event,803832);\"><td class=\"tabev0\"></td><td class=\"tabev0\"></td><td class=\"tabev0\"></td><td class=\"tabev6\"><b><i style=\"display:none;\">earthquake</i><a href=\"/Earthquake/earthquake.php?id=803832\">2019-11-07   18:16:30.0</a></b><i class=\"ago\" id=\"ago13\">2hr 50min ago</i></td><td class=\"tabev1\">11.30 </td><td class=\"tabev2\">N  </td><td class=\"tabev1\">86.32 </td><td class=\"tabev2\">W  </td><td class=\"tabev3\">31</td><td class=\"tabev5\" id=\"magtyp13\"> M</td><td class=\"tabev2\">3.6</td><td class=\"tb_region\" id=\"reg13\"> NEAR COAST OF NICARAGUA</td><td class=\"comment updatetimeno\" id=\"upd13\" style=\"text-align:right;\">2019-11-07 18:45</td></tr>\n",
       "<tr class=\"ligne1 bold\" id=\"803827\" onclick=\"go_details(event,803827);\"><td class=\"tabev0\"></td><td class=\"tabev0\"></td><td class=\"tabev0\"></td><td class=\"tabev6\"><b><i style=\"display:none;\">earthquake</i><a href=\"/Earthquake/earthquake.php?id=803827\">2019-11-07   18:00:57.6</a></b><i class=\"ago\" id=\"ago14\">3hr 06min ago</i></td><td class=\"tabev1\">27.03 </td><td class=\"tabev2\">N  </td><td class=\"tabev1\">55.05 </td><td class=\"tabev2\">E  </td><td class=\"tabev3\">2</td><td class=\"tabev5\" id=\"magtyp14\">mb</td><td class=\"tabev2\">4.5</td><td class=\"tb_region\" id=\"reg14\"> SOUTHERN IRAN</td><td class=\"comment updatetimeno\" id=\"upd14\" style=\"text-align:right;\">2019-11-07 19:10</td></tr>\n",
       "<tr class=\"ligne2 normal\" id=\"803824\" onclick=\"go_details(event,803824);\"><td class=\"tabev0\"></td><td class=\"tabev0\"></td><td class=\"tabev0\"></td><td class=\"tabev6\"><b><i style=\"display:none;\">earthquake</i><a href=\"/Earthquake/earthquake.php?id=803824\">2019-11-07   17:59:30.0</a></b><i class=\"ago\" id=\"ago15\">3hr 07min ago</i></td><td class=\"tabev1\">8.64 </td><td class=\"tabev2\">N  </td><td class=\"tabev1\">82.81 </td><td class=\"tabev2\">W  </td><td class=\"tabev3\">26</td><td class=\"tabev5\" id=\"magtyp15\"> M</td><td class=\"tabev2\">3.4</td><td class=\"tb_region\" id=\"reg15\"> PANAMA-COSTA RICA BORDER REGION</td><td class=\"comment updatetimeno\" id=\"upd15\" style=\"text-align:right;\">2019-11-07 18:32</td></tr>\n",
       "<tr class=\"ligne1 normal\" id=\"803825\" onclick=\"go_details(event,803825);\"><td class=\"tabev0\"></td><td class=\"tabev0\"></td><td class=\"tabev0\"></td><td class=\"tabev6\"><b><i style=\"display:none;\">earthquake</i><a href=\"/Earthquake/earthquake.php?id=803825\">2019-11-07   17:54:30.0</a></b><i class=\"ago\" id=\"ago16\">3hr 12min ago</i></td><td class=\"tabev1\">11.49 </td><td class=\"tabev2\">N  </td><td class=\"tabev1\">85.98 </td><td class=\"tabev2\">W  </td><td class=\"tabev3\">170</td><td class=\"tabev5\" id=\"magtyp16\"> M</td><td class=\"tabev2\">3.6</td><td class=\"tb_region\" id=\"reg16\"> NICARAGUA</td><td class=\"comment updatetimeno\" id=\"upd16\" style=\"text-align:right;\">2019-11-07 18:32</td></tr>\n",
       "<tr class=\"ligne2 normal\" id=\"803820\" onclick=\"go_details(event,803820);\"><td class=\"tabev0\" style=\"text-align:center;\"><a href=\"https://www.emsc-csem.org/Earthquake/Testimonies/comments.php?id=803820\" onmouseout=\"info_b2('notshow','');\" onmouseover=\"info_b2('show','See the &lt;b&gt;testimony&lt;/b&gt; for this earthquake');\"><span class=\"\" style=\"vertical-align:middle;\">1</span></a></td><td class=\"tabev0\"></td><td class=\"tabev0\"><span class=\"intensity\" onclick=\"go_details(event,null,'https://www.emsc-csem.org/Earthquake/popup_intensmap.php?id=803820&amp;f=/FELTREPORTS/80/803820/IntensityMap.png');\" onmouseout=\"info_b2('notshow','');\" onmouseover=\"info_b2('show','See the &lt;b&gt; Intensity map&lt;/b&gt;');\" style=\"background-color:#FFFFFF;\">F</span></td><td class=\"tabev6\"><b><i style=\"display:none;\">earthquake</i><a href=\"/Earthquake/earthquake.php?id=803820\">2019-11-07   17:52:17.6</a></b><i class=\"ago\" id=\"ago17\">3hr 15min ago</i></td><td class=\"tabev1\">34.27 </td><td class=\"tabev2\">N  </td><td class=\"tabev1\">119.29 </td><td class=\"tabev2\">W  </td><td class=\"tabev3\">7</td><td class=\"tabev5\" id=\"magtyp17\">Ml</td><td class=\"tabev2\">2.4</td><td class=\"tb_region\" id=\"reg17\"> SANTA BARBARA CHANNEL, CALIF.</td><td class=\"comment updatetimeno\" id=\"upd17\" style=\"text-align:right;\">2019-11-07 17:56</td></tr>\n",
       "<tr class=\"ligne1 normal\" id=\"803826\" onclick=\"go_details(event,803826);\"><td class=\"tabev0\"></td><td class=\"tabev0\"></td><td class=\"tabev0\"></td><td class=\"tabev6\"><b><i style=\"display:none;\">earthquake</i><a href=\"/Earthquake/earthquake.php?id=803826\">2019-11-07   17:48:50.6</a></b><i class=\"ago\" id=\"ago18\">3hr 18min ago</i></td><td class=\"tabev1\">27.29 </td><td class=\"tabev2\">N  </td><td class=\"tabev1\">55.02 </td><td class=\"tabev2\">E  </td><td class=\"tabev3\">8</td><td class=\"tabev5\" id=\"magtyp18\">ML</td><td class=\"tabev2\">3.5</td><td class=\"tb_region\" id=\"reg18\"> SOUTHERN IRAN</td><td class=\"comment updatetimeno\" id=\"upd18\" style=\"text-align:right;\">2019-11-07 18:39</td></tr>\n",
       "<tr class=\"ligne2 normal\" id=\"803821\" onclick=\"go_details(event,803821);\"><td class=\"tabev0\"></td><td class=\"tabev0\"></td><td class=\"tabev0\"></td><td class=\"tabev6\"><b><i style=\"display:none;\">earthquake</i><a href=\"/Earthquake/earthquake.php?id=803821\">2019-11-07   17:47:53.2</a></b><i class=\"ago\" id=\"ago19\">3hr 19min ago</i></td><td class=\"tabev1\">41.77 </td><td class=\"tabev2\">N  </td><td class=\"tabev1\">13.61 </td><td class=\"tabev2\">E  </td><td class=\"tabev3\">13</td><td class=\"tabev5\" id=\"magtyp19\">ML</td><td class=\"tabev2\">2.2</td><td class=\"tb_region\" id=\"reg19\"> SOUTHERN ITALY</td><td class=\"comment updatetimeno\" id=\"upd19\" style=\"text-align:right;\">2019-11-07 17:55</td></tr>\n",
       "<tr class=\"ligne1 normal\" id=\"803838\" onclick=\"go_details(event,803838);\"><td class=\"tabev0\"></td><td class=\"tabev0\"></td><td class=\"tabev0\"></td><td class=\"tabev6\"><b><i style=\"display:none;\">earthquake</i><a href=\"/Earthquake/earthquake.php?id=803838\">2019-11-07   17:46:12.9</a></b><i class=\"ago\" id=\"ago20\">3hr 21min ago</i></td><td class=\"tabev1\">18.71 </td><td class=\"tabev2\">N  </td><td class=\"tabev1\">64.57 </td><td class=\"tabev2\">W  </td><td class=\"tabev3\">34</td><td class=\"tabev5\" id=\"magtyp20\">Md</td><td class=\"tabev2\">3.3</td><td class=\"tb_region\" id=\"reg20\"> VIRGIN ISLANDS REGION</td><td class=\"comment updatetimeno\" id=\"upd20\" style=\"text-align:right;\">2019-11-07 19:42</td></tr>\n",
       "<tr class=\"ligne2 normal\" id=\"803817\" onclick=\"go_details(event,803817);\"><td class=\"tabev0\" style=\"text-align:center;\"><a href=\"https://www.emsc-csem.org/Earthquake/Testimonies/comments.php?id=803817\" onmouseout=\"info_b2('notshow','');\" onmouseover=\"info_b2('show','See the &lt;b&gt;150 testimonies&lt;/b&gt; for this earthquake');\"><span class=\"\" style=\"vertical-align:middle;\">150</span></a></td><td class=\"tabev0\"></td><td class=\"tabev0\"><span class=\"intensity\" onclick=\"go_details(event,null,'https://www.emsc-csem.org/Earthquake/popup_intensmap.php?id=803817&amp;f=/FELTREPORTS/80/803817/IntensityMap.png');\" onmouseout=\"info_b2('notshow','');\" onmouseover=\"info_b2('show','See the &lt;b&gt; Intensity map&lt;/b&gt;');\" style=\"background-color:#33FF00;\">V</span></td><td class=\"tabev6\"><b><i style=\"display:none;\">earthquake</i><a href=\"/Earthquake/earthquake.php?id=803817\">2019-11-07   17:35:21.7</a></b><i class=\"ago\" id=\"ago21\">3hr 32min ago</i></td><td class=\"tabev1\">41.78 </td><td class=\"tabev2\">N  </td><td class=\"tabev1\">13.61 </td><td class=\"tabev2\">E  </td><td class=\"tabev3\">14</td><td class=\"tabev5\" id=\"magtyp21\">ML</td><td class=\"tabev2\">4.4</td><td class=\"tb_region\" id=\"reg21\"> SOUTHERN ITALY</td><td class=\"comment updatetimeno\" id=\"upd21\" style=\"text-align:right;\">2019-11-07 17:57</td></tr>\n",
       "<tr class=\"ligne1 normal\" id=\"803822\" onclick=\"go_details(event,803822);\"><td class=\"tabev0\" style=\"text-align:center;\"><a href=\"https://www.emsc-csem.org/Earthquake/Testimonies/comments.php?id=803822\" onmouseout=\"info_b2('notshow','');\" onmouseover=\"info_b2('show','See the &lt;b&gt;10 testimonies&lt;/b&gt; for this earthquake');\"><span class=\"\" style=\"vertical-align:middle;\">10</span></a></td><td class=\"tabev0\"></td><td class=\"tabev0\"><span class=\"intensity\" onclick=\"go_details(event,null,'https://www.emsc-csem.org/Earthquake/popup_intensmap.php?id=803822&amp;f=/FELTREPORTS/80/803822/IntensityMap.png');\" onmouseout=\"info_b2('notshow','');\" onmouseover=\"info_b2('show','See the &lt;b&gt; Intensity map&lt;/b&gt;');\" style=\"background-color:#00FFFF;\">IV</span></td><td class=\"tabev6\"><b><i style=\"display:none;\">earthquake</i><a href=\"/Earthquake/earthquake.php?id=803822\">2019-11-07   17:29:58.1</a></b><i class=\"ago\" id=\"ago22\">3hr 37min ago</i></td><td class=\"tabev1\">12.85 </td><td class=\"tabev2\">S  </td><td class=\"tabev1\">45.45 </td><td class=\"tabev2\">E  </td><td class=\"tabev3\">40</td><td class=\"tabev5\" id=\"magtyp22\">ML</td><td class=\"tabev2\">4.1</td><td class=\"tb_region\" id=\"reg22\"> MAYOTTE REGION</td><td class=\"comment updatetimeno\" id=\"upd22\" style=\"text-align:right;\">2019-11-07 18:10</td></tr>\n",
       "<tr class=\"ligne2 normal\" id=\"803819\" onclick=\"go_details(event,803819);\"><td class=\"tabev0\"></td><td class=\"tabev0\"></td><td class=\"tabev0\"></td><td class=\"tabev6\"><b><i style=\"display:none;\">earthquake</i><a href=\"/Earthquake/earthquake.php?id=803819\">2019-11-07   17:18:00.0</a></b><i class=\"ago\" id=\"ago23\">3hr 49min ago</i></td><td class=\"tabev1\">12.41 </td><td class=\"tabev2\">S  </td><td class=\"tabev1\">77.18 </td><td class=\"tabev2\">W  </td><td class=\"tabev3\">33</td><td class=\"tabev5\" id=\"magtyp23\"> M</td><td class=\"tabev2\">3.6</td><td class=\"tb_region\" id=\"reg23\"> NEAR COAST OF CENTRAL PERU</td><td class=\"comment updatetimeno\" id=\"upd23\" style=\"text-align:right;\">2019-11-07 17:45</td></tr>\n",
       "<tr class=\"ligne1 normal\" id=\"803811\" onclick=\"go_details(event,803811);\"><td class=\"tabev0\"></td><td class=\"tabev0\"></td><td class=\"tabev0\"></td><td class=\"tabev6\"><b><i style=\"display:none;\">earthquake</i><a href=\"/Earthquake/earthquake.php?id=803811\">2019-11-07   17:11:12.7</a></b><i class=\"ago\" id=\"ago24\">3hr 56min ago</i></td><td class=\"tabev1\">37.77 </td><td class=\"tabev2\">N  </td><td class=\"tabev1\">21.99 </td><td class=\"tabev2\">E  </td><td class=\"tabev3\">13</td><td class=\"tabev5\" id=\"magtyp24\">ML</td><td class=\"tabev2\">2.6</td><td class=\"tb_region\" id=\"reg24\"> SOUTHERN GREECE</td><td class=\"comment updatetimeno\" id=\"upd24\" style=\"text-align:right;\">2019-11-07 18:08</td></tr>\n",
       "<tr class=\"ligne2 normal\" id=\"803810\" onclick=\"go_details(event,803810);\"><td class=\"tabev0\"></td><td class=\"tabev0\"></td><td class=\"tabev0\"></td><td class=\"tabev6\"><b><i style=\"display:none;\">earthquake</i><a href=\"/Earthquake/earthquake.php?id=803810\">2019-11-07   16:50:25.0</a></b><i class=\"ago\" id=\"ago25\">4hr 16min ago</i></td><td class=\"tabev1\">31.78 </td><td class=\"tabev2\">S  </td><td class=\"tabev1\">71.30 </td><td class=\"tabev2\">W  </td><td class=\"tabev3\">58</td><td class=\"tabev5\" id=\"magtyp25\">ML</td><td class=\"tabev2\">3.7</td><td class=\"tb_region\" id=\"reg25\"> COQUIMBO, CHILE</td><td class=\"comment updatetimeno\" id=\"upd25\" style=\"text-align:right;\">2019-11-07 17:05</td></tr>\n",
       "<tr class=\"ligne1 normal\" id=\"803806\" onclick=\"go_details(event,803806);\"><td class=\"tabev0\"></td><td class=\"tabev0\"></td><td class=\"tabev0\"></td><td class=\"tabev6\"><b><i style=\"display:none;\">earthquake</i><a href=\"/Earthquake/earthquake.php?id=803806\">2019-11-07   16:24:29.1</a></b><i class=\"ago\" id=\"ago26\">4hr 42min ago</i></td><td class=\"tabev1\">39.14 </td><td class=\"tabev2\">N  </td><td class=\"tabev1\">20.61 </td><td class=\"tabev2\">E  </td><td class=\"tabev3\">8</td><td class=\"tabev5\" id=\"magtyp26\">ML</td><td class=\"tabev2\">3.1</td><td class=\"tb_region\" id=\"reg26\"> GREECE</td><td class=\"comment updatetimeno\" id=\"upd26\" style=\"text-align:right;\">2019-11-07 16:43</td></tr>\n",
       "<tr class=\"ligne2 normal\" id=\"803802\" onclick=\"go_details(event,803802);\"><td class=\"tabev0\"></td><td class=\"tabev0\"></td><td class=\"tabev0\"></td><td class=\"tabev6\"><b><i style=\"display:none;\">earthquake</i><a href=\"/Earthquake/earthquake.php?id=803802\">2019-11-07   15:40:53.7</a></b><i class=\"ago\" id=\"ago27\">5hr 26min ago</i></td><td class=\"tabev1\">43.93 </td><td class=\"tabev2\">N  </td><td class=\"tabev1\">11.59 </td><td class=\"tabev2\">E  </td><td class=\"tabev3\">8</td><td class=\"tabev5\" id=\"magtyp27\">ML</td><td class=\"tabev2\">2.4</td><td class=\"tb_region\" id=\"reg27\"> CENTRAL ITALY</td><td class=\"comment updatetimeno\" id=\"upd27\" style=\"text-align:right;\">2019-11-07 15:54</td></tr>\n",
       "<tr class=\"ligne1 normal\" id=\"803801\" onclick=\"go_details(event,803801);\"><td class=\"tabev0\"></td><td class=\"tabev0\"></td><td class=\"tabev0\"></td><td class=\"tabev6\"><b><i style=\"display:none;\">earthquake</i><a href=\"/Earthquake/earthquake.php?id=803801\">2019-11-07   15:40:09.0</a></b><i class=\"ago\" id=\"ago28\">5hr 27min ago</i></td><td class=\"tabev1\">31.37 </td><td class=\"tabev2\">S  </td><td class=\"tabev1\">68.55 </td><td class=\"tabev2\">W  </td><td class=\"tabev3\">99</td><td class=\"tabev5\" id=\"magtyp28\"> M</td><td class=\"tabev2\">3.6</td><td class=\"tb_region\" id=\"reg28\"> SAN JUAN, ARGENTINA</td><td class=\"comment updatetimeno\" id=\"upd28\" style=\"text-align:right;\">2019-11-07 15:45</td></tr>\n",
       "<tr class=\"ligne2 normal\" id=\"803798\" onclick=\"go_details(event,803798);\"><td class=\"tabev0\"></td><td class=\"tabev0\"></td><td class=\"tabev0\"></td><td class=\"tabev6\"><b><i style=\"display:none;\">earthquake</i><a href=\"/Earthquake/earthquake.php?id=803798\">2019-11-07   15:14:49.0</a></b><i class=\"ago\" id=\"ago29\">5hr 52min ago</i></td><td class=\"tabev1\">21.65 </td><td class=\"tabev2\">S  </td><td class=\"tabev1\">68.63 </td><td class=\"tabev2\">W  </td><td class=\"tabev3\">128</td><td class=\"tabev5\" id=\"magtyp29\">ML</td><td class=\"tabev2\">3.0</td><td class=\"tb_region\" id=\"reg29\"> ANTOFAGASTA, CHILE</td><td class=\"comment updatetimeno\" id=\"upd29\" style=\"text-align:right;\">2019-11-07 15:27</td></tr>\n",
       "<tr class=\"ligne1 normal\" id=\"803796\" onclick=\"go_details(event,803796);\"><td class=\"tabev0\"></td><td class=\"tabev0\"></td><td class=\"tabev0\"></td><td class=\"tabev6\"><b><i style=\"display:none;\">earthquake</i><a href=\"/Earthquake/earthquake.php?id=803796\">2019-11-07   15:08:11.6</a></b><i class=\"ago\" id=\"ago30\">5hr 59min ago</i></td><td class=\"tabev1\">42.72 </td><td class=\"tabev2\">N  </td><td class=\"tabev1\">13.23 </td><td class=\"tabev2\">E  </td><td class=\"tabev3\">13</td><td class=\"tabev5\" id=\"magtyp30\">ML</td><td class=\"tabev2\">2.3</td><td class=\"tb_region\" id=\"reg30\"> CENTRAL ITALY</td><td class=\"comment updatetimeno\" id=\"upd30\" style=\"text-align:right;\">2019-11-07 15:15</td></tr>\n",
       "<tr class=\"ligne2 normal\" id=\"803794\" onclick=\"go_details(event,803794);\"><td class=\"tabev0\"></td><td class=\"tabev0\"></td><td class=\"tabev0\"></td><td class=\"tabev6\"><b><i style=\"display:none;\">earthquake</i><a href=\"/Earthquake/earthquake.php?id=803794\">2019-11-07   15:01:10.8</a></b><i class=\"ago\" id=\"ago31\">6hr 06min ago</i></td><td class=\"tabev1\">42.73 </td><td class=\"tabev2\">N  </td><td class=\"tabev1\">13.25 </td><td class=\"tabev2\">E  </td><td class=\"tabev3\">11</td><td class=\"tabev5\" id=\"magtyp31\">ML</td><td class=\"tabev2\">2.0</td><td class=\"tb_region\" id=\"reg31\"> CENTRAL ITALY</td><td class=\"comment updatetimeno\" id=\"upd31\" style=\"text-align:right;\">2019-11-07 15:07</td></tr>\n",
       "<tr class=\"ligne1 normal\" id=\"803792\" onclick=\"go_details(event,803792);\"><td class=\"tabev0\" style=\"text-align:center;\"><a href=\"https://www.emsc-csem.org/Earthquake/Testimonies/comments.php?id=803792\" onmouseout=\"info_b2('notshow','');\" onmouseover=\"info_b2('show','See the &lt;b&gt;testimony&lt;/b&gt; for this earthquake');\"><span class=\"\" style=\"vertical-align:middle;\">1</span></a></td><td class=\"tabev0\"></td><td class=\"tabev0\"><span class=\"intensity\" onclick=\"go_details(event,null,'https://www.emsc-csem.org/Earthquake/popup_intensmap.php?id=803792&amp;f=/FELTREPORTS/80/803792/IntensityMap.png');\" onmouseout=\"info_b2('notshow','');\" onmouseover=\"info_b2('show','See the &lt;b&gt; Intensity map&lt;/b&gt;');\" style=\"background-color:#FFFFFF;\">F</span></td><td class=\"tabev6\"><b><i style=\"display:none;\">earthquake</i><a href=\"/Earthquake/earthquake.php?id=803792\">2019-11-07   14:54:15.5</a></b><i class=\"ago\" id=\"ago32\">6hr 13min ago</i></td><td class=\"tabev1\">34.27 </td><td class=\"tabev2\">N  </td><td class=\"tabev1\">119.29 </td><td class=\"tabev2\">W  </td><td class=\"tabev3\">7</td><td class=\"tabev5\" id=\"magtyp32\">Ml</td><td class=\"tabev2\">2.3</td><td class=\"tb_region\" id=\"reg32\"> SANTA BARBARA CHANNEL, CALIF.</td><td class=\"comment updatetimeno\" id=\"upd32\" style=\"text-align:right;\">2019-11-07 14:57</td></tr>\n",
       "<tr class=\"ligne2 normal\" id=\"803791\" onclick=\"go_details(event,803791);\"><td class=\"tabev0\"></td><td class=\"tabev0\"></td><td class=\"tabev0\"><span class=\"intensity\" onclick=\"go_details(event,null,'https://www.emsc-csem.org/Earthquake/popup_intensmap.php?id=803791&amp;f=/FELTREPORTS/80/803791/IntensityMap.png');\" onmouseout=\"info_b2('notshow','');\" onmouseover=\"info_b2('show','See the &lt;b&gt; Intensity map&lt;/b&gt;');\" style=\"background-color:#FFFFFF;\">F</span></td><td class=\"tabev6\"><b><i style=\"display:none;\">earthquake</i><a href=\"/Earthquake/earthquake.php?id=803791\">2019-11-07   14:52:50.5</a></b><i class=\"ago\" id=\"ago33\">6hr 14min ago</i></td><td class=\"tabev1\">34.27 </td><td class=\"tabev2\">N  </td><td class=\"tabev1\">119.29 </td><td class=\"tabev2\">W  </td><td class=\"tabev3\">7</td><td class=\"tabev5\" id=\"magtyp33\">Ml</td><td class=\"tabev2\">2.4</td><td class=\"tb_region\" id=\"reg33\"> SANTA BARBARA CHANNEL, CALIF.</td><td class=\"comment updatetimeno\" id=\"upd33\" style=\"text-align:right;\">2019-11-07 14:56</td></tr>\n",
       "<tr class=\"ligne1 normal\" id=\"803805\" onclick=\"go_details(event,803805);\"><td class=\"tabev0\"></td><td class=\"tabev0\"></td><td class=\"tabev0\"></td><td class=\"tabev6\"><b><i style=\"display:none;\">earthquake</i><a href=\"/Earthquake/earthquake.php?id=803805\">2019-11-07   14:37:54.3</a></b><i class=\"ago\" id=\"ago34\">6hr 29min ago</i></td><td class=\"tabev1\">19.12 </td><td class=\"tabev2\">N  </td><td class=\"tabev1\">67.24 </td><td class=\"tabev2\">W  </td><td class=\"tabev3\">46</td><td class=\"tabev5\" id=\"magtyp34\">Md</td><td class=\"tabev2\">2.5</td><td class=\"tb_region\" id=\"reg34\"> PUERTO RICO REGION</td><td class=\"comment updatetimeno\" id=\"upd34\" style=\"text-align:right;\">2019-11-07 16:19</td></tr>\n",
       "<tr class=\"ligne2 normal\" id=\"803807\" onclick=\"go_details(event,803807);\"><td class=\"tabev0\"></td><td class=\"tabev0\"></td><td class=\"tabev0\"></td><td class=\"tabev6\"><b><i style=\"display:none;\">earthquake</i><a href=\"/Earthquake/earthquake.php?id=803807\">2019-11-07   14:36:33.3</a></b><i class=\"ago\" id=\"ago35\">6hr 30min ago</i></td><td class=\"tabev1\">27.15 </td><td class=\"tabev2\">N  </td><td class=\"tabev1\">55.04 </td><td class=\"tabev2\">E  </td><td class=\"tabev3\">18</td><td class=\"tabev5\" id=\"magtyp35\">ML</td><td class=\"tabev2\">3.9</td><td class=\"tb_region\" id=\"reg35\"> SOUTHERN IRAN</td><td class=\"comment updatetimeno\" id=\"upd35\" style=\"text-align:right;\">2019-11-07 16:46</td></tr>\n",
       "<tr class=\"ligne1 normal\" id=\"803788\" onclick=\"go_details(event,803788);\"><td class=\"tabev0\" style=\"text-align:center;\"><a href=\"https://www.emsc-csem.org/Earthquake/Testimonies/comments.php?id=803788\" onmouseout=\"info_b2('notshow','');\" onmouseover=\"info_b2('show','See the &lt;b&gt;testimony&lt;/b&gt; for this earthquake');\"><span class=\"\" style=\"vertical-align:middle;\">1</span></a></td><td class=\"tabev0\"></td><td class=\"tabev0\"><span class=\"intensity\" onclick=\"go_details(event,null,'https://www.emsc-csem.org/Earthquake/popup_intensmap.php?id=803788&amp;f=/FELTREPORTS/80/803788/IntensityMap.png');\" onmouseout=\"info_b2('notshow','');\" onmouseover=\"info_b2('show','See the &lt;b&gt; Intensity map&lt;/b&gt;');\" style=\"background-color:#FFFFFF;\">F</span></td><td class=\"tabev6\"><b><i style=\"display:none;\">earthquake</i><a href=\"/Earthquake/earthquake.php?id=803788\">2019-11-07   14:33:33.7</a></b><i class=\"ago\" id=\"ago36\">6hr 33min ago</i></td><td class=\"tabev1\">34.28 </td><td class=\"tabev2\">N  </td><td class=\"tabev1\">119.29 </td><td class=\"tabev2\">W  </td><td class=\"tabev3\">11</td><td class=\"tabev5\" id=\"magtyp36\">Ml</td><td class=\"tabev2\">2.4</td><td class=\"tb_region\" id=\"reg36\"> GREATER LOS ANGELES AREA, CALIF.</td><td class=\"comment updatetimeno\" id=\"upd36\" style=\"text-align:right;\">2019-11-07 17:41</td></tr>\n",
       "<tr class=\"ligne2 normal\" id=\"803795\" onclick=\"go_details(event,803795);\"><td class=\"tabev0\"></td><td class=\"tabev0\"></td><td class=\"tabev0\"></td><td class=\"tabev6\"><b><i style=\"display:none;\">earthquake</i><a href=\"/Earthquake/earthquake.php?id=803795\">2019-11-07   14:33:33.0</a></b><i class=\"ago\" id=\"ago37\">6hr 33min ago</i></td><td class=\"tabev1\">19.80 </td><td class=\"tabev2\">N  </td><td class=\"tabev1\">69.83 </td><td class=\"tabev2\">W  </td><td class=\"tabev3\">12</td><td class=\"tabev5\" id=\"magtyp37\"> M</td><td class=\"tabev2\">3.0</td><td class=\"tb_region\" id=\"reg37\"> DOMINICAN REPUBLIC REGION</td><td class=\"comment updatetimeno\" id=\"upd37\" style=\"text-align:right;\">2019-11-07 15:12</td></tr>\n",
       "<tr class=\"ligne1 normal\" id=\"803786\" onclick=\"go_details(event,803786);\"><td class=\"tabev0\"></td><td class=\"tabev0\"></td><td class=\"tabev0\"></td><td class=\"tabev6\"><b><i style=\"display:none;\">earthquake</i><a href=\"/Earthquake/earthquake.php?id=803786\">2019-11-07   14:21:48.6</a></b><i class=\"ago\" id=\"ago38\">6hr 45min ago</i></td><td class=\"tabev1\">3.98 </td><td class=\"tabev2\">S  </td><td class=\"tabev1\">104.01 </td><td class=\"tabev2\">W  </td><td class=\"tabev3\">10</td><td class=\"tabev5\" id=\"magtyp38\">mb</td><td class=\"tabev2\">4.8</td><td class=\"tb_region\" id=\"reg38\"> CENTRAL EAST PACIFIC RISE</td><td class=\"comment updatetimeno\" id=\"upd38\" style=\"text-align:right;\">2019-11-07 14:42</td></tr>\n",
       "<tr class=\"ligne2 normal\" id=\"803793\" onclick=\"go_details(event,803793);\"><td class=\"tabev0\"></td><td class=\"tabev0\"></td><td class=\"tabev0\"></td><td class=\"tabev6\"><b><i style=\"display:none;\">earthquake</i><a href=\"/Earthquake/earthquake.php?id=803793\">2019-11-07   13:34:38.1</a></b><i class=\"ago\" id=\"ago39\">7hr 32min ago</i></td><td class=\"tabev1\">59.02 </td><td class=\"tabev2\">N  </td><td class=\"tabev1\">152.18 </td><td class=\"tabev2\">W  </td><td class=\"tabev3\">65</td><td class=\"tabev5\" id=\"magtyp39\">ML</td><td class=\"tabev2\">2.5</td><td class=\"tb_region\" id=\"reg39\"> SOUTHERN ALASKA</td><td class=\"comment updatetimeno\" id=\"upd39\" style=\"text-align:right;\">2019-11-07 14:57</td></tr>\n",
       "<tr class=\"ligne1 normal\" id=\"803770\" onclick=\"go_details(event,803770);\"><td class=\"tabev0\" style=\"text-align:center;\"><a href=\"https://www.emsc-csem.org/Earthquake/Testimonies/comments.php?id=803770\" onmouseout=\"info_b2('notshow','');\" onmouseover=\"info_b2('show','See the &lt;b&gt;testimony&lt;/b&gt; for this earthquake');\"><span class=\"\" style=\"vertical-align:middle;\">1</span></a></td><td class=\"tabev0\"></td><td class=\"tabev0\"><span class=\"intensity\" onclick=\"go_details(event,null,'https://www.emsc-csem.org/Earthquake/popup_intensmap.php?id=803770&amp;f=/FELTREPORTS/80/803770/IntensityMap.png');\" onmouseout=\"info_b2('notshow','');\" onmouseover=\"info_b2('show','See the &lt;b&gt; Intensity map&lt;/b&gt;');\" style=\"background-color:#FFFFFF;\">F</span></td><td class=\"tabev6\"><b><i style=\"display:none;\">earthquake</i><a href=\"/Earthquake/earthquake.php?id=803770\">2019-11-07   13:30:57.8</a></b><i class=\"ago\" id=\"ago40\">7hr 36min ago</i></td><td class=\"tabev1\">34.27 </td><td class=\"tabev2\">N  </td><td class=\"tabev1\">119.30 </td><td class=\"tabev2\">W  </td><td class=\"tabev3\">3</td><td class=\"tabev5\" id=\"magtyp40\">Ml</td><td class=\"tabev2\">2.1</td><td class=\"tb_region\" id=\"reg40\"> SANTA BARBARA CHANNEL, CALIF.</td><td class=\"comment updatetimeno\" id=\"upd40\" style=\"text-align:right;\">2019-11-07 13:33</td></tr>\n",
       "<tr class=\"ligne2 normal\" id=\"803767\" onclick=\"go_details(event,803767);\"><td class=\"tabev0\"></td><td class=\"tabev0\"></td><td class=\"tabev0\"></td><td class=\"tabev6\"><b><i style=\"display:none;\">earthquake</i><a href=\"/Earthquake/earthquake.php?id=803767\">2019-11-07   13:28:52.7</a></b><i class=\"ago\" id=\"ago41\">7hr 38min ago</i></td><td class=\"tabev1\">36.69 </td><td class=\"tabev2\">N  </td><td class=\"tabev1\">98.44 </td><td class=\"tabev2\">W  </td><td class=\"tabev3\">7</td><td class=\"tabev5\" id=\"magtyp41\">ML</td><td class=\"tabev2\">2.4</td><td class=\"tb_region\" id=\"reg41\"> OKLAHOMA</td><td class=\"comment updatetimeno\" id=\"upd41\" style=\"text-align:right;\">2019-11-07 16:14</td></tr>\n",
       "<tr class=\"ligne1 normal\" id=\"803768\" onclick=\"go_details(event,803768);\"><td class=\"tabev0\"></td><td class=\"tabev0\"></td><td class=\"tabev0\"></td><td class=\"tabev6\"><b><i style=\"display:none;\">earthquake</i><a href=\"/Earthquake/earthquake.php?id=803768\">2019-11-07   13:25:35.3</a></b><i class=\"ago\" id=\"ago42\">7hr 41min ago</i></td><td class=\"tabev1\">46.26 </td><td class=\"tabev2\">N  </td><td class=\"tabev1\">7.01 </td><td class=\"tabev2\">E  </td><td class=\"tabev3\">1</td><td class=\"tabev5\" id=\"magtyp42\">ML</td><td class=\"tabev2\">1.5</td><td class=\"tb_region\" id=\"reg42\"> SWITZERLAND</td><td class=\"comment updatetimeno\" id=\"upd42\" style=\"text-align:right;\">2019-11-07 13:31</td></tr>\n",
       "<tr class=\"ligne2 normal\" id=\"803765\" onclick=\"go_details(event,803765);\"><td class=\"tabev0\" style=\"text-align:center;\"><a href=\"https://www.emsc-csem.org/Earthquake/Testimonies/comments.php?id=803765\" onmouseout=\"info_b2('notshow','');\" onmouseover=\"info_b2('show','See the &lt;b&gt;testimony&lt;/b&gt; for this earthquake');\"><span class=\"\" style=\"vertical-align:middle;\">1</span></a></td><td class=\"tabev0\"></td><td class=\"tabev0\"><span class=\"intensity\" onclick=\"go_details(event,null,'https://www.emsc-csem.org/Earthquake/popup_intensmap.php?id=803765&amp;f=/FELTREPORTS/80/803765/IntensityMap.png');\" onmouseout=\"info_b2('notshow','');\" onmouseover=\"info_b2('show','See the &lt;b&gt; Intensity map&lt;/b&gt;');\" style=\"background-color:#FFFFFF;\">F</span></td><td class=\"tabev6\"><b><i style=\"display:none;\">earthquake</i><a href=\"/Earthquake/earthquake.php?id=803765\">2019-11-07   13:19:44.8</a></b><i class=\"ago\" id=\"ago43\">7hr 47min ago</i></td><td class=\"tabev1\">34.27 </td><td class=\"tabev2\">N  </td><td class=\"tabev1\">119.29 </td><td class=\"tabev2\">W  </td><td class=\"tabev3\">7</td><td class=\"tabev5\" id=\"magtyp43\">Ml</td><td class=\"tabev2\">2.2</td><td class=\"tb_region\" id=\"reg43\"> SANTA BARBARA CHANNEL, CALIF.</td><td class=\"comment updatetimeno\" id=\"upd43\" style=\"text-align:right;\">2019-11-07 13:23</td></tr>\n",
       "<tr class=\"ligne1 normal\" id=\"803769\" onclick=\"go_details(event,803769);\"><td class=\"tabev0\"></td><td class=\"tabev0\"></td><td class=\"tabev0\"></td><td class=\"tabev6\"><b><i style=\"display:none;\">earthquake</i><a href=\"/Earthquake/earthquake.php?id=803769\">2019-11-07   13:16:11.0</a></b><i class=\"ago\" id=\"ago44\">7hr 51min ago</i></td><td class=\"tabev1\">12.97 </td><td class=\"tabev2\">N  </td><td class=\"tabev1\">89.06 </td><td class=\"tabev2\">W  </td><td class=\"tabev3\">48</td><td class=\"tabev5\" id=\"magtyp44\"> M</td><td class=\"tabev2\">3.8</td><td class=\"tb_region\" id=\"reg44\"> OFFSHORE EL SALVADOR</td><td class=\"comment updatetimeno\" id=\"upd44\" style=\"text-align:right;\">2019-11-07 13:30</td></tr>\n",
       "<tr class=\"ligne2 normal\" id=\"803763\" onclick=\"go_details(event,803763);\"><td class=\"tabev0\"></td><td class=\"tabev0\"></td><td class=\"tabev0\"></td><td class=\"tabev6\"><b><i style=\"display:none;\">earthquake</i><a href=\"/Earthquake/earthquake.php?id=803763\">2019-11-07   13:07:32.2</a></b><i class=\"ago\" id=\"ago45\">7hr 59min ago</i></td><td class=\"tabev1\">29.17 </td><td class=\"tabev2\">S  </td><td class=\"tabev1\">12.87 </td><td class=\"tabev2\">W  </td><td class=\"tabev3\">10</td><td class=\"tabev5\" id=\"magtyp45\">mb</td><td class=\"tabev2\">5.0</td><td class=\"tb_region\" id=\"reg45\"> SOUTHERN MID-ATLANTIC RIDGE</td><td class=\"comment updatetimeno\" id=\"upd45\" style=\"text-align:right;\">2019-11-07 15:52</td></tr>\n",
       "<tr class=\"ligne1 normal\" id=\"803762\" onclick=\"go_details(event,803762);\"><td class=\"tabev0\" style=\"text-align:center;\"><a href=\"https://www.emsc-csem.org/Earthquake/Testimonies/comments.php?id=803762\" onmouseout=\"info_b2('notshow','');\" onmouseover=\"info_b2('show','See the &lt;b&gt;25 testimonies&lt;/b&gt; for this earthquake');\"><span class=\"\" style=\"vertical-align:middle;\">25</span></a></td><td class=\"tabev0\"></td><td class=\"tabev0\"><span class=\"intensity\" onclick=\"go_details(event,null,'https://www.emsc-csem.org/Earthquake/popup_intensmap.php?id=803762&amp;f=/FELTREPORTS/80/803762/IntensityMap.png');\" onmouseout=\"info_b2('notshow','');\" onmouseover=\"info_b2('show','See the &lt;b&gt; Intensity map&lt;/b&gt;');\" style=\"background-color:#00FFFF;\">IV</span></td><td class=\"tabev6\"><b><i style=\"display:none;\">earthquake</i><a href=\"/Earthquake/earthquake.php?id=803762\">2019-11-07   13:05:39.4</a></b><i class=\"ago\" id=\"ago46\">8hr 01min ago</i></td><td class=\"tabev1\">34.28 </td><td class=\"tabev2\">N  </td><td class=\"tabev1\">119.29 </td><td class=\"tabev2\">W  </td><td class=\"tabev3\">15</td><td class=\"tabev5\" id=\"magtyp46\">ML</td><td class=\"tabev2\">3.4</td><td class=\"tb_region\" id=\"reg46\"> GREATER LOS ANGELES AREA, CALIF.</td><td class=\"comment updatetimeno\" id=\"upd46\" style=\"text-align:right;\">2019-11-07 15:14</td></tr>\n",
       "<tr class=\"ligne2 normal\" id=\"803771\" onclick=\"go_details(event,803771);\"><td class=\"tabev0\"></td><td class=\"tabev0\"></td><td class=\"tabev0\"></td><td class=\"tabev6\"><b><i style=\"display:none;\">earthquake</i><a href=\"/Earthquake/earthquake.php?id=803771\">2019-11-07   12:59:43.3</a></b><i class=\"ago\" id=\"ago47\">8hr 07min ago</i></td><td class=\"tabev1\">38.13 </td><td class=\"tabev2\">N  </td><td class=\"tabev1\">38.77 </td><td class=\"tabev2\">E  </td><td class=\"tabev3\">7</td><td class=\"tabev5\" id=\"magtyp47\">ML</td><td class=\"tabev2\">2.1</td><td class=\"tb_region\" id=\"reg47\"> EASTERN TURKEY</td><td class=\"comment updatetimeno\" id=\"upd47\" style=\"text-align:right;\">2019-11-07 13:37</td></tr>\n",
       "<tr class=\"ligne1 normal\" id=\"803760\" onclick=\"go_details(event,803760);\"><td class=\"tabev0\" style=\"text-align:center;\"><a href=\"https://www.emsc-csem.org/Earthquake/Testimonies/comments.php?id=803760\" onmouseout=\"info_b2('notshow','');\" onmouseover=\"info_b2('show','See the &lt;b&gt;8 testimonies&lt;/b&gt; for this earthquake');\"><span class=\"\" style=\"vertical-align:middle;\">8</span></a></td><td class=\"tabev0\"></td><td class=\"tabev0\"><span class=\"intensity\" onclick=\"go_details(event,null,'https://www.emsc-csem.org/Earthquake/popup_intensmap.php?id=803760&amp;f=/FELTREPORTS/80/803760/IntensityMap.png');\" onmouseout=\"info_b2('notshow','');\" onmouseover=\"info_b2('show','See the &lt;b&gt; Intensity map&lt;/b&gt;');\" style=\"background-color:#00FFFF;\">IV</span></td><td class=\"tabev6\"><b><i style=\"display:none;\">earthquake</i><a href=\"/Earthquake/earthquake.php?id=803760\">2019-11-07   12:58:41.6</a></b><i class=\"ago\" id=\"ago48\">8hr 08min ago</i></td><td class=\"tabev1\">34.27 </td><td class=\"tabev2\">N  </td><td class=\"tabev1\">119.29 </td><td class=\"tabev2\">W  </td><td class=\"tabev3\">11</td><td class=\"tabev5\" id=\"magtyp48\">Ml</td><td class=\"tabev2\">3.2</td><td class=\"tb_region\" id=\"reg48\"> SANTA BARBARA CHANNEL, CALIF.</td><td class=\"comment updatetimeno\" id=\"upd48\" style=\"text-align:right;\">2019-11-07 15:37</td></tr>\n",
       "<tr class=\"ligne2 normal\" id=\"803761\" onclick=\"go_details(event,803761);\"><td class=\"tabev0\"></td><td class=\"tabev0\"></td><td class=\"tabev0\"></td><td class=\"tabev6\"><b><i style=\"display:none;\">earthquake</i><a href=\"/Earthquake/earthquake.php?id=803761\">2019-11-07   12:50:40.0</a></b><i class=\"ago\" id=\"ago49\">8hr 16min ago</i></td><td class=\"tabev1\">9.86 </td><td class=\"tabev2\">N  </td><td class=\"tabev1\">126.28 </td><td class=\"tabev2\">E  </td><td class=\"tabev3\">15</td><td class=\"tabev5\" id=\"magtyp49\"> M</td><td class=\"tabev2\">4.2</td><td class=\"tb_region\" id=\"reg49\"> MINDANAO, PHILIPPINES</td><td class=\"comment updatetimeno\" id=\"upd49\" style=\"text-align:right;\">2019-11-07 13:00</td></tr>\n",
       "</tbody><tfoot><tr><td colspan=\"13\" style=\"height:3px\"></td></tr> <tr class=\"npages\" id=\"my_pagelist_1\"><td colspan=\"13\"><a class=\"sublink sublinka\" href=\"javascript:void()\" rel=\"nofollow\">1</a><a class=\"sublink\" href=\"/Earthquake/?view=2\">2</a><a class=\"sublink\" href=\"/Earthquake/?view=3\">3</a><a class=\"sublink\" href=\"/Earthquake/?view=4\">4</a><a class=\"sublink\" href=\"/Earthquake/?view=5\">5</a><a class=\"sublink\" href=\"/Earthquake/?view=6\">6</a><a class=\"sublink\" href=\"/Earthquake/?view=7\">7</a><a class=\"sublink\" href=\"/Earthquake/?view=8\">8</a><a class=\"sublink\" href=\"/Earthquake/?view=9\">9</a><a class=\"sublink\" href=\"/Earthquake/?view=10\">10</a><a alt=\"Next page\" class=\"sublink\" href=\"/Earthquake/?view=2\">›</a><a alt=\"Next 10 pages\" class=\"sublink\" href=\"/Earthquake/?view=11\">»</a></td></tr><tr><td colspan=\"13\" style=\"border-bottom:1px solid #000;\"></td></tr></tfoot></table>"
      ]
     },
     "execution_count": 276,
     "metadata": {},
     "output_type": "execute_result"
    }
   ],
   "source": [
    "resTerr = requests.get(url).text\n",
    "soupTerr = BeautifulSoup(resTerr, 'html.parser')\n",
    "tableTerr"
   ]
  },
  {
   "cell_type": "code",
   "execution_count": 308,
   "metadata": {},
   "outputs": [],
   "source": [
    "tableTerr = soupTerr.find_all('table')[3]\n",
    "tableTerr= tableTerr.text\n",
    "\n",
    "date = re.findall(\"[0-9]{4}\\-[0-9]{2}\\-[0-9]{2}\", tableTerr)[:20]\n",
    "time = re.findall(\"[0-9]{2}\\:[0-9]{2}\\:[0-9]{2}\\.[0-9]{2}hr\", tableTerr)[:20]\n",
    "latitude = re.findall(\"[0-9]{2}\\.[0-9]{2}\\s[NS]\", tableTerr)[:20]\n",
    "longitud = re.findall(\"[0-9]{2}\\.[0-9]{2}\\s[WE]\", tableTerr)[:20]"
   ]
  },
  {
   "cell_type": "code",
   "execution_count": 299,
   "metadata": {},
   "outputs": [
    {
     "data": {
      "text/plain": [
       "\"longitud=soupTerr.select('.tabev1')\\nlista_longitud = []\\nfor e in longitud:\\n    e=e.text\\n    e=re.sub('\\xa0','',e)\\n    lista_longitud.append(e)\\nlista_longitud[1:40:2]\""
      ]
     },
     "execution_count": 299,
     "metadata": {},
     "output_type": "execute_result"
    }
   ],
   "source": [
    "\"\"\"longitud=soupTerr.select('.tabev1')\n",
    "lista_longitud = []\n",
    "for e in longitud:\n",
    "    e=e.text\n",
    "    e=re.sub('\\xa0','',e)\n",
    "    lista_longitud.append(e)\n",
    "lista_longitud[1:40:2]\"\"\""
   ]
  },
  {
   "cell_type": "code",
   "execution_count": 304,
   "metadata": {},
   "outputs": [
    {
     "data": {
      "text/plain": [
       "\"latitud=soupTerr.select('.tabev1')\\nlista_latitud = []\\nfor e in latitud:\\n    e=e.text\\n    e=re.sub('\\xa0','',e)\\n    lista_latitud.append(e)\\nlista_latitud[:40:2]\""
      ]
     },
     "execution_count": 304,
     "metadata": {},
     "output_type": "execute_result"
    }
   ],
   "source": [
    "\"\"\"latitud=soupTerr.select('.tabev1')\n",
    "lista_latitud = []\n",
    "for e in latitud:\n",
    "    e=e.text\n",
    "    e=re.sub('\\xa0','',e)\n",
    "    lista_latitud.append(e)\n",
    "lista_latitud[:40:2]\"\"\""
   ]
  },
  {
   "cell_type": "code",
   "execution_count": 310,
   "metadata": {},
   "outputs": [],
   "source": [
    "region = soupTerr.select('.tb_region')\n",
    "lista_region=[]\n",
    "for e in region:\n",
    "    e = e.text\n",
    "    e = re.sub('\\xa0',\"\",e)\n",
    "    lista_region.append(e)\n",
    "lista_region =lista_region[:20]"
   ]
  },
  {
   "cell_type": "code",
   "execution_count": 311,
   "metadata": {},
   "outputs": [
    {
     "data": {
      "text/html": [
       "<div>\n",
       "<style scoped>\n",
       "    .dataframe tbody tr th:only-of-type {\n",
       "        vertical-align: middle;\n",
       "    }\n",
       "\n",
       "    .dataframe tbody tr th {\n",
       "        vertical-align: top;\n",
       "    }\n",
       "\n",
       "    .dataframe thead th {\n",
       "        text-align: right;\n",
       "    }\n",
       "</style>\n",
       "<table border=\"1\" class=\"dataframe\">\n",
       "  <thead>\n",
       "    <tr style=\"text-align: right;\">\n",
       "      <th></th>\n",
       "      <th>0</th>\n",
       "      <th>1</th>\n",
       "      <th>2</th>\n",
       "      <th>3</th>\n",
       "      <th>4</th>\n",
       "    </tr>\n",
       "  </thead>\n",
       "  <tbody>\n",
       "    <tr>\n",
       "      <th>0</th>\n",
       "      <td>2019-11-07</td>\n",
       "      <td>20:00:51.01hr</td>\n",
       "      <td>46.32 N</td>\n",
       "      <td>17.66 W</td>\n",
       "      <td>SWITZERLAND</td>\n",
       "    </tr>\n",
       "    <tr>\n",
       "      <th>1</th>\n",
       "      <td>2019-11-07</td>\n",
       "      <td>19:54:14.91hr</td>\n",
       "      <td>46.30 N</td>\n",
       "      <td>13.60 E</td>\n",
       "      <td>SWITZERLAND</td>\n",
       "    </tr>\n",
       "    <tr>\n",
       "      <th>2</th>\n",
       "      <td>2019-11-07</td>\n",
       "      <td>19:13:40.01hr</td>\n",
       "      <td>35.83 N</td>\n",
       "      <td>68.90 W</td>\n",
       "      <td>CENTRAL CALIFORNIA</td>\n",
       "    </tr>\n",
       "    <tr>\n",
       "      <th>3</th>\n",
       "      <td>2019-11-07</td>\n",
       "      <td>18:56:03.82hr</td>\n",
       "      <td>41.77 N</td>\n",
       "      <td>17.56 W</td>\n",
       "      <td>SOUTHERN ITALY</td>\n",
       "    </tr>\n",
       "    <tr>\n",
       "      <th>4</th>\n",
       "      <td>2019-11-07</td>\n",
       "      <td>18:52:18.12hr</td>\n",
       "      <td>23.22 S</td>\n",
       "      <td>69.05 W</td>\n",
       "      <td>ANTOFAGASTA, CHILE</td>\n",
       "    </tr>\n",
       "    <tr>\n",
       "      <th>5</th>\n",
       "      <td>2019-11-07</td>\n",
       "      <td>18:38:27.42hr</td>\n",
       "      <td>35.71 N</td>\n",
       "      <td>21.06 W</td>\n",
       "      <td>SOUTHERN CALIFORNIA</td>\n",
       "    </tr>\n",
       "    <tr>\n",
       "      <th>6</th>\n",
       "      <td>2019-11-07</td>\n",
       "      <td>18:35:26.22hr</td>\n",
       "      <td>20.48 S</td>\n",
       "      <td>12.48 W</td>\n",
       "      <td>TARAPACA, CHILE</td>\n",
       "    </tr>\n",
       "    <tr>\n",
       "      <th>7</th>\n",
       "      <td>2019-11-07</td>\n",
       "      <td>18:25:00.02hr</td>\n",
       "      <td>35.72 N</td>\n",
       "      <td>72.82 W</td>\n",
       "      <td>CENTRAL CALIFORNIA</td>\n",
       "    </tr>\n",
       "    <tr>\n",
       "      <th>8</th>\n",
       "      <td>2019-11-07</td>\n",
       "      <td>18:21:12.72hr</td>\n",
       "      <td>37.89 N</td>\n",
       "      <td>55.64 W</td>\n",
       "      <td>UTAH</td>\n",
       "    </tr>\n",
       "    <tr>\n",
       "      <th>9</th>\n",
       "      <td>2019-11-07</td>\n",
       "      <td>18:16:30.02hr</td>\n",
       "      <td>46.30 N</td>\n",
       "      <td>86.32 W</td>\n",
       "      <td>SWITZERLAND</td>\n",
       "    </tr>\n",
       "    <tr>\n",
       "      <th>10</th>\n",
       "      <td>2019-11-07</td>\n",
       "      <td>18:00:57.63hr</td>\n",
       "      <td>46.32 N</td>\n",
       "      <td>55.05 E</td>\n",
       "      <td>SWITZERLAND</td>\n",
       "    </tr>\n",
       "    <tr>\n",
       "      <th>11</th>\n",
       "      <td>2019-11-07</td>\n",
       "      <td>17:59:30.03hr</td>\n",
       "      <td>16.36 S</td>\n",
       "      <td>82.81 W</td>\n",
       "      <td>NEAR COAST OF SOUTHERN PERU</td>\n",
       "    </tr>\n",
       "    <tr>\n",
       "      <th>12</th>\n",
       "      <td>2019-11-07</td>\n",
       "      <td>17:54:30.03hr</td>\n",
       "      <td>19.14 N</td>\n",
       "      <td>85.98 W</td>\n",
       "      <td>ISLAND OF HAWAII, HAWAII</td>\n",
       "    </tr>\n",
       "    <tr>\n",
       "      <th>13</th>\n",
       "      <td>2019-11-07</td>\n",
       "      <td>17:52:17.63hr</td>\n",
       "      <td>11.30 N</td>\n",
       "      <td>19.29 W</td>\n",
       "      <td>NEAR COAST OF NICARAGUA</td>\n",
       "    </tr>\n",
       "    <tr>\n",
       "      <th>14</th>\n",
       "      <td>2019-11-07</td>\n",
       "      <td>17:48:50.63hr</td>\n",
       "      <td>27.03 N</td>\n",
       "      <td>55.02 E</td>\n",
       "      <td>SOUTHERN IRAN</td>\n",
       "    </tr>\n",
       "    <tr>\n",
       "      <th>15</th>\n",
       "      <td>2019-11-07</td>\n",
       "      <td>17:47:53.23hr</td>\n",
       "      <td>11.49 N</td>\n",
       "      <td>13.61 E</td>\n",
       "      <td>PANAMA-COSTA RICA BORDER REGION</td>\n",
       "    </tr>\n",
       "    <tr>\n",
       "      <th>16</th>\n",
       "      <td>2019-11-07</td>\n",
       "      <td>17:46:12.93hr</td>\n",
       "      <td>34.27 N</td>\n",
       "      <td>64.57 W</td>\n",
       "      <td>NICARAGUA</td>\n",
       "    </tr>\n",
       "    <tr>\n",
       "      <th>17</th>\n",
       "      <td>2019-11-07</td>\n",
       "      <td>17:35:21.73hr</td>\n",
       "      <td>27.29 N</td>\n",
       "      <td>13.61 E</td>\n",
       "      <td>SANTA BARBARA CHANNEL, CALIF.</td>\n",
       "    </tr>\n",
       "    <tr>\n",
       "      <th>18</th>\n",
       "      <td>2019-11-07</td>\n",
       "      <td>17:29:58.13hr</td>\n",
       "      <td>41.77 N</td>\n",
       "      <td>45.45 E</td>\n",
       "      <td>SOUTHERN IRAN</td>\n",
       "    </tr>\n",
       "    <tr>\n",
       "      <th>19</th>\n",
       "      <td>2019-11-07</td>\n",
       "      <td>17:18:00.03hr</td>\n",
       "      <td>18.71 N</td>\n",
       "      <td>77.18 W</td>\n",
       "      <td>SOUTHERN ITALY</td>\n",
       "    </tr>\n",
       "  </tbody>\n",
       "</table>\n",
       "</div>"
      ],
      "text/plain": [
       "             0              1        2        3  \\\n",
       "0   2019-11-07  20:00:51.01hr  46.32 N  17.66 W   \n",
       "1   2019-11-07  19:54:14.91hr  46.30 N  13.60 E   \n",
       "2   2019-11-07  19:13:40.01hr  35.83 N  68.90 W   \n",
       "3   2019-11-07  18:56:03.82hr  41.77 N  17.56 W   \n",
       "4   2019-11-07  18:52:18.12hr  23.22 S  69.05 W   \n",
       "5   2019-11-07  18:38:27.42hr  35.71 N  21.06 W   \n",
       "6   2019-11-07  18:35:26.22hr  20.48 S  12.48 W   \n",
       "7   2019-11-07  18:25:00.02hr  35.72 N  72.82 W   \n",
       "8   2019-11-07  18:21:12.72hr  37.89 N  55.64 W   \n",
       "9   2019-11-07  18:16:30.02hr  46.30 N  86.32 W   \n",
       "10  2019-11-07  18:00:57.63hr  46.32 N  55.05 E   \n",
       "11  2019-11-07  17:59:30.03hr  16.36 S  82.81 W   \n",
       "12  2019-11-07  17:54:30.03hr  19.14 N  85.98 W   \n",
       "13  2019-11-07  17:52:17.63hr  11.30 N  19.29 W   \n",
       "14  2019-11-07  17:48:50.63hr  27.03 N  55.02 E   \n",
       "15  2019-11-07  17:47:53.23hr  11.49 N  13.61 E   \n",
       "16  2019-11-07  17:46:12.93hr  34.27 N  64.57 W   \n",
       "17  2019-11-07  17:35:21.73hr  27.29 N  13.61 E   \n",
       "18  2019-11-07  17:29:58.13hr  41.77 N  45.45 E   \n",
       "19  2019-11-07  17:18:00.03hr  18.71 N  77.18 W   \n",
       "\n",
       "                                  4  \n",
       "0                       SWITZERLAND  \n",
       "1                       SWITZERLAND  \n",
       "2                CENTRAL CALIFORNIA  \n",
       "3                    SOUTHERN ITALY  \n",
       "4                ANTOFAGASTA, CHILE  \n",
       "5               SOUTHERN CALIFORNIA  \n",
       "6                   TARAPACA, CHILE  \n",
       "7                CENTRAL CALIFORNIA  \n",
       "8                              UTAH  \n",
       "9                       SWITZERLAND  \n",
       "10                      SWITZERLAND  \n",
       "11      NEAR COAST OF SOUTHERN PERU  \n",
       "12         ISLAND OF HAWAII, HAWAII  \n",
       "13          NEAR COAST OF NICARAGUA  \n",
       "14                    SOUTHERN IRAN  \n",
       "15  PANAMA-COSTA RICA BORDER REGION  \n",
       "16                        NICARAGUA  \n",
       "17    SANTA BARBARA CHANNEL, CALIF.  \n",
       "18                    SOUTHERN IRAN  \n",
       "19                   SOUTHERN ITALY  "
      ]
     },
     "execution_count": 311,
     "metadata": {},
     "output_type": "execute_result"
    }
   ],
   "source": [
    "terremotos = pd.DataFrame(list(zip(date,time,latitude,longitud,lista_region)))\n",
    "top= terremotos.head(21)\n",
    "top"
   ]
  },
  {
   "cell_type": "markdown",
   "metadata": {},
   "source": [
    "#### Display the date, days, title, city, country of next 25 hackathon events as a Pandas dataframe table"
   ]
  },
  {
   "cell_type": "code",
   "execution_count": null,
   "metadata": {},
   "outputs": [],
   "source": [
    "# This is the url you will scrape in this exercise\n",
    "url ='https://hackevents.co/hackathons'"
   ]
  },
  {
   "cell_type": "code",
   "execution_count": 320,
   "metadata": {},
   "outputs": [
    {
     "data": {
      "text/plain": [
       "[]"
      ]
     },
     "execution_count": 320,
     "metadata": {},
     "output_type": "execute_result"
    }
   ],
   "source": [
    "#your code\n",
    "resHack = requests.get(url).text\n",
    "soupHack = BeautifulSoup(resHack, 'html.parser')\n",
    "evenHack = soupHack.select('.card-body')\n",
    "evenHack"
   ]
  },
  {
   "cell_type": "markdown",
   "metadata": {},
   "source": [
    "#### Count number of tweets by a given Twitter account."
   ]
  },
  {
   "cell_type": "markdown",
   "metadata": {},
   "source": [
    "You will need to include a ***try/except block*** for account names not found. \n",
    "<br>***Hint:*** the program should count the number of tweets for any provided account"
   ]
  },
  {
   "cell_type": "code",
   "execution_count": null,
   "metadata": {},
   "outputs": [],
   "source": [
    "# This is the url you will scrape in this exercise \n",
    "# You will need to add the account credentials to this url\n",
    "url = 'https://twitter.com/'"
   ]
  },
  {
   "cell_type": "code",
   "execution_count": null,
   "metadata": {},
   "outputs": [],
   "source": [
    "#your code"
   ]
  },
  {
   "cell_type": "markdown",
   "metadata": {},
   "source": [
    "#### Number of followers of a given twitter account"
   ]
  },
  {
   "cell_type": "markdown",
   "metadata": {},
   "source": [
    "You will need to include a ***try/except block*** in case account/s name not found. \n",
    "<br>***Hint:*** the program should count the followers for any provided account"
   ]
  },
  {
   "cell_type": "code",
   "execution_count": null,
   "metadata": {},
   "outputs": [],
   "source": [
    "# This is the url you will scrape in this exercise \n",
    "# You will need to add the account credentials to this url\n",
    "url = 'https://twitter.com/'"
   ]
  },
  {
   "cell_type": "code",
   "execution_count": null,
   "metadata": {},
   "outputs": [],
   "source": [
    "#your code"
   ]
  },
  {
   "cell_type": "markdown",
   "metadata": {},
   "source": [
    "#### List all language names and number of related articles in the order they appear in wikipedia.org"
   ]
  },
  {
   "cell_type": "code",
   "execution_count": null,
   "metadata": {},
   "outputs": [],
   "source": [
    "# This is the url you will scrape in this exercise\n",
    "url = 'https://www.wikipedia.org/'"
   ]
  },
  {
   "cell_type": "code",
   "execution_count": null,
   "metadata": {},
   "outputs": [],
   "source": [
    "#your code"
   ]
  },
  {
   "cell_type": "markdown",
   "metadata": {},
   "source": [
    "#### A list with the different kind of datasets available in data.gov.uk "
   ]
  },
  {
   "cell_type": "code",
   "execution_count": null,
   "metadata": {},
   "outputs": [],
   "source": [
    "# This is the url you will scrape in this exercise\n",
    "url = 'https://data.gov.uk/'"
   ]
  },
  {
   "cell_type": "code",
   "execution_count": null,
   "metadata": {},
   "outputs": [],
   "source": [
    "#your code "
   ]
  },
  {
   "cell_type": "markdown",
   "metadata": {},
   "source": [
    "#### Top 10 languages by number of native speakers stored in a Pandas Dataframe"
   ]
  },
  {
   "cell_type": "code",
   "execution_count": null,
   "metadata": {},
   "outputs": [],
   "source": [
    "# This is the url you will scrape in this exercise\n",
    "url = 'https://en.wikipedia.org/wiki/List_of_languages_by_number_of_native_speakers'"
   ]
  },
  {
   "cell_type": "code",
   "execution_count": null,
   "metadata": {},
   "outputs": [],
   "source": [
    "#your code"
   ]
  },
  {
   "cell_type": "markdown",
   "metadata": {},
   "source": [
    "### BONUS QUESTIONS"
   ]
  },
  {
   "cell_type": "markdown",
   "metadata": {},
   "source": [
    "#### Scrape a certain number of tweets of a given Twitter account."
   ]
  },
  {
   "cell_type": "code",
   "execution_count": null,
   "metadata": {},
   "outputs": [],
   "source": [
    "# This is the url you will scrape in this exercise \n",
    "# You will need to add the account credentials to this url\n",
    "url = 'https://twitter.com/'"
   ]
  },
  {
   "cell_type": "code",
   "execution_count": null,
   "metadata": {},
   "outputs": [],
   "source": [
    "# your code"
   ]
  },
  {
   "cell_type": "markdown",
   "metadata": {},
   "source": [
    "#### IMDB's Top 250 data (movie name, Initial release, director name and stars) as a pandas dataframe"
   ]
  },
  {
   "cell_type": "code",
   "execution_count": null,
   "metadata": {},
   "outputs": [],
   "source": [
    "# This is the url you will scrape in this exercise \n",
    "url = 'https://www.imdb.com/chart/top'"
   ]
  },
  {
   "cell_type": "code",
   "execution_count": null,
   "metadata": {},
   "outputs": [],
   "source": [
    "# your code"
   ]
  },
  {
   "cell_type": "markdown",
   "metadata": {},
   "source": [
    "#### Movie name, year and a brief summary of the top 10 random movies (IMDB) as a pandas dataframe."
   ]
  },
  {
   "cell_type": "code",
   "execution_count": null,
   "metadata": {},
   "outputs": [],
   "source": [
    "#This is the url you will scrape in this exercise\n",
    "url = 'http://www.imdb.com/chart/top'"
   ]
  },
  {
   "cell_type": "code",
   "execution_count": null,
   "metadata": {},
   "outputs": [],
   "source": [
    "#your code"
   ]
  },
  {
   "cell_type": "markdown",
   "metadata": {},
   "source": [
    "#### Find the live weather report (temperature, wind speed, description and weather) of a given city."
   ]
  },
  {
   "cell_type": "code",
   "execution_count": null,
   "metadata": {},
   "outputs": [],
   "source": [
    "#https://openweathermap.org/current\n",
    "city = city=input('Enter the city:')\n",
    "url = 'http://api.openweathermap.org/data/2.5/weather?'+'q='+city+'&APPID=b35975e18dc93725acb092f7272cc6b8&units=metric'"
   ]
  },
  {
   "cell_type": "code",
   "execution_count": null,
   "metadata": {},
   "outputs": [],
   "source": [
    "# your code"
   ]
  },
  {
   "cell_type": "markdown",
   "metadata": {},
   "source": [
    "#### Book name,price and stock availability as a pandas dataframe."
   ]
  },
  {
   "cell_type": "code",
   "execution_count": null,
   "metadata": {},
   "outputs": [],
   "source": [
    "# This is the url you will scrape in this exercise. \n",
    "# It is a fictional bookstore created to be scraped. \n",
    "url = 'http://books.toscrape.com/'"
   ]
  },
  {
   "cell_type": "code",
   "execution_count": null,
   "metadata": {},
   "outputs": [],
   "source": [
    "#your code"
   ]
  }
 ],
 "metadata": {
  "kernelspec": {
   "display_name": "Python 3",
   "language": "python",
   "name": "python3"
  },
  "language_info": {
   "codemirror_mode": {
    "name": "ipython",
    "version": 3
   },
   "file_extension": ".py",
   "mimetype": "text/x-python",
   "name": "python",
   "nbconvert_exporter": "python",
   "pygments_lexer": "ipython3",
   "version": "3.6.8"
  }
 },
 "nbformat": 4,
 "nbformat_minor": 2
}
