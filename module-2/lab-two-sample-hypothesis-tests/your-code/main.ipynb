{
 "cells": [
  {
   "cell_type": "markdown",
   "metadata": {},
   "source": [
    "# Before your start:\n",
    "- Read the README.md file\n",
    "- Comment as much as you can and use the resources (README.md file)\n",
    "- Happy learning!"
   ]
  },
  {
   "cell_type": "code",
   "execution_count": 2,
   "metadata": {},
   "outputs": [],
   "source": [
    "# import numpy and pandas\n",
    "import numpy as np\n",
    "import pandas as pd"
   ]
  },
  {
   "cell_type": "markdown",
   "metadata": {},
   "source": [
    "# Challenge 1 - Independent Sample T-tests\n",
    "\n",
    "In this challenge, we will be using the Pokemon dataset. Before applying statistical methods to this data, let's first examine the data.\n",
    "\n",
    "To load the data, run the code below."
   ]
  },
  {
   "cell_type": "code",
   "execution_count": 3,
   "metadata": {},
   "outputs": [],
   "source": [
    "# Run this code:\n",
    "pokemon = pd.read_csv('../pokemon.csv')"
   ]
  },
  {
   "cell_type": "markdown",
   "metadata": {},
   "source": [
    "Let's start off by looking at the `head` function in the cell below."
   ]
  },
  {
   "cell_type": "code",
   "execution_count": 4,
   "metadata": {},
   "outputs": [
    {
     "data": {
      "text/html": [
       "<div>\n",
       "<style scoped>\n",
       "    .dataframe tbody tr th:only-of-type {\n",
       "        vertical-align: middle;\n",
       "    }\n",
       "\n",
       "    .dataframe tbody tr th {\n",
       "        vertical-align: top;\n",
       "    }\n",
       "\n",
       "    .dataframe thead th {\n",
       "        text-align: right;\n",
       "    }\n",
       "</style>\n",
       "<table border=\"1\" class=\"dataframe\">\n",
       "  <thead>\n",
       "    <tr style=\"text-align: right;\">\n",
       "      <th></th>\n",
       "      <th>#</th>\n",
       "      <th>Name</th>\n",
       "      <th>Type 1</th>\n",
       "      <th>Type 2</th>\n",
       "      <th>Total</th>\n",
       "      <th>HP</th>\n",
       "      <th>Attack</th>\n",
       "      <th>Defense</th>\n",
       "      <th>Sp. Atk</th>\n",
       "      <th>Sp. Def</th>\n",
       "      <th>Speed</th>\n",
       "      <th>Generation</th>\n",
       "      <th>Legendary</th>\n",
       "    </tr>\n",
       "  </thead>\n",
       "  <tbody>\n",
       "    <tr>\n",
       "      <th>0</th>\n",
       "      <td>1</td>\n",
       "      <td>Bulbasaur</td>\n",
       "      <td>Grass</td>\n",
       "      <td>Poison</td>\n",
       "      <td>318</td>\n",
       "      <td>45</td>\n",
       "      <td>49</td>\n",
       "      <td>49</td>\n",
       "      <td>65</td>\n",
       "      <td>65</td>\n",
       "      <td>45</td>\n",
       "      <td>1</td>\n",
       "      <td>False</td>\n",
       "    </tr>\n",
       "    <tr>\n",
       "      <th>1</th>\n",
       "      <td>2</td>\n",
       "      <td>Ivysaur</td>\n",
       "      <td>Grass</td>\n",
       "      <td>Poison</td>\n",
       "      <td>405</td>\n",
       "      <td>60</td>\n",
       "      <td>62</td>\n",
       "      <td>63</td>\n",
       "      <td>80</td>\n",
       "      <td>80</td>\n",
       "      <td>60</td>\n",
       "      <td>1</td>\n",
       "      <td>False</td>\n",
       "    </tr>\n",
       "    <tr>\n",
       "      <th>2</th>\n",
       "      <td>3</td>\n",
       "      <td>Venusaur</td>\n",
       "      <td>Grass</td>\n",
       "      <td>Poison</td>\n",
       "      <td>525</td>\n",
       "      <td>80</td>\n",
       "      <td>82</td>\n",
       "      <td>83</td>\n",
       "      <td>100</td>\n",
       "      <td>100</td>\n",
       "      <td>80</td>\n",
       "      <td>1</td>\n",
       "      <td>False</td>\n",
       "    </tr>\n",
       "    <tr>\n",
       "      <th>3</th>\n",
       "      <td>3</td>\n",
       "      <td>VenusaurMega Venusaur</td>\n",
       "      <td>Grass</td>\n",
       "      <td>Poison</td>\n",
       "      <td>625</td>\n",
       "      <td>80</td>\n",
       "      <td>100</td>\n",
       "      <td>123</td>\n",
       "      <td>122</td>\n",
       "      <td>120</td>\n",
       "      <td>80</td>\n",
       "      <td>1</td>\n",
       "      <td>False</td>\n",
       "    </tr>\n",
       "    <tr>\n",
       "      <th>4</th>\n",
       "      <td>4</td>\n",
       "      <td>Charmander</td>\n",
       "      <td>Fire</td>\n",
       "      <td>NaN</td>\n",
       "      <td>309</td>\n",
       "      <td>39</td>\n",
       "      <td>52</td>\n",
       "      <td>43</td>\n",
       "      <td>60</td>\n",
       "      <td>50</td>\n",
       "      <td>65</td>\n",
       "      <td>1</td>\n",
       "      <td>False</td>\n",
       "    </tr>\n",
       "  </tbody>\n",
       "</table>\n",
       "</div>"
      ],
      "text/plain": [
       "   #                   Name Type 1  Type 2  Total  HP  Attack  Defense  \\\n",
       "0  1              Bulbasaur  Grass  Poison    318  45      49       49   \n",
       "1  2                Ivysaur  Grass  Poison    405  60      62       63   \n",
       "2  3               Venusaur  Grass  Poison    525  80      82       83   \n",
       "3  3  VenusaurMega Venusaur  Grass  Poison    625  80     100      123   \n",
       "4  4             Charmander   Fire     NaN    309  39      52       43   \n",
       "\n",
       "   Sp. Atk  Sp. Def  Speed  Generation  Legendary  \n",
       "0       65       65     45           1      False  \n",
       "1       80       80     60           1      False  \n",
       "2      100      100     80           1      False  \n",
       "3      122      120     80           1      False  \n",
       "4       60       50     65           1      False  "
      ]
     },
     "execution_count": 4,
     "metadata": {},
     "output_type": "execute_result"
    }
   ],
   "source": [
    "# Your code here:\n",
    "pokemon.head()"
   ]
  },
  {
   "cell_type": "markdown",
   "metadata": {},
   "source": [
    "The first thing we would like to do is compare the legendary Pokemon to the regular Pokemon. To do this, we should examine the data further. What is the count of legendary vs. non legendary Pokemons?"
   ]
  },
  {
   "cell_type": "code",
   "execution_count": 5,
   "metadata": {},
   "outputs": [
    {
     "data": {
      "text/plain": [
       "False    735\n",
       "True      65\n",
       "Name: Legendary, dtype: int64"
      ]
     },
     "execution_count": 5,
     "metadata": {},
     "output_type": "execute_result"
    }
   ],
   "source": [
    "# Your code here:\n",
    "\"\"\"for e in range(len(pokemon)):\n",
    "    if pokemon['Legendary'][e]==True:\n",
    "        print(pokemon['#'][e])\"\"\"\n",
    "pokemon['Legendary'].value_counts()"
   ]
  },
  {
   "cell_type": "markdown",
   "metadata": {},
   "source": [
    "Compute the mean and standard deviation of the total points for both legendary and non-legendary Pokemon."
   ]
  },
  {
   "cell_type": "code",
   "execution_count": 10,
   "metadata": {},
   "outputs": [
    {
     "data": {
      "text/plain": [
       "(                Total\n",
       " Legendary            \n",
       " False      417.213605\n",
       " True       637.384615,                 Total\n",
       " Legendary            \n",
       " False      106.760417\n",
       " True        60.937389)"
      ]
     },
     "execution_count": 10,
     "metadata": {},
     "output_type": "execute_result"
    }
   ],
   "source": [
    "# Your code here:\n",
    "\"\"\"mediaLegend = pokemon.Total[pokemon[\"Legendary\"]== True].mean()\n",
    "StdLegend = pokemon.Total[pokemon[\"Legendary\"]== True].std()\n",
    "mediaNoLegend = pokemon.Total[pokemon[\"Legendary\"]== False].mean()\n",
    "StdNoLegend = pokemon.Total[pokemon[\"Legendary\"]== False].std()\n",
    "mediaLegend,StdLegend,mediaNoLegend,StdNoLegend\"\"\"\n",
    "mean = pokemon.groupby('Legendary').agg({'Total': 'mean'})\n",
    "std = pokemon.groupby('Legendary').agg({'Total': 'std'})\n",
    "mean,std"
   ]
  },
  {
   "cell_type": "markdown",
   "metadata": {},
   "source": [
    "The computation of the mean might give us a clue regarding how the statistical test may turn out; However, it certainly does not prove whether there is a significant difference between the two groups.\n",
    "\n",
    "In the cell below, use the `ttest_ind` function in `scipy.stats` to compare the the total points for legendary and non-legendary Pokemon. Since we do not have any information about the population, assume the variances are not equal."
   ]
  },
  {
   "cell_type": "code",
   "execution_count": 16,
   "metadata": {},
   "outputs": [
    {
     "data": {
      "text/plain": [
       "Ttest_indResult(statistic=25.8335743895517, pvalue=9.357954335957446e-47)"
      ]
     },
     "execution_count": 16,
     "metadata": {},
     "output_type": "execute_result"
    }
   ],
   "source": [
    "# Your code here:\n",
    "import scipy.stats\n",
    "legendary = pokemon[pokemon['Legendary']==True]\n",
    "noLegendary= pokemon[pokemon['Legendary']==False]\n",
    "scipy.stats.ttest_ind(legendary['Total'],noLegendary['Total'], equal_var=False)"
   ]
  },
  {
   "cell_type": "code",
   "execution_count": 20,
   "metadata": {},
   "outputs": [
    {
     "data": {
      "text/plain": [
       "[637.3846153846154, 417.21360544217686]"
      ]
     },
     "execution_count": 20,
     "metadata": {},
     "output_type": "execute_result"
    }
   ],
   "source": [
    "[legendary[\"Total\"].mean(), noLegendary[\"Total\"].mean()]"
   ]
  },
  {
   "cell_type": "markdown",
   "metadata": {},
   "source": [
    "What do you conclude from this test? Write your conclusions below."
   ]
  },
  {
   "cell_type": "code",
   "execution_count": 6,
   "metadata": {},
   "outputs": [],
   "source": [
    "# Your conclusions here:\n",
    "#Rechazamos la hipotesis nula, porque p es muy pequeño"
   ]
  },
  {
   "cell_type": "markdown",
   "metadata": {},
   "source": [
    "How about we try to compare the different types of pokemon? In the cell below, list the types of Pokemon from column `Type 1` and the count of each type."
   ]
  },
  {
   "cell_type": "code",
   "execution_count": 24,
   "metadata": {},
   "outputs": [
    {
     "data": {
      "text/plain": [
       "Water       112\n",
       "Normal       98\n",
       "Grass        70\n",
       "Bug          69\n",
       "Psychic      57\n",
       "Fire         52\n",
       "Electric     44\n",
       "Rock         44\n",
       "Ground       32\n",
       "Ghost        32\n",
       "Dragon       32\n",
       "Dark         31\n",
       "Poison       28\n",
       "Fighting     27\n",
       "Steel        27\n",
       "Ice          24\n",
       "Fairy        17\n",
       "Flying        4\n",
       "Name: Type 1, dtype: int64"
      ]
     },
     "execution_count": 24,
     "metadata": {},
     "output_type": "execute_result"
    }
   ],
   "source": [
    "# Your code here:\n",
    "pokemon['Type 1'].value_counts()"
   ]
  },
  {
   "cell_type": "markdown",
   "metadata": {},
   "source": [
    "Since water is the largest group of Pokemon, compare the mean and standard deviation of water Pokemon to all other Pokemon."
   ]
  },
  {
   "cell_type": "code",
   "execution_count": 27,
   "metadata": {},
   "outputs": [
    {
     "data": {
      "text/plain": [
       "(             Total\n",
       " Type 1            \n",
       " False   435.859012\n",
       " True    430.455357,              Total\n",
       " Type 1            \n",
       " False   121.091682\n",
       " True    113.188266)"
      ]
     },
     "execution_count": 27,
     "metadata": {},
     "output_type": "execute_result"
    }
   ],
   "source": [
    "# Your code here:\n",
    "mean = pokemon.groupby(pokemon['Type 1']=='Water').agg({'Total': 'mean'})\n",
    "std = pokemon.groupby(pokemon['Type 1']=='Water').agg({'Total': 'std'})\n",
    "mean,std"
   ]
  },
  {
   "cell_type": "markdown",
   "metadata": {},
   "source": [
    "Perform a hypothesis test comparing the mean of total points for water Pokemon to all non-water Pokemon. Assume the variances are equal. "
   ]
  },
  {
   "cell_type": "code",
   "execution_count": 31,
   "metadata": {},
   "outputs": [
    {
     "data": {
      "text/plain": [
       "Ttest_indResult(statistic=-0.4638681676327303, pvalue=0.6433915385821449)"
      ]
     },
     "execution_count": 31,
     "metadata": {},
     "output_type": "execute_result"
    }
   ],
   "source": [
    "# Your code here:\n",
    "waterPokemon = pokemon[pokemon['Type 1']=='Water']\n",
    "noWaterPokemon= pokemon[pokemon['Type 1']!='Water']\n",
    "scipy.stats.ttest_ind(waterPokemon['Total'],noWaterPokemon['Total'], equal_var=False)"
   ]
  },
  {
   "cell_type": "markdown",
   "metadata": {},
   "source": [
    "Write your conclusion below."
   ]
  },
  {
   "cell_type": "code",
   "execution_count": 32,
   "metadata": {},
   "outputs": [],
   "source": [
    "# Your conclusions here:\n",
    "#No podemos rechazar la hipotesis nula, ya que p>0.05"
   ]
  },
  {
   "cell_type": "markdown",
   "metadata": {},
   "source": [
    "# Challenge 2 - Matched Pairs Test\n",
    "\n",
    "In this challenge we will compare dependent samples of data describing our Pokemon. Our goal is to see whether there is a significant difference between each Pokemon's defense and attack scores. Our hypothesis is that the defense and attack scores are equal. In the cell below, import the `ttest_rel` function from `scipy.stats` and compare the two columns to see if there is a statistically significant difference between them."
   ]
  },
  {
   "cell_type": "code",
   "execution_count": 35,
   "metadata": {},
   "outputs": [
    {
     "data": {
      "text/plain": [
       "Ttest_relResult(statistic=4.325566393330478, pvalue=1.7140303479358558e-05)"
      ]
     },
     "execution_count": 35,
     "metadata": {},
     "output_type": "execute_result"
    }
   ],
   "source": [
    "# Your code here:\n",
    "scipy.stats.ttest_rel(pokemon.Attack,pokemon.Defense)"
   ]
  },
  {
   "cell_type": "markdown",
   "metadata": {},
   "source": [
    "Describe the results of the test in the cell below."
   ]
  },
  {
   "cell_type": "code",
   "execution_count": 36,
   "metadata": {},
   "outputs": [],
   "source": [
    "# Your conclusions here:\n",
    "#Rechazo la hipotesis nula,ya que p es menor de 0.05 y por lo tanto estoy segura que las medias son iguales."
   ]
  },
  {
   "cell_type": "markdown",
   "metadata": {},
   "source": [
    "We are also curious about whether therer is a significant difference between the mean of special defense and the mean of special attack. Perform the hypothesis test in the cell below. "
   ]
  },
  {
   "cell_type": "code",
   "execution_count": 38,
   "metadata": {},
   "outputs": [
    {
     "data": {
      "text/plain": [
       "Ttest_relResult(statistic=0.853986188453353, pvalue=0.3933685997548122)"
      ]
     },
     "execution_count": 38,
     "metadata": {},
     "output_type": "execute_result"
    }
   ],
   "source": [
    "# Your code here:\n",
    "scipy.stats.ttest_rel(pokemon['Sp. Atk'],pokemon['Sp. Def'])"
   ]
  },
  {
   "cell_type": "markdown",
   "metadata": {},
   "source": [
    "Describe the results of the test in the cell below."
   ]
  },
  {
   "cell_type": "code",
   "execution_count": 39,
   "metadata": {},
   "outputs": [],
   "source": [
    "# Your conclusions here:\n",
    "#No puedo rechazar la hipotesis nula, ya que no estoy dentro de mi intervalo de confianza"
   ]
  },
  {
   "cell_type": "markdown",
   "metadata": {},
   "source": [
    "As you may recall, a two sample matched pairs test can also be expressed as a one sample test of the difference between the two dependent columns.\n",
    "\n",
    "Import the `ttest_1samp` function and perform a one sample t-test of the difference between defense and attack. Test the hypothesis that the difference between the means is zero. Confirm that the results of the test are the same."
   ]
  },
  {
   "cell_type": "code",
   "execution_count": 51,
   "metadata": {},
   "outputs": [
    {
     "data": {
      "text/plain": [
       "Ttest_1sampResult(statistic=0       7.015443\n",
       "1      -8.229997\n",
       "2     -28.557250\n",
       "3     -50.917229\n",
       "4      12.097257\n",
       "         ...    \n",
       "795   -28.557250\n",
       "796   -89.539011\n",
       "797   -79.375384\n",
       "798   -99.702637\n",
       "799   -59.048130\n",
       "Name: Sp. Atk, Length: 800, dtype: float64, pvalue=array([4.89045229e-012, 7.58885274e-016, 3.57080632e-124, 4.80087044e-253,\n",
       "       4.69982139e-031, 7.58885274e-016, 1.57483773e-179, 1.17677530e-293,\n",
       "       0.00000000e+000, 8.60111527e-086, 4.89045229e-012, 1.16031779e-036,\n",
       "       2.57677566e-317, 1.62792119e-262, 7.77956642e-236, 2.84460772e-063,\n",
       "       1.62792119e-262, 7.77956642e-236, 1.03786591e-116, 8.25618653e-288,\n",
       "       2.32603849e-178, 8.60111527e-086, 5.35115497e-002, 2.57677566e-317,\n",
       "       7.77956642e-236, 8.60111527e-086, 5.55729667e-202, 1.20915474e-026,\n",
       "       7.45575210e-148, 4.89045229e-012, 8.60111527e-086, 2.84460772e-063,\n",
       "       1.62792119e-262, 1.03786591e-116, 7.45575210e-148, 1.56503795e-056,\n",
       "       1.70392474e-003, 7.45575210e-148, 1.56503795e-056, 1.16031779e-036,\n",
       "       4.69982139e-031, 4.27621944e-093, 8.60111527e-086, 2.06814744e-019,\n",
       "       1.03786591e-116, 1.16031779e-036, 9.25628455e-208, 4.89045229e-012,\n",
       "       1.70392474e-003, 1.16031779e-036, 1.69036138e-185, 1.03786591e-116,\n",
       "       4.69982139e-031, 7.45575210e-148, 2.84460772e-063, 2.32603849e-178,\n",
       "       8.60111527e-086, 7.45575210e-148, 4.89045229e-012, 4.89045229e-012,\n",
       "       4.27621944e-093, 2.32603849e-178, 4.69982139e-031, 5.35115497e-002,\n",
       "       3.57080632e-124, 7.45575210e-148, 8.60111527e-086, 5.35115497e-002,\n",
       "       3.16750793e-155, 2.43811314e-242, 2.57677566e-317, 0.00000000e+000,\n",
       "       2.32603849e-178, 8.60111527e-086, 4.89045229e-012, 5.35115497e-002,\n",
       "       1.16031779e-036, 3.57080632e-124, 8.60111527e-086, 7.58885274e-016,\n",
       "       9.25628455e-208, 1.03786591e-116, 1.56503795e-056, 4.89045229e-012,\n",
       "       7.58885274e-016, 7.45575210e-148, 3.57080632e-124, 1.17677530e-293,\n",
       "       4.27621944e-093, 2.43811314e-242, 1.25506314e-040, 2.32603849e-178,\n",
       "       4.69982139e-031, 1.03786591e-116, 5.35115497e-002, 7.45575210e-148,\n",
       "       4.89045229e-012, 1.03786591e-116, 1.16031779e-036, 3.57080632e-124,\n",
       "       1.35328551e-214, 1.17677530e-293, 0.00000000e+000, 9.25628455e-208,\n",
       "       3.36144210e-129, 2.64989566e-001, 7.77956642e-236, 8.60111527e-086,\n",
       "       1.56503795e-056, 7.58885274e-016, 4.69982139e-031, 1.10113401e-268,\n",
       "       7.45575210e-148, 8.60111527e-086, 2.32603849e-178, 2.32603849e-178,\n",
       "       4.69982139e-031, 4.69982139e-031, 1.16031779e-036, 9.25628455e-208,\n",
       "       1.03786591e-116, 2.32603849e-178, 3.57080632e-124, 7.45575210e-148,\n",
       "       4.69982139e-031, 5.35115497e-002, 4.27621944e-093, 2.32603849e-178,\n",
       "       4.89045229e-012, 5.35115497e-002, 3.57080632e-124, 3.57080632e-124,\n",
       "       1.56503795e-056, 1.35328551e-214, 4.27621944e-093, 3.57080632e-124,\n",
       "       1.56503795e-056, 4.89045229e-012, 7.45575210e-148, 8.25618653e-288,\n",
       "       4.69982139e-031, 5.35115497e-002, 1.16031779e-036, 4.68993814e-098,\n",
       "       1.03786591e-116, 1.69036138e-185, 1.69036138e-185, 4.27621944e-093,\n",
       "       1.16031779e-036, 2.84460772e-063, 1.35328551e-214, 1.56503795e-056,\n",
       "       4.89045229e-012, 4.69982139e-031, 5.35115497e-002, 4.89045229e-012,\n",
       "       4.27621944e-093, 1.10113401e-268, 1.10113401e-268, 8.60111527e-086,\n",
       "       5.35115497e-002, 3.57080632e-124, 0.00000000e+000, 0.00000000e+000,\n",
       "       0.00000000e+000, 3.57080632e-124, 6.73137579e-092, 1.08787601e-018,\n",
       "       1.75318126e-027, 4.69982139e-031, 7.58885274e-016, 1.57483773e-179,\n",
       "       5.89831176e-123, 1.00734197e-035, 1.26626522e-012, 2.32603849e-178,\n",
       "       1.03786591e-116, 2.45433904e-172, 3.45923071e-005, 7.45575210e-148,\n",
       "       1.56503795e-056, 7.45575210e-148, 4.69982139e-031, 5.35115497e-002,\n",
       "       4.70617796e-051, 3.45923071e-005, 2.32603849e-178, 1.03786591e-116,\n",
       "       7.45575210e-148, 7.45575210e-148, 7.58885274e-016, 5.35115497e-002,\n",
       "       4.27621944e-093, 4.89045229e-012, 7.58885274e-016, 1.35328551e-214,\n",
       "       0.00000000e+000, 2.84460772e-063, 1.62792119e-262, 4.69982139e-031,\n",
       "       9.25628455e-208, 2.84460772e-063, 2.32603849e-178, 1.03786591e-116,\n",
       "       1.56503795e-056, 7.45575210e-148, 9.25628455e-208, 3.16750793e-155,\n",
       "       1.70392474e-003, 7.77956642e-236, 4.89045229e-012, 1.17677530e-293,\n",
       "       4.69982139e-031, 1.16031779e-036, 3.57080632e-124, 1.16031779e-036,\n",
       "       9.21087412e-001, 2.86623770e-190, 2.84460772e-063, 2.32603849e-178,\n",
       "       4.69982139e-031, 4.89045229e-012, 2.32603849e-178, 1.56503795e-056,\n",
       "       1.56503795e-056, 7.45575210e-148, 4.69982139e-031, 1.56503795e-056,\n",
       "       1.56503795e-056, 4.89045229e-012, 8.92399997e-312, 7.45575210e-148,\n",
       "       7.45575210e-148, 2.32603849e-178, 8.60111527e-086, 1.70392474e-003,\n",
       "       5.35115497e-002, 7.58885274e-016, 9.25628455e-208, 4.69982139e-031,\n",
       "       4.89045229e-012, 4.89045229e-012, 3.16750793e-155, 4.89045229e-012,\n",
       "       7.58885274e-016, 7.45575210e-148, 7.58885274e-016, 1.69036138e-185,\n",
       "       0.00000000e+000, 4.27621944e-093, 7.45575210e-148, 4.69982139e-031,\n",
       "       3.16750793e-155, 1.16031779e-036, 1.62792119e-262, 2.32603849e-178,\n",
       "       2.32603849e-178, 1.16031779e-036, 4.89045229e-012, 5.35115497e-002,\n",
       "       7.45575210e-148, 1.70392474e-003, 1.35328551e-214, 2.84460772e-063,\n",
       "       2.84460772e-063, 1.03786591e-116, 4.89045229e-012, 4.27621944e-093,\n",
       "       4.27621944e-093, 2.84460772e-063, 1.69036138e-185, 3.57080632e-124,\n",
       "       4.89045229e-012, 1.16031779e-036, 3.16750793e-155, 0.00000000e+000,\n",
       "       5.35115497e-002, 1.16031779e-036, 1.69036138e-185, 1.17677530e-293,\n",
       "       8.60111527e-086, 4.69982139e-031, 1.16031779e-036, 4.27621944e-093,\n",
       "       9.25628455e-208, 4.69982139e-031, 9.25628455e-208, 8.60111527e-086,\n",
       "       1.62792119e-262, 7.77956642e-236, 3.57080632e-124, 7.77956642e-236,\n",
       "       8.60111527e-086, 7.45575210e-148, 4.69982139e-031, 2.84460772e-063,\n",
       "       9.25628455e-208, 4.69982139e-031, 2.84460772e-063, 9.25628455e-208,\n",
       "       8.60111527e-086, 1.56503795e-056, 1.16031779e-036, 1.03786591e-116,\n",
       "       4.89045229e-012, 1.10113401e-268, 0.00000000e+000, 8.60111527e-086,\n",
       "       7.58885274e-016, 7.45575210e-148, 4.69982139e-031, 2.32603849e-178,\n",
       "       1.56503795e-056, 4.27621944e-093, 9.25628455e-208, 8.60111527e-086,\n",
       "       9.25628455e-208, 9.48371042e-080, 3.59279366e-001, 4.71499040e-069,\n",
       "       1.62792119e-262, 7.45575210e-148, 1.62792119e-262, 1.03786591e-116,\n",
       "       2.32603849e-178, 1.56503795e-056, 4.89045229e-012, 1.16031779e-036,\n",
       "       1.56503795e-056, 1.56503795e-056, 7.45575210e-148, 8.60111527e-086,\n",
       "       4.69982139e-031, 4.69982139e-031, 7.45575210e-148, 4.69982139e-031,\n",
       "       7.58885274e-016, 4.89045229e-012, 3.16750793e-155, 2.57677566e-317,\n",
       "       1.16031779e-036, 1.70392474e-003, 2.99332421e-104, 2.64989566e-001,\n",
       "       3.57080632e-124, 3.36144210e-129, 2.64989566e-001, 4.89045229e-012,\n",
       "       4.27621944e-093, 1.69036138e-185, 5.35115497e-002, 2.84460772e-063,\n",
       "       4.89045229e-012, 3.16750793e-155, 0.00000000e+000, 1.16031779e-036,\n",
       "       5.35115497e-002, 2.84460772e-063, 4.69982139e-031, 1.03786591e-116,\n",
       "       8.60111527e-086, 7.58885274e-016, 1.16031779e-036, 1.35328551e-214,\n",
       "       7.45575210e-148, 5.35115497e-002, 1.69036138e-185, 4.69982139e-031,\n",
       "       3.57080632e-124, 4.27621944e-093, 1.56503795e-056, 1.79632171e-110,\n",
       "       3.45923071e-005, 8.60111527e-086, 2.84460772e-063, 7.45575210e-148,\n",
       "       5.35115497e-002, 1.20915474e-026, 2.06814744e-019, 7.45575210e-148,\n",
       "       5.35115497e-002, 8.92399997e-312, 3.57080632e-124, 5.35115497e-002,\n",
       "       4.69982139e-031, 1.08787601e-018, 1.75318126e-027, 6.37395401e-081,\n",
       "       9.25628455e-208, 4.69982139e-031, 9.21087412e-001, 4.27621944e-093,\n",
       "       1.70392474e-003, 1.35328551e-214, 1.12458665e-246, 8.60111527e-086,\n",
       "       7.58885274e-016, 2.43811314e-242, 1.56503795e-056, 1.70392474e-003,\n",
       "       4.27621944e-093, 3.33260634e-002, 5.60250880e-087, 7.01195915e-209,\n",
       "       1.03786591e-116, 7.45575210e-148, 7.45575210e-148, 4.69982139e-031,\n",
       "       1.69036138e-185, 2.43811314e-242, 2.32603849e-178, 1.56503795e-056,\n",
       "       4.27621944e-093, 3.16750793e-155, 8.60111527e-086, 3.57080632e-124,\n",
       "       1.70392474e-003, 1.69036138e-185, 0.00000000e+000, 1.17677530e-293,\n",
       "       0.00000000e+000, 0.00000000e+000, 0.00000000e+000, 3.57080632e-124,\n",
       "       0.00000000e+000, 0.00000000e+000, 0.00000000e+000, 3.57080632e-124,\n",
       "       0.00000000e+000, 0.00000000e+000, 5.35115497e-002, 4.27621944e-093,\n",
       "       1.03786591e-116, 1.56503795e-056, 1.70392474e-003, 1.25506314e-040,\n",
       "       9.19629804e-010, 4.64232113e-149, 1.20915474e-026, 2.06814744e-019,\n",
       "       2.02514496e-191, 9.25628455e-208, 7.45575210e-148, 8.60111527e-086,\n",
       "       2.32603849e-178, 1.56503795e-056, 7.77956642e-236, 1.56503795e-056,\n",
       "       7.45575210e-148, 4.69982139e-031, 4.27621944e-093, 8.60111527e-086,\n",
       "       1.10113401e-268, 9.25628455e-208, 4.89045229e-012, 1.95460065e-135,\n",
       "       2.99332421e-104, 1.74362942e-213, 1.26626522e-012, 1.00734197e-035,\n",
       "       3.27062076e-003, 5.60250880e-087, 9.25628455e-208, 7.58885274e-016,\n",
       "       1.03786591e-116, 4.69982139e-031, 1.16031779e-036, 1.62737904e-022,\n",
       "       9.12648809e-047, 9.57517066e-046, 6.09061859e-075, 4.69982139e-031,\n",
       "       4.69982139e-031, 2.84460772e-063, 5.89831176e-123, 3.69059475e-062,\n",
       "       3.69059475e-062, 3.16750793e-155, 3.16750793e-155, 1.95460065e-135,\n",
       "       3.43572885e-015, 4.89045229e-012, 1.17774282e-141, 3.59279366e-001,\n",
       "       2.77257017e-241, 1.26626522e-012, 8.92399997e-312, 5.35115497e-002,\n",
       "       8.25618653e-288, 6.09061859e-075, 6.09061859e-075, 7.45575210e-148,\n",
       "       8.60111527e-086, 7.58885274e-016, 2.43811314e-242, 7.45575210e-148,\n",
       "       2.32603849e-178, 1.35328551e-214, 0.00000000e+000, 3.63360886e-160,\n",
       "       7.95326274e-005, 9.25628455e-208, 4.69982139e-031, 1.20915474e-026,\n",
       "       1.30848666e-041, 2.84460772e-063, 6.73137579e-092, 3.27062076e-003,\n",
       "       4.69982139e-031, 1.62737904e-022, 6.09061859e-075, 2.84251235e-303,\n",
       "       1.03786591e-116, 1.17677530e-293, 7.58885274e-016, 1.56503795e-056,\n",
       "       1.69036138e-185, 4.27621944e-093, 1.10113401e-268, 2.43811314e-242,\n",
       "       2.96093464e-220, 4.69982139e-031, 1.17677530e-293, 1.03786591e-116,\n",
       "       5.35115497e-002, 2.57677566e-317, 4.89045229e-012, 4.89045229e-012,\n",
       "       1.70392474e-003, 4.89045229e-012, 7.58885274e-016, 4.27621944e-093,\n",
       "       3.16750793e-155, 3.16750793e-155, 3.16750793e-155, 3.16750793e-155,\n",
       "       3.16750793e-155, 1.70392474e-003, 3.16750793e-155, 1.10113401e-268,\n",
       "       0.00000000e+000, 0.00000000e+000, 1.17677530e-293, 7.58885274e-016,\n",
       "       3.57080632e-124, 2.43811314e-242, 1.70392474e-003, 7.58885274e-016,\n",
       "       3.57080632e-124, 2.57677566e-317, 3.57080632e-124, 2.43811314e-242,\n",
       "       2.43811314e-242, 3.57080632e-124, 1.03786591e-116, 4.69982139e-031,\n",
       "       1.70392474e-003, 1.03786591e-116, 5.35115497e-002, 3.57080632e-124,\n",
       "       1.08787601e-018, 1.75318126e-027, 1.62921088e-173, 2.32603849e-178,\n",
       "       4.69982139e-031, 7.77956642e-236, 2.32603849e-178, 1.03786591e-116,\n",
       "       8.60111527e-086, 4.14091266e-052, 6.45255542e-068, 1.09374327e-111,\n",
       "       6.45255542e-068, 1.09374327e-111, 6.45255542e-068, 1.09374327e-111,\n",
       "       7.68876519e-007, 1.86027904e-167, 2.45433904e-172, 8.60111527e-086,\n",
       "       4.89045229e-012, 8.60111527e-086, 7.58885274e-016, 7.77956642e-236,\n",
       "       8.60111527e-086, 4.69982139e-031, 1.56503795e-056, 2.79801379e-007,\n",
       "       9.25628455e-208, 8.60111527e-086, 4.69982139e-031, 7.58885274e-016,\n",
       "       7.77956642e-236, 7.45575210e-148, 1.56503795e-056, 8.60111527e-086,\n",
       "       4.89045229e-012, 1.16031779e-036, 9.25628455e-208, 9.25628455e-208,\n",
       "       7.45575210e-148, 8.60111527e-086, 5.35115497e-002, 9.25628455e-208,\n",
       "       7.45575210e-148, 1.56503795e-056, 2.85464429e-166, 2.79801379e-007,\n",
       "       5.35115497e-002, 1.69036138e-185, 7.58885274e-016, 2.32603849e-178,\n",
       "       1.03786591e-116, 4.89045229e-012, 8.25618653e-288, 9.25628455e-208,\n",
       "       0.00000000e+000, 2.32805748e-161, 2.32603849e-178, 4.89045229e-012,\n",
       "       2.32603849e-178, 1.03786591e-116, 7.25225026e-143, 1.56503795e-056,\n",
       "       4.27621944e-093, 6.45255542e-068, 1.75318126e-027, 3.33260634e-002,\n",
       "       2.72001742e-197, 7.45575210e-148, 4.69982139e-031, 7.58885274e-016,\n",
       "       2.43811314e-242, 7.45575210e-148, 4.89045229e-012, 1.56503795e-056,\n",
       "       1.70392474e-003, 4.27621944e-093, 3.16750793e-155, 1.10113401e-268,\n",
       "       1.10113401e-268, 5.89831176e-123, 9.12648809e-047, 4.89045229e-012,\n",
       "       7.58885274e-016, 1.69036138e-185, 7.45575210e-148, 4.69982139e-031,\n",
       "       1.70392474e-003, 7.45575210e-148, 4.69982139e-031, 1.56503795e-056,\n",
       "       1.16031779e-036, 4.89045229e-012, 1.16031779e-036, 7.45575210e-148,\n",
       "       9.57517066e-046, 1.83938621e-105, 2.77257017e-241, 3.69059475e-062,\n",
       "       1.03786591e-116, 5.35115497e-002, 5.35115497e-002, 1.03786591e-116,\n",
       "       1.70392474e-003, 3.16750793e-155, 1.16031779e-036, 1.10113401e-268,\n",
       "       4.89045229e-012, 4.27621944e-093, 0.00000000e+000, 9.25628455e-208,\n",
       "       7.45575210e-148, 4.69982139e-031, 4.69982139e-031, 5.35115497e-002,\n",
       "       4.27621944e-093, 7.45575210e-148, 3.57080632e-124, 2.06814744e-019,\n",
       "       1.56503795e-056, 4.27621944e-093, 4.69982139e-031, 2.32603849e-178,\n",
       "       1.56503795e-056, 7.45575210e-148, 4.69982139e-031, 7.45575210e-148,\n",
       "       2.85464429e-166, 9.57517066e-046, 1.03786591e-116, 1.56503795e-056,\n",
       "       3.16750793e-155, 4.68993814e-098, 1.03786591e-116, 4.89045229e-012,\n",
       "       1.10113401e-268, 8.60111527e-086, 2.57677566e-317, 2.84460772e-063,\n",
       "       9.21087412e-001, 2.84460772e-063, 1.10113401e-268, 1.69036138e-185,\n",
       "       1.10113401e-268, 0.00000000e+000, 0.00000000e+000, 2.43811314e-242,\n",
       "       1.35328551e-214, 3.16750793e-155, 1.17677530e-293, 2.43811314e-242,\n",
       "       0.00000000e+000, 9.07096470e-289, 9.07096470e-289, 7.90154312e-284,\n",
       "       2.79801379e-007, 2.43811314e-242, 4.68993814e-098, 4.70617796e-051,\n",
       "       3.33260634e-002, 1.62737904e-022, 2.84460772e-063, 7.01195915e-209,\n",
       "       1.62737904e-022, 1.75318126e-027, 7.25225026e-143, 3.76368719e-196,\n",
       "       8.60111527e-086, 7.45575210e-148, 4.70617796e-051, 3.33260634e-002,\n",
       "       9.01984232e-225, 9.01984232e-225, 2.84460772e-063, 2.64989566e-001,\n",
       "       1.57483773e-179, 1.20915474e-026, 1.70392474e-003, 2.72001742e-197,\n",
       "       1.62737904e-022, 1.83938621e-105, 1.79632171e-110, 3.27062076e-003,\n",
       "       4.89045229e-012, 1.08787601e-018, 1.75318126e-027, 1.75318126e-027,\n",
       "       2.32603849e-178, 1.03786591e-116, 0.00000000e+000, 8.60111527e-086,\n",
       "       1.08787601e-018, 6.28888641e-118, 1.00734197e-035, 1.16031779e-036,\n",
       "       2.85464429e-166, 7.95326274e-005, 5.01985611e-154, 3.69059475e-062,\n",
       "       4.69982139e-031, 1.83938621e-105, 1.25506314e-040, 2.43811314e-242,\n",
       "       1.20915474e-026, 1.57483773e-179, 1.03786591e-116, 3.27062076e-003,\n",
       "       7.68876519e-007, 6.28888641e-118, 1.69036138e-185, 3.33260634e-002,\n",
       "       2.06814744e-019, 8.60111527e-086, 1.56503795e-056, 1.75318126e-027,\n",
       "       1.69036138e-185, 7.58885274e-016, 8.60111527e-086, 4.89045229e-012,\n",
       "       5.89831176e-123, 5.89831176e-123, 5.89831176e-123, 5.89831176e-123,\n",
       "       1.25506314e-040, 1.25506314e-040, 1.25506314e-040, 1.25506314e-040,\n",
       "       3.76368719e-196, 5.89831176e-123, 1.03786591e-116, 1.83938621e-105,\n",
       "       1.72284742e-298, 1.72284742e-298, 2.06814744e-019, 3.57080632e-124,\n",
       "       0.00000000e+000, 0.00000000e+000, 0.00000000e+000, 1.17677530e-293]))"
      ]
     },
     "execution_count": 51,
     "metadata": {},
     "output_type": "execute_result"
    }
   ],
   "source": [
    "# Your code here:\n",
    "from scipy.stats import ttest_1samp\n",
    "ttest_1samp(pokemon['Sp. Def'],pokemon['Sp. Atk'])"
   ]
  },
  {
   "cell_type": "markdown",
   "metadata": {},
   "source": [
    "# Bonus Challenge - The Chi-Square Test\n",
    "\n",
    "The Chi-Square test is used to determine whether there is a statistically significant difference in frequencies. In other words, we are testing whether there is a relationship between categorical variables or rather when the variables are independent. This test is an alternative to Fisher's exact test and is used in scenarios where sample sizes are larger. However, with a large enough sample size, both tests produce similar results. Read more about the Chi Squared test [here](https://en.wikipedia.org/wiki/Chi-squared_test).\n",
    "\n",
    "In the cell below, create a contingency table using `pd.crosstab` comparing whether a Pokemon is legenadary or not and whether the Type 1 of a Pokemon is water or not."
   ]
  },
  {
   "cell_type": "code",
   "execution_count": 52,
   "metadata": {},
   "outputs": [
    {
     "data": {
      "text/html": [
       "<div>\n",
       "<style scoped>\n",
       "    .dataframe tbody tr th:only-of-type {\n",
       "        vertical-align: middle;\n",
       "    }\n",
       "\n",
       "    .dataframe tbody tr th {\n",
       "        vertical-align: top;\n",
       "    }\n",
       "\n",
       "    .dataframe thead th {\n",
       "        text-align: right;\n",
       "    }\n",
       "</style>\n",
       "<table border=\"1\" class=\"dataframe\">\n",
       "  <thead>\n",
       "    <tr style=\"text-align: right;\">\n",
       "      <th>Type 1</th>\n",
       "      <th>False</th>\n",
       "      <th>True</th>\n",
       "    </tr>\n",
       "    <tr>\n",
       "      <th>Legendary</th>\n",
       "      <th></th>\n",
       "      <th></th>\n",
       "    </tr>\n",
       "  </thead>\n",
       "  <tbody>\n",
       "    <tr>\n",
       "      <th>False</th>\n",
       "      <td>627</td>\n",
       "      <td>108</td>\n",
       "    </tr>\n",
       "    <tr>\n",
       "      <th>True</th>\n",
       "      <td>61</td>\n",
       "      <td>4</td>\n",
       "    </tr>\n",
       "  </tbody>\n",
       "</table>\n",
       "</div>"
      ],
      "text/plain": [
       "Type 1     False  True \n",
       "Legendary              \n",
       "False        627    108\n",
       "True          61      4"
      ]
     },
     "execution_count": 52,
     "metadata": {},
     "output_type": "execute_result"
    }
   ],
   "source": [
    "# Your code here:\n",
    "crossTab = pd.crosstab(pokemon['Legendary'],pokemon['Type 1']=='Water')\n",
    "crossTab"
   ]
  },
  {
   "cell_type": "markdown",
   "metadata": {},
   "source": [
    "Perform a chi-squared test using the `chi2_contingency` function in `scipy.stats`. You can read the documentation of the function [here](https://docs.scipy.org/doc/scipy-0.15.1/reference/generated/scipy.stats.chi2_contingency.html)."
   ]
  },
  {
   "cell_type": "code",
   "execution_count": 53,
   "metadata": {},
   "outputs": [
    {
     "data": {
      "text/plain": [
       "(2.9429200762850503, 0.08625467249550949, 1, array([[632.1, 102.9],\n",
       "        [ 55.9,   9.1]]))"
      ]
     },
     "execution_count": 53,
     "metadata": {},
     "output_type": "execute_result"
    }
   ],
   "source": [
    "# Your code here:\n",
    "scipy.stats.chi2_contingency(crossTab)"
   ]
  },
  {
   "cell_type": "markdown",
   "metadata": {},
   "source": [
    "Based on a 95% confidence, should we reject the null hypothesis?"
   ]
  },
  {
   "cell_type": "code",
   "execution_count": 19,
   "metadata": {},
   "outputs": [],
   "source": [
    "# Your answer here:\n",
    "#No puedo rechazar la hipotesis nula en un intervalo de confianza del 95% ya que el p es del 8%"
   ]
  },
  {
   "cell_type": "code",
   "execution_count": null,
   "metadata": {},
   "outputs": [],
   "source": []
  }
 ],
 "metadata": {
  "kernelspec": {
   "display_name": "Python 3",
   "language": "python",
   "name": "python3"
  },
  "language_info": {
   "codemirror_mode": {
    "name": "ipython",
    "version": 3
   },
   "file_extension": ".py",
   "mimetype": "text/x-python",
   "name": "python",
   "nbconvert_exporter": "python",
   "pygments_lexer": "ipython3",
   "version": "3.6.8"
  }
 },
 "nbformat": 4,
 "nbformat_minor": 2
}
